{
 "cells": [
  {
   "cell_type": "code",
   "execution_count": null,
   "id": "ec3d0a88",
   "metadata": {},
   "outputs": [],
   "source": [
    "# unzipping images zip\n",
    "! unzip images.zip"
   ]
  },
  {
   "cell_type": "code",
   "execution_count": null,
   "id": "42000b18",
   "metadata": {},
   "outputs": [],
   "source": [
    "import logging\n",
    "import boto3\n",
    "from botocore.exceptions import ClientError\n",
    "import os"
   ]
  },
  {
   "cell_type": "code",
   "execution_count": null,
   "id": "cd7e3d34",
   "metadata": {},
   "outputs": [],
   "source": [
    "#Read Files in Bucket\n",
    "session = boto3.Session()\n",
    "s3 = session.resource('s3')\n",
    "my_bucket = s3.Bucket('module1iot')\n",
    "for object in my_bucket.objects.all():\n",
    "    key = object.key\n",
    "    print(key)"
   ]
  },
  {
   "cell_type": "code",
   "execution_count": null,
   "id": "293f379f",
   "metadata": {},
   "outputs": [],
   "source": [
    "# upload one file \n",
    "def upload_file(file_name, bucket, object_name=None):\n",
    "    \"\"\"Upload a file to an S3 bucket\n",
    "\n",
    "    :param file_name: File to upload\n",
    "    :param bucket: Bucket to upload to\n",
    "    :param object_name: S3 object name with path. If not specified then file_name is used. \n",
    "    :return: True if file was uploaded, else False\n",
    "    \"\"\"\n",
    "\n",
    "    # If S3 object_name was not specified, use file_name\n",
    "    if object_name is None:\n",
    "        object_name = os.path.basename(file_name)\n",
    "\n",
    "    # Upload the file\n",
    "    s3_client = boto3.client('s3')\n",
    "    try:\n",
    "        response = s3_client.upload_file(file_name, bucket, object_name)\n",
    "    except ClientError as e:\n",
    "        logging.error(e)\n",
    "        return False\n",
    "    return True\n"
   ]
  },
  {
   "cell_type": "code",
   "execution_count": null,
   "id": "22ddbbbc",
   "metadata": {},
   "outputs": [],
   "source": [
    "# upload all files of a directory\n",
    "def upload_files(directory_path): \n",
    "    for file_name in os.listdir(directory_path):\n",
    "        upload_file(f'{directory_path}/{file_name}', 'module1iot', f'attila/images/{file_name}')"
   ]
  },
  {
   "cell_type": "code",
   "execution_count": null,
   "id": "e03bf6a8",
   "metadata": {},
   "outputs": [],
   "source": [
    "upload_files('images')"
   ]
  },
  {
   "cell_type": "code",
   "execution_count": null,
   "id": "e6e26b17",
   "metadata": {},
   "outputs": [],
   "source": [
    "# save all file names in the subfolder into a .txt\n",
    "def print_files(subfolder_path):\n",
    "    for object in my_bucket.objects.filter(Prefix=f'{subfolder_path}'):\n",
    "        with open('bucket_files.txt', 'a') as f:\n",
    "            print(object.key, file = f)"
   ]
  },
  {
   "cell_type": "code",
   "execution_count": null,
   "id": "d8b14cdd",
   "metadata": {},
   "outputs": [],
   "source": [
    "print_files('attila/images/')"
   ]
  },
  {
   "cell_type": "code",
   "execution_count": null,
   "id": "dbd75a16",
   "metadata": {},
   "outputs": [],
   "source": [
    "# uploading the txt file\n",
    "upload_file('bucket_files.txt', 'module1iot', 'attila/bucket_files.txt')"
   ]
  }
 ],
 "metadata": {
  "kernelspec": {
   "display_name": "conda_python3",
   "language": "python",
   "name": "conda_python3"
  },
  "language_info": {
   "codemirror_mode": {
    "name": "ipython",
    "version": 3
   },
   "file_extension": ".py",
   "mimetype": "text/x-python",
   "name": "python",
   "nbconvert_exporter": "python",
   "pygments_lexer": "ipython3",
   "version": "3.8.12"
  }
 },
 "nbformat": 4,
 "nbformat_minor": 5
}
