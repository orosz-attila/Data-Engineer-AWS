{
 "cells": [
  {
   "cell_type": "markdown",
   "id": "d101b0cd",
   "metadata": {},
   "source": [
    "## 1. Open the text file "
   ]
  },
  {
   "cell_type": "code",
   "execution_count": 30,
   "id": "0b1e198e",
   "metadata": {},
   "outputs": [],
   "source": [
    "with open(\"heine_loreley.txt\") as f:\n",
    "    text = f.readlines()"
   ]
  },
  {
   "cell_type": "code",
   "execution_count": 31,
   "id": "4b3f8d42",
   "metadata": {},
   "outputs": [
    {
     "data": {
      "text/plain": [
       "['Ich weiß nicht, was soll es bedeuten,\\n',\n",
       " 'Daß ich so traurig bin;\\n',\n",
       " 'Ein Märchen ans alten Zeiten,\\n',\n",
       " 'Das kommt mir nicht aus dem Sinn.\\n',\n",
       " 'Die Luft ist kühl und es dunkelt,\\n',\n",
       " 'Und ruhig fließt der Rhein;\\n',\n",
       " 'Der Gipfel des Berges funkelt\\n',\n",
       " 'Im Abendsonnenschein.\\n',\n",
       " 'Die schönste Jungfrau sitzet\\n',\n",
       " 'Dort oben wunderbar,\\n',\n",
       " 'Ihr goldnes Geschmeide blitzet,\\n',\n",
       " 'Sie kämmt ihr goldenes Haar.\\n',\n",
       " 'Sie kämmt es mit goldenem Kamme,\\n',\n",
       " 'Und singt ein Lied dabei;\\n',\n",
       " 'Das hat eine wundersame,\\n',\n",
       " 'Gewaltige Melodei.\\n',\n",
       " 'Den Schiffer im kleinen Schiffe\\n',\n",
       " 'Ergreift es mit wildem Weh;\\n',\n",
       " 'Er schaut nicht die Felsenriffe,\\n',\n",
       " 'Er schaut nur hinauf in die Höh’.\\n',\n",
       " 'Ich glaube, die Wellen verschlingen\\n',\n",
       " 'Am Ende Schiffer und Kahn;\\n',\n",
       " 'Und das hat mit ihrem Singen\\n',\n",
       " 'Die Lorelei getan.\\n']"
      ]
     },
     "execution_count": 31,
     "metadata": {},
     "output_type": "execute_result"
    }
   ],
   "source": [
    "text"
   ]
  },
  {
   "cell_type": "code",
   "execution_count": 159,
   "id": "327443f3",
   "metadata": {},
   "outputs": [
    {
     "name": "stdout",
     "output_type": "stream",
     "text": [
      "Ich weiß nicht, was soll es bedeuten, Daß ich so traurig bin; Ein Märchen ans alten Zeiten, Das kommt mir nicht aus dem Sinn. Die Luft ist kühl und es dunkelt, Und ruhig fließt der Rhein; Der Gipfel des Berges funkelt Im Abendsonnenschein. Die schönste Jungfrau sitzet Dort oben wunderbar, Ihr goldnes Geschmeide blitzet, Sie kämmt ihr goldenes Haar. Sie kämmt es mit goldenem Kamme, Und singt ein Lied dabei; Das hat eine wundersame, Gewaltige Melodei. Den Schiffer im kleinen Schiffe Ergreift es mit wildem Weh; Er schaut nicht die Felsenriffe, Er schaut nur hinauf in die Höh’. Ich glaube, die Wellen verschlingen Am Ende Schiffer und Kahn; Und das hat mit ihrem Singen Die Lorelei getan. \n"
     ]
    }
   ],
   "source": [
    "with open('heine_loreley.txt', 'r') as file:\n",
    "    text_continous = file.read().replace('\\n', ' ')\n",
    "print(text_continous)"
   ]
  },
  {
   "cell_type": "code",
   "execution_count": 80,
   "id": "19908881",
   "metadata": {},
   "outputs": [
    {
     "name": "stdout",
     "output_type": "stream",
     "text": [
      "Ich weiß nicht, was soll es bedeuten,\n",
      "Daß ich so traurig bin;\n",
      "Ein Märchen ans alten Zeiten,\n",
      "Das kommt mir nicht aus dem Sinn.\n",
      "Die Luft ist kühl und es dunkelt,\n",
      "Und ruhig fließt der Rhein;\n",
      "Der Gipfel des Berges funkelt\n",
      "Im Abendsonnenschein.\n",
      "Die schönste Jungfrau sitzet\n",
      "Dort oben wunderbar,\n",
      "Ihr goldnes Geschmeide blitzet,\n",
      "Sie kämmt ihr goldenes Haar.\n",
      "Sie kämmt es mit goldenem Kamme,\n",
      "Und singt ein Lied dabei;\n",
      "Das hat eine wundersame,\n",
      "Gewaltige Melodei.\n",
      "Den Schiffer im kleinen Schiffe\n",
      "Ergreift es mit wildem Weh;\n",
      "Er schaut nicht die Felsenriffe,\n",
      "Er schaut nur hinauf in die Höh’.\n",
      "Ich glaube, die Wellen verschlingen\n",
      "Am Ende Schiffer und Kahn;\n",
      "Und das hat mit ihrem Singen\n",
      "Die Lorelei getan.\n",
      "\n"
     ]
    }
   ],
   "source": [
    "file = open(\"heine_loreley.txt\", \"r\")\n",
    " \n",
    "#read whole file to a string\n",
    "text_line = file.read()\n",
    " \n",
    "#close file\n",
    "file.close()\n",
    " \n",
    "print(text_line)"
   ]
  },
  {
   "cell_type": "markdown",
   "id": "cb08c8f1",
   "metadata": {},
   "source": [
    "## 2. Teile einen text in seine Saetze / Divide a text into its sentences"
   ]
  },
  {
   "cell_type": "code",
   "execution_count": null,
   "id": "4e49daeb",
   "metadata": {},
   "outputs": [],
   "source": [
    "import nltk"
   ]
  },
  {
   "cell_type": "code",
   "execution_count": 72,
   "id": "359edd65",
   "metadata": {},
   "outputs": [
    {
     "name": "stderr",
     "output_type": "stream",
     "text": [
      "[nltk_data] Downloading package punkt to /home/ec2-user/nltk_data...\n",
      "[nltk_data]   Unzipping tokenizers/punkt.zip.\n"
     ]
    },
    {
     "data": {
      "text/plain": [
       "True"
      ]
     },
     "execution_count": 72,
     "metadata": {},
     "output_type": "execute_result"
    }
   ],
   "source": [
    "nltk.download('punkt')"
   ]
  },
  {
   "cell_type": "code",
   "execution_count": 78,
   "id": "ec9c6400",
   "metadata": {},
   "outputs": [],
   "source": [
    "def sentence_split(text): \n",
    "\n",
    "    tokens = nltk.sent_tokenize(text)\n",
    "    for t in tokens:\n",
    "        print (t, \"\\n\")"
   ]
  },
  {
   "cell_type": "code",
   "execution_count": 79,
   "id": "950ccbe6",
   "metadata": {},
   "outputs": [
    {
     "name": "stdout",
     "output_type": "stream",
     "text": [
      "Ich weiß nicht, was soll es bedeuten, Daß ich so traurig bin; Ein Märchen ans alten Zeiten, Das kommt mir nicht aus dem Sinn. \n",
      "\n",
      "Die Luft ist kühl und es dunkelt, Und ruhig fließt der Rhein; Der Gipfel des Berges funkelt Im Abendsonnenschein. \n",
      "\n",
      "Die schönste Jungfrau sitzet Dort oben wunderbar, Ihr goldnes Geschmeide blitzet, Sie kämmt ihr goldenes Haar. \n",
      "\n",
      "Sie kämmt es mit goldenem Kamme, Und singt ein Lied dabei; Das hat eine wundersame, Gewaltige Melodei. \n",
      "\n",
      "Den Schiffer im kleinen Schiffe Ergreift es mit wildem Weh; Er schaut nicht die Felsenriffe, Er schaut nur hinauf in die Höh’. \n",
      "\n",
      "Ich glaube, die Wellen verschlingen Am Ende Schiffer und Kahn; Und das hat mit ihrem Singen Die Lorelei getan. \n",
      "\n"
     ]
    }
   ],
   "source": [
    "sentence_split(text_continous)"
   ]
  },
  {
   "cell_type": "markdown",
   "id": "09a21e98",
   "metadata": {},
   "source": [
    "## 3. Teile einen text in seine Saetze"
   ]
  },
  {
   "cell_type": "markdown",
   "id": "1ae9fa4c",
   "metadata": {},
   "source": [
    "Below code will remove all punctuation marks as well as non alphabetic characters."
   ]
  },
  {
   "cell_type": "code",
   "execution_count": 82,
   "id": "7e732689",
   "metadata": {},
   "outputs": [
    {
     "name": "stdout",
     "output_type": "stream",
     "text": [
      "['ich', 'weiß', 'nicht', 'was', 'soll', 'es', 'bedeuten', 'daß', 'ich', 'so', 'traurig', 'bin', 'ein', 'märchen', 'ans', 'alten', 'zeiten', 'das', 'kommt', 'mir', 'nicht', 'aus', 'dem', 'sinn', 'die', 'luft', 'ist', 'kühl', 'und', 'es', 'dunkelt', 'und', 'ruhig', 'fließt', 'der', 'rhein', 'der', 'gipfel', 'des', 'berges', 'funkelt', 'im', 'abendsonnenschein', 'die', 'schönste', 'jungfrau', 'sitzet', 'dort', 'oben', 'wunderbar', 'ihr', 'goldnes', 'geschmeide', 'blitzet', 'sie', 'kämmt', 'ihr', 'goldenes', 'haar', 'sie', 'kämmt', 'es', 'mit', 'goldenem', 'kamme', 'und', 'singt', 'ein', 'lied', 'dabei', 'das', 'hat', 'eine', 'wundersame', 'gewaltige', 'melodei', 'den', 'schiffer', 'im', 'kleinen', 'schiffe', 'ergreift', 'es', 'mit', 'wildem', 'weh', 'er', 'schaut', 'nicht', 'die', 'felsenriffe', 'er', 'schaut', 'nur', 'hinauf', 'in', 'die', 'höh', 'ich', 'glaube', 'die', 'wellen', 'verschlingen', 'am', 'ende', 'schiffer', 'und', 'kahn', 'und', 'das', 'hat', 'mit', 'ihrem', 'singen', 'die', 'lorelei', 'getan']\n"
     ]
    }
   ],
   "source": [
    "words = nltk.word_tokenize(text_continous)\n",
    "\n",
    "words = [word.lower() for word in words if word.isalpha()]\n",
    "\n",
    "print(words)"
   ]
  },
  {
   "cell_type": "code",
   "execution_count": 102,
   "id": "0e750f81",
   "metadata": {},
   "outputs": [],
   "source": [
    "def word_split (text):\n",
    "    words = nltk.word_tokenize(text)\n",
    "    words = [word.lower() for word in words if word.isalpha()]\n",
    "    return words"
   ]
  },
  {
   "cell_type": "code",
   "execution_count": 103,
   "id": "791f571f",
   "metadata": {},
   "outputs": [],
   "source": [
    "word_list = word_split(text_continous)"
   ]
  },
  {
   "cell_type": "markdown",
   "id": "ef09f82b",
   "metadata": {},
   "source": [
    "## 4. Geb eine WordCount-Liste aus \n",
    "    - Keys: 'ich', 'sie'\n",
    "    - Values: 0"
   ]
  },
  {
   "cell_type": "code",
   "execution_count": 138,
   "id": "4977501d",
   "metadata": {},
   "outputs": [],
   "source": [
    "def one_word_count (text, word):\n",
    "    words = nltk.word_tokenize(text)\n",
    "    words = [word.lower() for word in words if word.isalpha()]\n",
    "    count = words.count(word)\n",
    "    dict = {word: count}\n",
    "    return dict"
   ]
  },
  {
   "cell_type": "code",
   "execution_count": 139,
   "id": "2c03e3ea",
   "metadata": {},
   "outputs": [
    {
     "data": {
      "text/plain": [
       "{'sie': 2}"
      ]
     },
     "execution_count": 139,
     "metadata": {},
     "output_type": "execute_result"
    }
   ],
   "source": [
    "one_word_count (text_continous, 'sie')"
   ]
  },
  {
   "cell_type": "markdown",
   "id": "118a8491",
   "metadata": {},
   "source": [
    "## 5. Zaehle die Woerter eines Textes und schreibe die Ergebnisse in eine Wordcount-Liste / Count the words of a text and write the results in a word count list"
   ]
  },
  {
   "cell_type": "code",
   "execution_count": 141,
   "id": "3659160e",
   "metadata": {},
   "outputs": [],
   "source": [
    "def all_words_count (text):\n",
    "    words = nltk.word_tokenize(text)\n",
    "    words = [word.lower() for word in words if word.isalpha()]\n",
    "    \n",
    "    dict = {}\n",
    "    \n",
    "    for word in words:\n",
    "        dict[word]=words.count(word)\n",
    "    return dict"
   ]
  },
  {
   "cell_type": "code",
   "execution_count": 142,
   "id": "86d6dfdc",
   "metadata": {
    "scrolled": true
   },
   "outputs": [],
   "source": [
    "word_count_dict = all_words_count (text_continous)"
   ]
  },
  {
   "cell_type": "code",
   "execution_count": 143,
   "id": "940cdf5f",
   "metadata": {},
   "outputs": [
    {
     "data": {
      "text/plain": [
       "dict"
      ]
     },
     "execution_count": 143,
     "metadata": {},
     "output_type": "execute_result"
    }
   ],
   "source": [
    "type(word_count_dict)"
   ]
  },
  {
   "cell_type": "markdown",
   "id": "ae760b76",
   "metadata": {},
   "source": [
    "## 6. Schreibe die WordCount_liste in eine Datei "
   ]
  },
  {
   "cell_type": "code",
   "execution_count": 128,
   "id": "7996b709",
   "metadata": {},
   "outputs": [],
   "source": [
    "import json"
   ]
  },
  {
   "cell_type": "code",
   "execution_count": 154,
   "id": "023b5d52",
   "metadata": {},
   "outputs": [],
   "source": [
    "def save_file (file_name, dict):\n",
    "    with open(f'{file_name}.txt', 'w') as file:\n",
    "        file.write(json.dumps(dict))"
   ]
  },
  {
   "cell_type": "code",
   "execution_count": 152,
   "id": "3e0cdbcc",
   "metadata": {},
   "outputs": [],
   "source": [
    "def save_file (file_name, dict):\n",
    "    with open(f'{file_name}.txt', 'w', encoding = 'utf-8') as file:\n",
    "        for key, value in dict.items(): \n",
    "            file.write(\"%s %s\\n\" % (key, value))"
   ]
  },
  {
   "cell_type": "code",
   "execution_count": 155,
   "id": "55ffb3e1",
   "metadata": {},
   "outputs": [],
   "source": [
    "save_file ('word_count_dictionary', word_count_dict)"
   ]
  }
 ],
 "metadata": {
  "kernelspec": {
   "display_name": "Python 3.8.12 ('base')",
   "language": "python",
   "name": "python3"
  },
  "language_info": {
   "codemirror_mode": {
    "name": "ipython",
    "version": 3
   },
   "file_extension": ".py",
   "mimetype": "text/x-python",
   "name": "python",
   "nbconvert_exporter": "python",
   "pygments_lexer": "ipython3",
   "version": "3.8.12"
  },
  "vscode": {
   "interpreter": {
    "hash": "8bbaf081f8b3bca6151094b17c56870e42b6483d70c4ebda089a89290f7fe980"
   }
  }
 },
 "nbformat": 4,
 "nbformat_minor": 5
}
