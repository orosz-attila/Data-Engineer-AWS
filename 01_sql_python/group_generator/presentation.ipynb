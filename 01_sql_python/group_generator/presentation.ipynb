{
 "cells": [
  {
   "cell_type": "markdown",
   "id": "ba6d5832",
   "metadata": {
    "slideshow": {
     "slide_type": "slide"
    }
   },
   "source": [
    "<h1 align=\"center\">Fortune of Wheel</h1>\n",
    "\n",
    "<h2 align=\"center\">Group Generator</h2>"
   ]
  },
  {
   "cell_type": "markdown",
   "id": "d363d115",
   "metadata": {
    "slideshow": {
     "slide_type": "slide"
    }
   },
   "source": [
    "### 1. Importing libraries"
   ]
  },
  {
   "cell_type": "code",
   "execution_count": null,
   "id": "6d53a63b",
   "metadata": {
    "slideshow": {
     "slide_type": "-"
    }
   },
   "outputs": [],
   "source": [
    "from faker import Faker\n",
    "import pandas as pd\n",
    "import random\n",
    "import math"
   ]
  },
  {
   "cell_type": "markdown",
   "id": "5c046249",
   "metadata": {
    "slideshow": {
     "slide_type": "slide"
    }
   },
   "source": [
    "### 2. Faker\n",
    "\n",
    "##### https://github.com/joke2k/faker - it generates random names, emails, phone numbers etc.  "
   ]
  },
  {
   "cell_type": "code",
   "execution_count": null,
   "id": "aeb011a2",
   "metadata": {
    "slideshow": {
     "slide_type": "-"
    }
   },
   "outputs": [],
   "source": [
    "# initiating instance with Faker Class \n",
    "fake = Faker()"
   ]
  },
  {
   "cell_type": "code",
   "execution_count": null,
   "id": "05e3de94",
   "metadata": {},
   "outputs": [],
   "source": [
    "fake.name()"
   ]
  },
  {
   "cell_type": "code",
   "execution_count": null,
   "id": "3fb13f62",
   "metadata": {
    "slideshow": {
     "slide_type": "slide"
    }
   },
   "outputs": [],
   "source": [
    "for _ in range(33):\n",
    "    print(fake.name())"
   ]
  },
  {
   "cell_type": "markdown",
   "id": "97604c73",
   "metadata": {
    "slideshow": {
     "slide_type": "slide"
    }
   },
   "source": [
    "### 3. List of participants with random fake names"
   ]
  },
  {
   "cell_type": "code",
   "execution_count": null,
   "id": "b9b20252",
   "metadata": {
    "slideshow": {
     "slide_type": "-"
    }
   },
   "outputs": [],
   "source": [
    "def create_participant(k):\n",
    "    \"\"\"Returns a list of participants with random fake names\"\"\"\n",
    "    fake = Faker()\n",
    "    list_participant = []\n",
    "    for _ in range(k):\n",
    "        list_participant.append(fake.name())\n",
    "    return list_participant"
   ]
  },
  {
   "cell_type": "code",
   "execution_count": null,
   "id": "5c482743",
   "metadata": {
    "slideshow": {
     "slide_type": "slide"
    }
   },
   "outputs": [],
   "source": [
    "list_participant = create_participant(23)\n",
    "list_participant"
   ]
  },
  {
   "cell_type": "markdown",
   "id": "b714fa72",
   "metadata": {
    "slideshow": {
     "slide_type": "slide"
    }
   },
   "source": [
    "### 4. Courses = random country names"
   ]
  },
  {
   "cell_type": "code",
   "execution_count": null,
   "id": "40fa218c",
   "metadata": {
    "slideshow": {
     "slide_type": "-"
    }
   },
   "outputs": [],
   "source": [
    "def create_course(n):\n",
    "    \"\"\"Returns a list of random country names\"\"\"\n",
    "    fake = Faker()\n",
    "    list_course = []\n",
    "    for _ in range(n):\n",
    "        list_course.append(fake.country())\n",
    "    return list_course"
   ]
  },
  {
   "cell_type": "code",
   "execution_count": null,
   "id": "a773afd4",
   "metadata": {
    "slideshow": {
     "slide_type": "slide"
    }
   },
   "outputs": [],
   "source": [
    "list_course = create_course(6) \n",
    "list_course"
   ]
  },
  {
   "cell_type": "markdown",
   "id": "ba0a545d",
   "metadata": {
    "slideshow": {
     "slide_type": "slide"
    }
   },
   "source": [
    "### 5. Random Assignment List"
   ]
  },
  {
   "cell_type": "markdown",
   "id": "4c20be62",
   "metadata": {},
   "source": [
    "#### First loop: divide participants equally into groups"
   ]
  },
  {
   "cell_type": "code",
   "execution_count": null,
   "id": "21dbed2c",
   "metadata": {},
   "outputs": [],
   "source": [
    "max_group_number = math.floor(len(list_participant) / len(list_course)) # 23/6=3 remainder:5 \n",
    "list_distribute = []\n",
    "list_index = [i for i in range(len(list_course))]\n",
    "    \n",
    "    # creating participant list for each course\n",
    "for course in list_course:\n",
    "    course = []\n",
    "    for _ in range(max_group_number):\n",
    "        participant = random.choice(list_participant)\n",
    "        list_participant.remove(participant)\n",
    "        course.append(participant)\n",
    "    list_distribute.append(course)"
   ]
  },
  {
   "cell_type": "code",
   "execution_count": null,
   "id": "337364fd",
   "metadata": {},
   "outputs": [],
   "source": [
    "list_distribute"
   ]
  },
  {
   "cell_type": "markdown",
   "id": "b364768d",
   "metadata": {
    "slideshow": {
     "slide_type": "slide"
    }
   },
   "source": [
    "#### Second loop: divide remainder of participants into groups in a way that none of the groups will have more participants"
   ]
  },
  {
   "cell_type": "code",
   "execution_count": null,
   "id": "1221cd07",
   "metadata": {},
   "outputs": [],
   "source": [
    "list_participant"
   ]
  },
  {
   "cell_type": "code",
   "execution_count": null,
   "id": "6f8a0f9a",
   "metadata": {},
   "outputs": [],
   "source": [
    "for _ in range(len(list_participant)):\n",
    "    participant = random.choice(list_participant)\n",
    "    list_participant.remove(participant)\n",
    "    random_index = random.choice(list_index)\n",
    "    list_index.remove(random_index)\n",
    "    list_distribute[random_index].append(participant) "
   ]
  },
  {
   "cell_type": "code",
   "execution_count": null,
   "id": "ce077f38",
   "metadata": {},
   "outputs": [],
   "source": [
    "list_distribute"
   ]
  },
  {
   "cell_type": "code",
   "execution_count": null,
   "id": "3894cfcb",
   "metadata": {},
   "outputs": [],
   "source": [
    "list_participant"
   ]
  },
  {
   "cell_type": "markdown",
   "id": "c2271b2d",
   "metadata": {
    "slideshow": {
     "slide_type": "slide"
    }
   },
   "source": [
    "#### Both loops in a function"
   ]
  },
  {
   "cell_type": "code",
   "execution_count": null,
   "id": "bb03e76f",
   "metadata": {},
   "outputs": [],
   "source": [
    "list_participant = create_participant(21)"
   ]
  },
  {
   "cell_type": "code",
   "execution_count": null,
   "id": "3a211a40",
   "metadata": {
    "slideshow": {
     "slide_type": "-"
    }
   },
   "outputs": [],
   "source": [
    "def random_assignment_list(list_course, list_participant):\n",
    "    max_group_number = math.floor(len(list_participant) / len(list_course))\n",
    "    list_distribute = []\n",
    "    list_index = [i for i in range(len(list_course))]\n",
    "    \n",
    "    # creating participant list for each course\n",
    "    for course in list_course:\n",
    "        course = []\n",
    "        for _ in range(max_group_number):\n",
    "            participant = random.choice(list_participant)\n",
    "            list_participant.remove(participant)\n",
    "            course.append(participant)\n",
    "        list_distribute.append(course)\n",
    "\n",
    "    # in case participants cant be divided equally into groups\n",
    "    for _ in range(len(list_participant)):\n",
    "        participant = random.choice(list_participant)\n",
    "        list_participant.remove(participant)\n",
    "        random_index = random.choice(list_index)\n",
    "        list_index.remove(random_index)\n",
    "        list_distribute[random_index].append(participant)  \n",
    "    return list_distribute"
   ]
  },
  {
   "cell_type": "code",
   "execution_count": null,
   "id": "842c28f4",
   "metadata": {
    "slideshow": {
     "slide_type": "slide"
    }
   },
   "outputs": [],
   "source": [
    "# calling the function\n",
    "list_distribute = random_assignment_list(list_course, list_participant)\n",
    "list_distribute"
   ]
  },
  {
   "cell_type": "markdown",
   "id": "ac6d211d",
   "metadata": {
    "slideshow": {
     "slide_type": "slide"
    }
   },
   "source": [
    "### 6. Assignment Table"
   ]
  },
  {
   "cell_type": "code",
   "execution_count": null,
   "id": "f4afe3e5",
   "metadata": {},
   "outputs": [],
   "source": [
    " def assignment_table(list_distribute):\n",
    "        \"\"\"Returns a dataframe with the courses in columns and participants in rows\"\"\"\n",
    "        df = pd.DataFrame(list_distribute).T\n",
    "        df.columns = list_course\n",
    "        return df"
   ]
  },
  {
   "cell_type": "code",
   "execution_count": null,
   "id": "89b60a91",
   "metadata": {},
   "outputs": [],
   "source": [
    "assignment_table(list_distribute)"
   ]
  },
  {
   "cell_type": "markdown",
   "id": "00b027fd",
   "metadata": {
    "slideshow": {
     "slide_type": "slide"
    }
   },
   "source": [
    "### 7. Just for fun, all in one"
   ]
  },
  {
   "cell_type": "code",
   "execution_count": null,
   "id": "b28e8c7c",
   "metadata": {
    "slideshow": {
     "slide_type": "-"
    }
   },
   "outputs": [],
   "source": [
    "def random_assignment(n_course, k_participant):\n",
    "    max_group_number = math.floor(k_participant / n_course)\n",
    "    fake = Faker()\n",
    "    list_course = []\n",
    "    list_participant = []\n",
    "    list_distribute = []\n",
    "    list_index = [i for i in range(n_course)]\n",
    "    \n",
    "    #generating random courses\n",
    "    for _ in range(n_course):\n",
    "        list_course.append(fake.country())\n",
    "        \n",
    "    #generating random participants\n",
    "    for _ in range(k_participant):\n",
    "        list_participant.append(fake.name()) \n",
    "\n",
    "    # creating participant list for each course\n",
    "    for course in list_course:\n",
    "        course = []\n",
    "        for _ in range(max_group_number):\n",
    "            participant = random.choice(list_participant)\n",
    "            list_participant.remove(participant)\n",
    "            course.append(participant)\n",
    "        list_distribute.append(course)\n",
    "\n",
    "    # in case participants cant be divided equally into groups\n",
    "    for _ in range(len(list_participant)):\n",
    "        participant = random.choice(list_participant)\n",
    "        list_participant.remove(participant)\n",
    "        random_index = random.choice(list_index)\n",
    "        list_index.remove(random_index)\n",
    "        list_distribute[random_index].append(participant)      \n",
    "\n",
    "    df = pd.DataFrame(list_distribute).T\n",
    "    df.columns = list_course\n",
    "    df.index += 1\n",
    "\n",
    "    return df"
   ]
  },
  {
   "cell_type": "code",
   "execution_count": null,
   "id": "a4cff187",
   "metadata": {
    "slideshow": {
     "slide_type": "slide"
    }
   },
   "outputs": [],
   "source": [
    "df = random_assignment(11, 117)\n",
    "df"
   ]
  },
  {
   "cell_type": "markdown",
   "id": "7df7c0df",
   "metadata": {
    "slideshow": {
     "slide_type": "slide"
    }
   },
   "source": [
    "### 8. Object-oriented programming "
   ]
  },
  {
   "cell_type": "markdown",
   "id": "d6e0e065",
   "metadata": {
    "slideshow": {
     "slide_type": "slide"
    }
   },
   "source": [
    "### Class 1/2"
   ]
  },
  {
   "cell_type": "code",
   "execution_count": null,
   "id": "6362932a",
   "metadata": {
    "slideshow": {
     "slide_type": "-"
    }
   },
   "outputs": [],
   "source": [
    "class GroupGenerator():\n",
    "\n",
    "    def __init__(self, n_course, k_participant):\n",
    "        \"\"\"Initiates the faculty with the attributes: number of participants, number of courses\"\"\"\n",
    "        self.number_participant = k_participant\n",
    "        self.number_course = n_course\n",
    "        self.create_participant()\n",
    "        self.create_course()\n",
    "        self.random_assignment()\n",
    "        self.assignment_table()\n",
    "        print(f\"Initializing a faculty with {self.number_course} courses and {self.number_participant} participants\")\n",
    "\n",
    "    def create_participant(self):\n",
    "        \"\"\"Returns a list of participants with random fake names\"\"\"\n",
    "        fake = Faker()\n",
    "        self.list_participant = []\n",
    "        for _ in range(self.number_participant):\n",
    "            self.list_participant.append(fake.name())\n",
    "        return self.list_participant\n",
    "\n",
    "    def create_course(self):\n",
    "        \"\"\"Returns a list of random country names\"\"\"\n",
    "        fake = Faker()\n",
    "        self.list_course = []\n",
    "        for _ in range(self.number_course):\n",
    "            self.list_course.append(fake.country())\n",
    "        return self.list_course\n"
   ]
  },
  {
   "cell_type": "markdown",
   "id": "474f164f",
   "metadata": {
    "slideshow": {
     "slide_type": "slide"
    }
   },
   "source": [
    "### Class 2/2"
   ]
  },
  {
   "cell_type": "code",
   "execution_count": null,
   "id": "9ac54504",
   "metadata": {
    "slideshow": {
     "slide_type": "-"
    }
   },
   "outputs": [],
   "source": [
    "    def random_assignment(self):\n",
    "        \"\"\"Returns an array with random lists of participants assigned equally to courses\"\"\"\n",
    "        max_group_number = math.floor(self.number_participant / self.number_course)\n",
    "        self.list_distribute = []\n",
    "        list_index = [i for i in range(self.number_course)]\n",
    "        \n",
    "        # creating participant list for each course\n",
    "        for course in self.list_course:\n",
    "            course = []\n",
    "            for _ in range(max_group_number):\n",
    "                participant = random.choice(self.list_participant)\n",
    "                self.list_participant.remove(participant)\n",
    "                course.append(participant)\n",
    "            self.list_distribute.append(course)\n",
    "\n",
    "        # in case participants cant be divided equally into groups\n",
    "        for _ in range(len(self.list_participant)):\n",
    "            participant = random.choice(self.list_participant)\n",
    "            self.list_participant.remove(participant)\n",
    "            random_index = random.choice(list_index)\n",
    "            list_index.remove(random_index)\n",
    "            self.list_distribute[random_index].append(participant) \n",
    "\n",
    "        return self.list_distribute\n",
    "\n",
    "    def assignment_table(self):\n",
    "        \"\"\"Returns a dataframe with the courses in columns and participants in rows\"\"\"\n",
    "        df = pd.DataFrame(self.list_distribute).T\n",
    "        df.columns = self.list_course\n",
    "        df.index += 1\n",
    "        return df"
   ]
  },
  {
   "cell_type": "markdown",
   "id": "3c11aaf0",
   "metadata": {
    "slideshow": {
     "slide_type": "slide"
    }
   },
   "source": [
    "### 9. Testing"
   ]
  },
  {
   "cell_type": "markdown",
   "id": "9decd223",
   "metadata": {},
   "source": [
    "The class with the dependencies saved as ClassGroupGenerator.py"
   ]
  },
  {
   "cell_type": "code",
   "execution_count": null,
   "id": "4e46cd97",
   "metadata": {},
   "outputs": [],
   "source": [
    "from ClassGroupGenerator import GroupGenerator"
   ]
  },
  {
   "cell_type": "code",
   "execution_count": null,
   "id": "a6371895",
   "metadata": {},
   "outputs": [],
   "source": [
    "# initialize faculty with nr of pax and courses\n",
    "Geography = GroupGenerator(8, 110) "
   ]
  },
  {
   "cell_type": "code",
   "execution_count": null,
   "id": "ee24040b",
   "metadata": {
    "slideshow": {
     "slide_type": "-"
    }
   },
   "outputs": [],
   "source": [
    "# nr of pax attribute\n",
    "Geography.number_participant"
   ]
  },
  {
   "cell_type": "code",
   "execution_count": null,
   "id": "f2ca297a",
   "metadata": {},
   "outputs": [],
   "source": [
    "# nr of course attribute\n",
    "Geography.number_course"
   ]
  },
  {
   "cell_type": "code",
   "execution_count": null,
   "id": "6eb72155",
   "metadata": {
    "slideshow": {
     "slide_type": "slide"
    }
   },
   "outputs": [],
   "source": [
    "# pax with fake names\n",
    "Geography.create_participant()"
   ]
  },
  {
   "cell_type": "code",
   "execution_count": null,
   "id": "1f0b0efd",
   "metadata": {
    "slideshow": {
     "slide_type": "slide"
    }
   },
   "outputs": [],
   "source": [
    "# courses with fake names\n",
    "Geography.create_course()"
   ]
  },
  {
   "cell_type": "code",
   "execution_count": null,
   "id": "731bf8df",
   "metadata": {
    "slideshow": {
     "slide_type": "slide"
    }
   },
   "outputs": [],
   "source": [
    "# randomly assigning pax to courses \n",
    "Geography.random_assignment()"
   ]
  },
  {
   "cell_type": "code",
   "execution_count": null,
   "id": "820f280f",
   "metadata": {
    "slideshow": {
     "slide_type": "slide"
    }
   },
   "outputs": [],
   "source": [
    "# displaying result in dataframe \n",
    "Geography.assignment_table()"
   ]
  },
  {
   "cell_type": "markdown",
   "id": "4a5c5d4d",
   "metadata": {
    "slideshow": {
     "slide_type": "slide"
    }
   },
   "source": [
    "<h1 align=\"center\">END!</h1>"
   ]
  }
 ],
 "metadata": {
  "celltoolbar": "Slideshow",
  "kernelspec": {
   "display_name": "Python 3 (ipykernel)",
   "language": "python",
   "name": "python3"
  },
  "language_info": {
   "codemirror_mode": {
    "name": "ipython",
    "version": 3
   },
   "file_extension": ".py",
   "mimetype": "text/x-python",
   "name": "python",
   "nbconvert_exporter": "python",
   "pygments_lexer": "ipython3",
   "version": "3.8.12"
  }
 },
 "nbformat": 4,
 "nbformat_minor": 5
}
