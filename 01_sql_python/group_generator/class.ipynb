{
 "cells": [
  {
   "cell_type": "code",
   "execution_count": 3,
   "metadata": {},
   "outputs": [],
   "source": [
    "from faker import Faker\n",
    "import pandas as pd\n",
    "import random\n",
    "import math"
   ]
  },
  {
   "cell_type": "code",
   "execution_count": 8,
   "metadata": {},
   "outputs": [],
   "source": [
    "class GroupGenerator():\n",
    "\n",
    "    def __init__(self, n_course, k_participant):\n",
    "        \"\"\"Initiates the faculty with the attributes: number of participants, number of courses\"\"\"\n",
    "        self.number_participant = k_participant\n",
    "        self.number_course = n_course\n",
    "        self.create_participant()\n",
    "        self.create_course()\n",
    "        self.random_assignment()\n",
    "        self.assignment_table()\n",
    "        print(f\"Initializing a faculty with {self.number_course} courses and {self.number_participant} participants\")\n",
    "\n",
    "\n",
    "    def create_participant(self):\n",
    "        \"\"\"Returns a list of participants with random fake names\"\"\"\n",
    "        fake = Faker()\n",
    "        self.list_participant = []\n",
    "        for _ in range(self.number_participant):\n",
    "            self.list_participant.append(fake.name())\n",
    "        return self.list_participant\n",
    "\n",
    "    def create_course(self):\n",
    "        \"\"\"Returns a list of courses with random country names\"\"\"\n",
    "        fake = Faker()\n",
    "        self.list_course = []\n",
    "        for _ in range(self.number_course):\n",
    "            self.list_course.append(fake.country())\n",
    "        return self.list_course\n",
    "\n",
    "    def random_assignment(self):\n",
    "        \"\"\"Returns an array with random lists of participants assigned equally to courses\"\"\"\n",
    "        max_group_number = math.floor(self.number_participant / self.number_course)\n",
    "        self.list_distribute = []\n",
    "        list_index = [i for i in range(self.number_course)]\n",
    "        \n",
    "        # creating participant list for each course\n",
    "        for course in self.list_course:\n",
    "            course = []\n",
    "            for _ in range(max_group_number):\n",
    "                participant = random.choice(self.list_participant)\n",
    "                self.list_participant.remove(participant)\n",
    "                course.append(participant)\n",
    "            self.list_distribute.append(course)\n",
    "\n",
    "        # in case participants cant be divided equally into groups\n",
    "        for _ in range(len(self.list_participant)):\n",
    "            participant = random.choice(self.list_participant)\n",
    "            self.list_participant.remove(participant)\n",
    "            random_index = random.choice(list_index)\n",
    "            list_index.remove(random_index)\n",
    "            self.list_distribute[random_index].append(participant) \n",
    "\n",
    "        return self.list_distribute\n",
    "\n",
    "    def assignment_table(self):\n",
    "        \"\"\"Returns a dataframe with the courses in columns and participants in rows\"\"\"\n",
    "        df = pd.DataFrame(self.list_distribute).T\n",
    "        df.columns = self.list_course\n",
    "        return df\n"
   ]
  },
  {
   "cell_type": "code",
   "execution_count": 9,
   "metadata": {},
   "outputs": [
    {
     "name": "stdout",
     "output_type": "stream",
     "text": [
      "Initializing a faculty with 24 participants and 5 courses\n"
     ]
    }
   ],
   "source": [
    "# initialize faculty\n",
    "Geography = GroupGenerator(24, 5)"
   ]
  },
  {
   "cell_type": "code",
   "execution_count": 10,
   "metadata": {},
   "outputs": [
    {
     "data": {
      "text/plain": [
       "24"
      ]
     },
     "execution_count": 10,
     "metadata": {},
     "output_type": "execute_result"
    }
   ],
   "source": [
    "Geography.number_participant"
   ]
  },
  {
   "cell_type": "code",
   "execution_count": 11,
   "metadata": {},
   "outputs": [
    {
     "data": {
      "text/plain": [
       "5"
      ]
     },
     "execution_count": 11,
     "metadata": {},
     "output_type": "execute_result"
    }
   ],
   "source": [
    "Geography.number_course"
   ]
  },
  {
   "cell_type": "code",
   "execution_count": 12,
   "metadata": {},
   "outputs": [
    {
     "data": {
      "text/plain": [
       "['Stephen Decker',\n",
       " 'Robert Cole',\n",
       " 'Michael Brown',\n",
       " 'Stephanie Suarez',\n",
       " 'Ashley Norris',\n",
       " 'Gregory Clay',\n",
       " 'Stephanie Gibbs',\n",
       " 'Bradley Powell',\n",
       " 'Michael Young',\n",
       " 'Victor Horton',\n",
       " 'Robert Huynh',\n",
       " 'Robin Quinn',\n",
       " 'Donna Ramos',\n",
       " 'Seth Little',\n",
       " 'Juan Ayers',\n",
       " 'Edwin Sherman',\n",
       " 'Alexander Hill',\n",
       " 'Andrew Murray',\n",
       " 'Timothy Thomas',\n",
       " 'Jack Wagner',\n",
       " 'Matthew Ward',\n",
       " 'William Lopez',\n",
       " 'James Thompson',\n",
       " 'James Wilson']"
      ]
     },
     "execution_count": 12,
     "metadata": {},
     "output_type": "execute_result"
    }
   ],
   "source": [
    "Geography.create_participant()"
   ]
  },
  {
   "cell_type": "code",
   "execution_count": null,
   "metadata": {},
   "outputs": [],
   "source": [
    "Geography.create_course()"
   ]
  },
  {
   "cell_type": "code",
   "execution_count": null,
   "metadata": {},
   "outputs": [],
   "source": [
    "Geography.random_assignment()"
   ]
  },
  {
   "cell_type": "code",
   "execution_count": null,
   "metadata": {},
   "outputs": [],
   "source": [
    "Geography.assignment_table()"
   ]
  }
 ],
 "metadata": {
  "kernelspec": {
   "display_name": "Python 3.8.12 ('base')",
   "language": "python",
   "name": "python3"
  },
  "language_info": {
   "codemirror_mode": {
    "name": "ipython",
    "version": 3
   },
   "file_extension": ".py",
   "mimetype": "text/x-python",
   "name": "python",
   "nbconvert_exporter": "python",
   "pygments_lexer": "ipython3",
   "version": "3.8.12"
  },
  "orig_nbformat": 4,
  "vscode": {
   "interpreter": {
    "hash": "8bbaf081f8b3bca6151094b17c56870e42b6483d70c4ebda089a89290f7fe980"
   }
  }
 },
 "nbformat": 4,
 "nbformat_minor": 2
}
