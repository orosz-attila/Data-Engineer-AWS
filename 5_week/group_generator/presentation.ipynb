{
 "cells": [
  {
   "cell_type": "markdown",
   "id": "13372e8d",
   "metadata": {
    "slideshow": {
     "slide_type": "slide"
    }
   },
   "source": [
    "<h1 align=\"center\">Group Generator</h1>"
   ]
  },
  {
   "cell_type": "markdown",
   "id": "ed5c3947",
   "metadata": {
    "slideshow": {
     "slide_type": "slide"
    }
   },
   "source": [
    "### 1. Importing libraries"
   ]
  },
  {
   "cell_type": "code",
   "execution_count": 1,
   "id": "09d9029f",
   "metadata": {
    "slideshow": {
     "slide_type": "-"
    }
   },
   "outputs": [],
   "source": [
    "from faker import Faker\n",
    "import pandas as pd\n",
    "import random\n",
    "import math"
   ]
  },
  {
   "cell_type": "markdown",
   "id": "67f9d9d7",
   "metadata": {
    "slideshow": {
     "slide_type": "slide"
    }
   },
   "source": [
    "### 2. Faker\n",
    "\n",
    "##### https://github.com/joke2k/faker - it creates random names, emails, phone numbers etc.  "
   ]
  },
  {
   "cell_type": "code",
   "execution_count": 2,
   "id": "4e81221e",
   "metadata": {
    "slideshow": {
     "slide_type": "-"
    }
   },
   "outputs": [],
   "source": [
    "# initiating instance with Faker Class \n",
    "fake = Faker()"
   ]
  },
  {
   "cell_type": "code",
   "execution_count": 18,
   "id": "cd57d566",
   "metadata": {},
   "outputs": [
    {
     "data": {
      "text/plain": [
       "'Cesar Walls'"
      ]
     },
     "execution_count": 18,
     "metadata": {},
     "output_type": "execute_result"
    }
   ],
   "source": [
    "fake.name()"
   ]
  },
  {
   "cell_type": "code",
   "execution_count": 23,
   "id": "293dd799",
   "metadata": {
    "slideshow": {
     "slide_type": "slide"
    }
   },
   "outputs": [
    {
     "name": "stdout",
     "output_type": "stream",
     "text": [
      "Alexandra Shaffer\n",
      "Regina Morgan\n",
      "Emily Parker\n",
      "Shawn Mitchell\n",
      "Cindy Wong\n",
      "Alfred Coleman\n",
      "Teresa Ellis\n",
      "Stephanie Pierce\n",
      "Joshua Lane\n",
      "Thomas Quinn\n",
      "Mark Oneal\n",
      "Samantha Johnson\n",
      "Derek Cooper\n",
      "Tiffany Cooley\n",
      "Benjamin Williams\n",
      "Tina Lozano\n",
      "Laura Parsons\n",
      "Nicole Howell\n",
      "William Cobb\n",
      "Allison Scott\n"
     ]
    }
   ],
   "source": [
    "for _ in range(20):\n",
    "    print(fake.name())"
   ]
  },
  {
   "cell_type": "markdown",
   "id": "2c936a54",
   "metadata": {
    "slideshow": {
     "slide_type": "slide"
    }
   },
   "source": [
    "### 3. List of participants with random fake names"
   ]
  },
  {
   "cell_type": "code",
   "execution_count": 24,
   "id": "f8177280",
   "metadata": {
    "slideshow": {
     "slide_type": "-"
    }
   },
   "outputs": [],
   "source": [
    "def create_participant(k):\n",
    "    \"\"\"Returns a list of participants with random fake names\"\"\"\n",
    "    fake = Faker()\n",
    "    list_participant = []\n",
    "    for _ in range(k):\n",
    "        list_participant.append(fake.name())\n",
    "    return list_participant"
   ]
  },
  {
   "cell_type": "code",
   "execution_count": 25,
   "id": "e76e1fef",
   "metadata": {
    "slideshow": {
     "slide_type": "slide"
    }
   },
   "outputs": [
    {
     "data": {
      "text/plain": [
       "['Lacey Gregory',\n",
       " 'Hannah Davis',\n",
       " 'Laura Bruce',\n",
       " 'Zachary Hutchinson',\n",
       " 'Amber Dunlap',\n",
       " 'Anna Sanders',\n",
       " 'Chelsea Lambert',\n",
       " 'Sarah Turner',\n",
       " 'Ricky Bell',\n",
       " 'Brittany Wright',\n",
       " 'Jennifer Haley',\n",
       " 'Samuel Long',\n",
       " 'Elizabeth Day MD',\n",
       " 'Daniel Rodriguez',\n",
       " 'Denise Garrison',\n",
       " 'Timothy White',\n",
       " 'Eileen Campbell',\n",
       " 'Sylvia Phillips',\n",
       " 'Courtney Erickson',\n",
       " 'Mark Mitchell',\n",
       " 'Bradley Schwartz',\n",
       " 'Carla Lopez',\n",
       " 'Shelby Anderson']"
      ]
     },
     "execution_count": 25,
     "metadata": {},
     "output_type": "execute_result"
    }
   ],
   "source": [
    "list_participant = create_participant(23)\n",
    "list_participant"
   ]
  },
  {
   "cell_type": "markdown",
   "id": "1e2701d5",
   "metadata": {
    "slideshow": {
     "slide_type": "slide"
    }
   },
   "source": [
    "### 4. Courses = random country names"
   ]
  },
  {
   "cell_type": "code",
   "execution_count": 26,
   "id": "b6ece49b",
   "metadata": {
    "slideshow": {
     "slide_type": "-"
    }
   },
   "outputs": [],
   "source": [
    "def create_course(n):\n",
    "    \"\"\"Returns a list of random country names\"\"\"\n",
    "    fake = Faker()\n",
    "    list_course = []\n",
    "    for _ in range(n):\n",
    "        list_course.append(fake.country())\n",
    "    return list_course"
   ]
  },
  {
   "cell_type": "code",
   "execution_count": 30,
   "id": "df2e2e1a",
   "metadata": {
    "slideshow": {
     "slide_type": "slide"
    }
   },
   "outputs": [
    {
     "data": {
      "text/plain": [
       "['Monaco', 'Egypt', 'Eritrea', 'Uzbekistan', 'Russian Federation', 'Canada']"
      ]
     },
     "execution_count": 30,
     "metadata": {},
     "output_type": "execute_result"
    }
   ],
   "source": [
    "list_course = create_course(6) \n",
    "list_course"
   ]
  },
  {
   "cell_type": "markdown",
   "id": "f0b9b1cf",
   "metadata": {
    "slideshow": {
     "slide_type": "slide"
    }
   },
   "source": [
    "### 5. Random Assignment List"
   ]
  },
  {
   "cell_type": "code",
   "execution_count": 31,
   "id": "f26124c9",
   "metadata": {},
   "outputs": [],
   "source": [
    "def random_assignment_list(list_course, list_participant):\n",
    "    max_group_number = math.floor(len(list_participant) / len(list_course))\n",
    "    list_distribute = []\n",
    "    list_index = [i for i in range(len(list_course))]\n",
    "    \n",
    "    # creating participant list for each course\n",
    "    for course in list_course:\n",
    "        course = []\n",
    "        for _ in range(max_group_number):\n",
    "            participant = random.choice(list_participant)\n",
    "            list_participant.remove(participant)\n",
    "            course.append(participant)\n",
    "        list_distribute.append(course)\n",
    "\n",
    "    # in case participants cant be divided equally into groups\n",
    "    for _ in range(len(list_participant)):\n",
    "        participant = random.choice(list_participant)\n",
    "        list_participant.remove(participant)\n",
    "        random_index = random.choice(list_index)\n",
    "        list_index.remove(random_index)\n",
    "        list_distribute[random_index].append(participant)  \n",
    "    return list_distribute"
   ]
  },
  {
   "cell_type": "code",
   "execution_count": 32,
   "id": "8bd36cde",
   "metadata": {
    "slideshow": {
     "slide_type": "slide"
    }
   },
   "outputs": [
    {
     "data": {
      "text/plain": [
       "[['Bradley Schwartz', 'Daniel Rodriguez', 'Sarah Turner', 'Courtney Erickson'],\n",
       " ['Hannah Davis', 'Mark Mitchell', 'Lacey Gregory'],\n",
       " ['Chelsea Lambert', 'Elizabeth Day MD', 'Jennifer Haley', 'Timothy White'],\n",
       " ['Zachary Hutchinson', 'Anna Sanders', 'Shelby Anderson', 'Ricky Bell'],\n",
       " ['Brittany Wright', 'Amber Dunlap', 'Sylvia Phillips', 'Denise Garrison'],\n",
       " ['Samuel Long', 'Carla Lopez', 'Laura Bruce', 'Eileen Campbell']]"
      ]
     },
     "execution_count": 32,
     "metadata": {},
     "output_type": "execute_result"
    }
   ],
   "source": [
    "# calling the function\n",
    "list_distribute = random_assignment_list(list_course, list_participant)\n",
    "list_distribute"
   ]
  },
  {
   "cell_type": "markdown",
   "id": "2298ade3",
   "metadata": {
    "slideshow": {
     "slide_type": "slide"
    }
   },
   "source": [
    "### 6. Assignment Table"
   ]
  },
  {
   "cell_type": "code",
   "execution_count": 37,
   "id": "7f398bbf",
   "metadata": {},
   "outputs": [],
   "source": [
    " def assignment_table(list_distribute):\n",
    "        \"\"\"Returns a dataframe with the courses in columns and participants in rows\"\"\"\n",
    "        df = pd.DataFrame(list_distribute).T\n",
    "        df.columns = list_course\n",
    "        return df"
   ]
  },
  {
   "cell_type": "code",
   "execution_count": 38,
   "id": "bff445a4",
   "metadata": {},
   "outputs": [
    {
     "data": {
      "text/html": [
       "<div>\n",
       "<style scoped>\n",
       "    .dataframe tbody tr th:only-of-type {\n",
       "        vertical-align: middle;\n",
       "    }\n",
       "\n",
       "    .dataframe tbody tr th {\n",
       "        vertical-align: top;\n",
       "    }\n",
       "\n",
       "    .dataframe thead th {\n",
       "        text-align: right;\n",
       "    }\n",
       "</style>\n",
       "<table border=\"1\" class=\"dataframe\">\n",
       "  <thead>\n",
       "    <tr style=\"text-align: right;\">\n",
       "      <th></th>\n",
       "      <th>Monaco</th>\n",
       "      <th>Egypt</th>\n",
       "      <th>Eritrea</th>\n",
       "      <th>Uzbekistan</th>\n",
       "      <th>Russian Federation</th>\n",
       "      <th>Canada</th>\n",
       "    </tr>\n",
       "  </thead>\n",
       "  <tbody>\n",
       "    <tr>\n",
       "      <th>0</th>\n",
       "      <td>Bradley Schwartz</td>\n",
       "      <td>Hannah Davis</td>\n",
       "      <td>Chelsea Lambert</td>\n",
       "      <td>Zachary Hutchinson</td>\n",
       "      <td>Brittany Wright</td>\n",
       "      <td>Samuel Long</td>\n",
       "    </tr>\n",
       "    <tr>\n",
       "      <th>1</th>\n",
       "      <td>Daniel Rodriguez</td>\n",
       "      <td>Mark Mitchell</td>\n",
       "      <td>Elizabeth Day MD</td>\n",
       "      <td>Anna Sanders</td>\n",
       "      <td>Amber Dunlap</td>\n",
       "      <td>Carla Lopez</td>\n",
       "    </tr>\n",
       "    <tr>\n",
       "      <th>2</th>\n",
       "      <td>Sarah Turner</td>\n",
       "      <td>Lacey Gregory</td>\n",
       "      <td>Jennifer Haley</td>\n",
       "      <td>Shelby Anderson</td>\n",
       "      <td>Sylvia Phillips</td>\n",
       "      <td>Laura Bruce</td>\n",
       "    </tr>\n",
       "    <tr>\n",
       "      <th>3</th>\n",
       "      <td>Courtney Erickson</td>\n",
       "      <td>None</td>\n",
       "      <td>Timothy White</td>\n",
       "      <td>Ricky Bell</td>\n",
       "      <td>Denise Garrison</td>\n",
       "      <td>Eileen Campbell</td>\n",
       "    </tr>\n",
       "  </tbody>\n",
       "</table>\n",
       "</div>"
      ],
      "text/plain": [
       "              Monaco          Egypt           Eritrea          Uzbekistan  \\\n",
       "0   Bradley Schwartz   Hannah Davis   Chelsea Lambert  Zachary Hutchinson   \n",
       "1   Daniel Rodriguez  Mark Mitchell  Elizabeth Day MD        Anna Sanders   \n",
       "2       Sarah Turner  Lacey Gregory    Jennifer Haley     Shelby Anderson   \n",
       "3  Courtney Erickson           None     Timothy White          Ricky Bell   \n",
       "\n",
       "  Russian Federation           Canada  \n",
       "0    Brittany Wright      Samuel Long  \n",
       "1       Amber Dunlap      Carla Lopez  \n",
       "2    Sylvia Phillips      Laura Bruce  \n",
       "3    Denise Garrison  Eileen Campbell  "
      ]
     },
     "execution_count": 38,
     "metadata": {},
     "output_type": "execute_result"
    }
   ],
   "source": [
    "assignment_table(list_distribute)"
   ]
  },
  {
   "cell_type": "markdown",
   "id": "ade8a0b5",
   "metadata": {
    "slideshow": {
     "slide_type": "slide"
    }
   },
   "source": [
    "### 7. Just for fun, all in one"
   ]
  },
  {
   "cell_type": "code",
   "execution_count": 39,
   "id": "cd9ab83c",
   "metadata": {
    "slideshow": {
     "slide_type": "-"
    }
   },
   "outputs": [],
   "source": [
    "def random_assignment(n_course, k_participant):\n",
    "    max_group_number = math.floor(k_participant / n_course)\n",
    "    fake = Faker()\n",
    "    list_course = []\n",
    "    list_participant = []\n",
    "    list_distribute = []\n",
    "    list_index = [i for i in range(n_course)]\n",
    "    \n",
    "    #generating random courses\n",
    "    for _ in range(n_course):\n",
    "        list_course.append(fake.country())\n",
    "        \n",
    "    #generating random participants\n",
    "    for _ in range(k_participant):\n",
    "        list_participant.append(fake.name()) \n",
    "\n",
    "    # creating participant list for each course\n",
    "    for course in list_course:\n",
    "        course = []\n",
    "        for _ in range(max_group_number):\n",
    "            participant = random.choice(list_participant)\n",
    "            list_participant.remove(participant)\n",
    "            course.append(participant)\n",
    "        list_distribute.append(course)\n",
    "\n",
    "    # in case participants cant be divided equally into groups\n",
    "    for _ in range(len(list_participant)):\n",
    "        participant = random.choice(list_participant)\n",
    "        list_participant.remove(participant)\n",
    "        random_index = random.choice(list_index)\n",
    "        list_index.remove(random_index)\n",
    "        list_distribute[random_index].append(participant)      \n",
    "\n",
    "    df = pd.DataFrame(list_distribute).T\n",
    "    df.columns = list_course\n",
    "    df.index += 1\n",
    "\n",
    "    return df"
   ]
  },
  {
   "cell_type": "code",
   "execution_count": 40,
   "id": "5f7fcbf4",
   "metadata": {
    "slideshow": {
     "slide_type": "slide"
    }
   },
   "outputs": [
    {
     "data": {
      "text/html": [
       "<div>\n",
       "<style scoped>\n",
       "    .dataframe tbody tr th:only-of-type {\n",
       "        vertical-align: middle;\n",
       "    }\n",
       "\n",
       "    .dataframe tbody tr th {\n",
       "        vertical-align: top;\n",
       "    }\n",
       "\n",
       "    .dataframe thead th {\n",
       "        text-align: right;\n",
       "    }\n",
       "</style>\n",
       "<table border=\"1\" class=\"dataframe\">\n",
       "  <thead>\n",
       "    <tr style=\"text-align: right;\">\n",
       "      <th></th>\n",
       "      <th>Bangladesh</th>\n",
       "      <th>Gambia</th>\n",
       "      <th>Sweden</th>\n",
       "      <th>Tuvalu</th>\n",
       "      <th>Ecuador</th>\n",
       "      <th>Italy</th>\n",
       "    </tr>\n",
       "  </thead>\n",
       "  <tbody>\n",
       "    <tr>\n",
       "      <th>1</th>\n",
       "      <td>Timothy Tyler</td>\n",
       "      <td>Desiree Kramer</td>\n",
       "      <td>Juan Jimenez</td>\n",
       "      <td>Jill Mcdonald</td>\n",
       "      <td>Manuel Li</td>\n",
       "      <td>Brittany Grant</td>\n",
       "    </tr>\n",
       "    <tr>\n",
       "      <th>2</th>\n",
       "      <td>Emma Franklin</td>\n",
       "      <td>Kimberly Walters</td>\n",
       "      <td>Shannon Moore</td>\n",
       "      <td>Denise Bernard</td>\n",
       "      <td>John Barnes</td>\n",
       "      <td>Walter Walters</td>\n",
       "    </tr>\n",
       "    <tr>\n",
       "      <th>3</th>\n",
       "      <td>Jasmine Patterson</td>\n",
       "      <td>David Davis</td>\n",
       "      <td>James Butler</td>\n",
       "      <td>Rachael Blankenship</td>\n",
       "      <td>Danielle Thomas</td>\n",
       "      <td>Lawrence Benson</td>\n",
       "    </tr>\n",
       "    <tr>\n",
       "      <th>4</th>\n",
       "      <td>None</td>\n",
       "      <td>Veronica Henderson MD</td>\n",
       "      <td>Daniel Bowers</td>\n",
       "      <td>Michael Long</td>\n",
       "      <td>Stanley Dixon</td>\n",
       "      <td>Megan Flores</td>\n",
       "    </tr>\n",
       "  </tbody>\n",
       "</table>\n",
       "</div>"
      ],
      "text/plain": [
       "          Bangladesh                 Gambia         Sweden  \\\n",
       "1      Timothy Tyler         Desiree Kramer   Juan Jimenez   \n",
       "2      Emma Franklin       Kimberly Walters  Shannon Moore   \n",
       "3  Jasmine Patterson            David Davis   James Butler   \n",
       "4               None  Veronica Henderson MD  Daniel Bowers   \n",
       "\n",
       "                Tuvalu          Ecuador            Italy  \n",
       "1        Jill Mcdonald        Manuel Li   Brittany Grant  \n",
       "2       Denise Bernard      John Barnes   Walter Walters  \n",
       "3  Rachael Blankenship  Danielle Thomas  Lawrence Benson  \n",
       "4         Michael Long    Stanley Dixon     Megan Flores  "
      ]
     },
     "execution_count": 40,
     "metadata": {},
     "output_type": "execute_result"
    }
   ],
   "source": [
    "df = random_assignment(6, 23)\n",
    "df"
   ]
  },
  {
   "cell_type": "markdown",
   "id": "da118f8b",
   "metadata": {
    "slideshow": {
     "slide_type": "slide"
    }
   },
   "source": [
    "### 8. OOP"
   ]
  },
  {
   "cell_type": "code",
   "execution_count": null,
   "id": "14e21d16",
   "metadata": {
    "slideshow": {
     "slide_type": "slide"
    }
   },
   "outputs": [],
   "source": [
    "class GroupGenerator():\n",
    "\n",
    "    def __init__(self, n_course, k_participant):\n",
    "        \"\"\"Initiates the faculty with the attributes: number of participants, number of courses\"\"\"\n",
    "        self.number_participant = k_participant\n",
    "        self.number_course = n_course\n",
    "        self.create_participant()\n",
    "        self.create_course()\n",
    "        self.random_assignment()\n",
    "        self.assignment_table()\n",
    "        print(f\"Initializing a faculty with {self.number_course} courses and {self.number_participant} participants\")\n",
    "\n",
    "    def create_participant(self):\n",
    "        \"\"\"Returns a list of participants with random fake names\"\"\"\n",
    "        fake = Faker()\n",
    "        self.list_participant = []\n",
    "        for _ in range(self.number_participant):\n",
    "            self.list_participant.append(fake.name())\n",
    "        return self.list_participant\n",
    "\n",
    "    def create_course(self):\n",
    "        \"\"\"Returns a list of random country names\"\"\"\n",
    "        fake = Faker()\n",
    "        self.list_course = []\n",
    "        for _ in range(self.number_course):\n",
    "            self.list_course.append(fake.country())\n",
    "        return self.list_course\n",
    "\n",
    "    def random_assignment(self):\n",
    "        \"\"\"Returns an array with random lists of participants assigned equally to courses\"\"\"\n",
    "        max_group_number = math.floor(self.number_participant / self.number_course)\n",
    "        self.list_distribute = []\n",
    "        list_index = [i for i in range(self.number_course)]\n",
    "        \n",
    "        # creating participant list for each course\n",
    "        for course in self.list_course:\n",
    "            course = []\n",
    "            for _ in range(max_group_number):\n",
    "                participant = random.choice(self.list_participant)\n",
    "                self.list_participant.remove(participant)\n",
    "                course.append(participant)\n",
    "            self.list_distribute.append(course)\n",
    "\n",
    "        # in case participants cant be divided equally into groups\n",
    "        for _ in range(len(self.list_participant)):\n",
    "            participant = random.choice(self.list_participant)\n",
    "            self.list_participant.remove(participant)\n",
    "            random_index = random.choice(list_index)\n",
    "            list_index.remove(random_index)\n",
    "            self.list_distribute[random_index].append(participant) \n",
    "\n",
    "        return self.list_distribute\n",
    "\n",
    "    def assignment_table(self):\n",
    "        \"\"\"Returns a dataframe with the courses in columns and participants in rows\"\"\"\n",
    "        df = pd.DataFrame(self.list_distribute).T\n",
    "        df.columns = self.list_course\n",
    "        df.index += 1\n",
    "        return df"
   ]
  },
  {
   "cell_type": "markdown",
   "id": "41a9f22b",
   "metadata": {
    "slideshow": {
     "slide_type": "slide"
    }
   },
   "source": [
    "### 9. Testing"
   ]
  },
  {
   "cell_type": "markdown",
   "id": "0e9f7ec6",
   "metadata": {},
   "source": [
    "The class with the dependencies saved as ClassGroupGenerator.py"
   ]
  },
  {
   "cell_type": "code",
   "execution_count": 41,
   "id": "e65728ad",
   "metadata": {},
   "outputs": [],
   "source": [
    "from ClassGroupGenerator import GroupGenerator"
   ]
  },
  {
   "cell_type": "code",
   "execution_count": 42,
   "id": "b9a0f027",
   "metadata": {},
   "outputs": [
    {
     "name": "stdout",
     "output_type": "stream",
     "text": [
      "Initializing a faculty with 6 courses and 23 participants\n"
     ]
    }
   ],
   "source": [
    "# initialize faculty with nr of pax and courses\n",
    "Geography = GroupGenerator(6, 23) "
   ]
  },
  {
   "cell_type": "code",
   "execution_count": 43,
   "id": "65b73669",
   "metadata": {
    "slideshow": {
     "slide_type": "-"
    }
   },
   "outputs": [
    {
     "data": {
      "text/plain": [
       "23"
      ]
     },
     "execution_count": 43,
     "metadata": {},
     "output_type": "execute_result"
    }
   ],
   "source": [
    "# nr of pax attribute\n",
    "Geography.number_participant"
   ]
  },
  {
   "cell_type": "code",
   "execution_count": 44,
   "id": "f34b9e33",
   "metadata": {},
   "outputs": [
    {
     "data": {
      "text/plain": [
       "6"
      ]
     },
     "execution_count": 44,
     "metadata": {},
     "output_type": "execute_result"
    }
   ],
   "source": [
    "# nr of course attribute\n",
    "Geography.number_course"
   ]
  },
  {
   "cell_type": "code",
   "execution_count": 45,
   "id": "41c0621f",
   "metadata": {
    "slideshow": {
     "slide_type": "slide"
    }
   },
   "outputs": [
    {
     "data": {
      "text/plain": [
       "['Brandon Cox',\n",
       " 'Ruth Sims',\n",
       " 'Carrie Olson',\n",
       " 'Nathaniel Smith',\n",
       " 'Justin Garcia',\n",
       " 'Kelsey Scott',\n",
       " 'Kelly Hall',\n",
       " 'Natalie Maldonado',\n",
       " 'Mrs. Cindy Gallegos',\n",
       " 'Richard Simpson',\n",
       " 'Gina Harrison',\n",
       " 'Annette Leblanc',\n",
       " 'Kelly Petersen',\n",
       " 'Joshua Jacobs',\n",
       " 'Nicholas Robinson',\n",
       " 'Ashley Jackson',\n",
       " 'Gregory Marshall',\n",
       " 'Bonnie Meyer DVM',\n",
       " 'Lisa Martinez',\n",
       " 'Brandon Wilson',\n",
       " 'Juan Avery',\n",
       " 'Daniel Erickson',\n",
       " 'Lauren Roach']"
      ]
     },
     "execution_count": 45,
     "metadata": {},
     "output_type": "execute_result"
    }
   ],
   "source": [
    "# pax with fake names\n",
    "Geography.create_participant()"
   ]
  },
  {
   "cell_type": "code",
   "execution_count": 46,
   "id": "0bc13a3c",
   "metadata": {
    "slideshow": {
     "slide_type": "slide"
    }
   },
   "outputs": [
    {
     "data": {
      "text/plain": [
       "['Palestinian Territory', 'Hungary', 'Kenya', 'Panama', 'Aruba', 'Iraq']"
      ]
     },
     "execution_count": 46,
     "metadata": {},
     "output_type": "execute_result"
    }
   ],
   "source": [
    "# courses with fake names\n",
    "Geography.create_course()"
   ]
  },
  {
   "cell_type": "code",
   "execution_count": 47,
   "id": "06748693",
   "metadata": {
    "slideshow": {
     "slide_type": "slide"
    }
   },
   "outputs": [
    {
     "data": {
      "text/plain": [
       "[['Nicholas Robinson', 'Nathaniel Smith', 'Gregory Marshall', 'Justin Garcia'],\n",
       " ['Kelly Hall', 'Richard Simpson', 'Ruth Sims', 'Carrie Olson'],\n",
       " ['Lisa Martinez', 'Joshua Jacobs', 'Bonnie Meyer DVM', 'Brandon Wilson'],\n",
       " ['Daniel Erickson', 'Juan Avery', 'Mrs. Cindy Gallegos', 'Kelly Petersen'],\n",
       " ['Brandon Cox', 'Ashley Jackson', 'Gina Harrison'],\n",
       " ['Annette Leblanc', 'Natalie Maldonado', 'Lauren Roach', 'Kelsey Scott']]"
      ]
     },
     "execution_count": 47,
     "metadata": {},
     "output_type": "execute_result"
    }
   ],
   "source": [
    "# randomly assigning pax to courses \n",
    "Geography.random_assignment()"
   ]
  },
  {
   "cell_type": "code",
   "execution_count": 48,
   "id": "dd4c8235",
   "metadata": {
    "slideshow": {
     "slide_type": "slide"
    }
   },
   "outputs": [
    {
     "data": {
      "text/html": [
       "<div>\n",
       "<style scoped>\n",
       "    .dataframe tbody tr th:only-of-type {\n",
       "        vertical-align: middle;\n",
       "    }\n",
       "\n",
       "    .dataframe tbody tr th {\n",
       "        vertical-align: top;\n",
       "    }\n",
       "\n",
       "    .dataframe thead th {\n",
       "        text-align: right;\n",
       "    }\n",
       "</style>\n",
       "<table border=\"1\" class=\"dataframe\">\n",
       "  <thead>\n",
       "    <tr style=\"text-align: right;\">\n",
       "      <th></th>\n",
       "      <th>Palestinian Territory</th>\n",
       "      <th>Hungary</th>\n",
       "      <th>Kenya</th>\n",
       "      <th>Panama</th>\n",
       "      <th>Aruba</th>\n",
       "      <th>Iraq</th>\n",
       "    </tr>\n",
       "  </thead>\n",
       "  <tbody>\n",
       "    <tr>\n",
       "      <th>1</th>\n",
       "      <td>Nicholas Robinson</td>\n",
       "      <td>Kelly Hall</td>\n",
       "      <td>Lisa Martinez</td>\n",
       "      <td>Daniel Erickson</td>\n",
       "      <td>Brandon Cox</td>\n",
       "      <td>Annette Leblanc</td>\n",
       "    </tr>\n",
       "    <tr>\n",
       "      <th>2</th>\n",
       "      <td>Nathaniel Smith</td>\n",
       "      <td>Richard Simpson</td>\n",
       "      <td>Joshua Jacobs</td>\n",
       "      <td>Juan Avery</td>\n",
       "      <td>Ashley Jackson</td>\n",
       "      <td>Natalie Maldonado</td>\n",
       "    </tr>\n",
       "    <tr>\n",
       "      <th>3</th>\n",
       "      <td>Gregory Marshall</td>\n",
       "      <td>Ruth Sims</td>\n",
       "      <td>Bonnie Meyer DVM</td>\n",
       "      <td>Mrs. Cindy Gallegos</td>\n",
       "      <td>Gina Harrison</td>\n",
       "      <td>Lauren Roach</td>\n",
       "    </tr>\n",
       "    <tr>\n",
       "      <th>4</th>\n",
       "      <td>Justin Garcia</td>\n",
       "      <td>Carrie Olson</td>\n",
       "      <td>Brandon Wilson</td>\n",
       "      <td>Kelly Petersen</td>\n",
       "      <td>None</td>\n",
       "      <td>Kelsey Scott</td>\n",
       "    </tr>\n",
       "  </tbody>\n",
       "</table>\n",
       "</div>"
      ],
      "text/plain": [
       "  Palestinian Territory          Hungary             Kenya  \\\n",
       "1     Nicholas Robinson       Kelly Hall     Lisa Martinez   \n",
       "2       Nathaniel Smith  Richard Simpson     Joshua Jacobs   \n",
       "3      Gregory Marshall        Ruth Sims  Bonnie Meyer DVM   \n",
       "4         Justin Garcia     Carrie Olson    Brandon Wilson   \n",
       "\n",
       "                Panama           Aruba               Iraq  \n",
       "1      Daniel Erickson     Brandon Cox    Annette Leblanc  \n",
       "2           Juan Avery  Ashley Jackson  Natalie Maldonado  \n",
       "3  Mrs. Cindy Gallegos   Gina Harrison       Lauren Roach  \n",
       "4       Kelly Petersen            None       Kelsey Scott  "
      ]
     },
     "execution_count": 48,
     "metadata": {},
     "output_type": "execute_result"
    }
   ],
   "source": [
    "# displaying result in dataframe \n",
    "Geography.assignment_table()"
   ]
  }
 ],
 "metadata": {
  "celltoolbar": "Slideshow",
  "kernelspec": {
   "display_name": "Python 3 (ipykernel)",
   "language": "python",
   "name": "python3"
  },
  "language_info": {
   "codemirror_mode": {
    "name": "ipython",
    "version": 3
   },
   "file_extension": ".py",
   "mimetype": "text/x-python",
   "name": "python",
   "nbconvert_exporter": "python",
   "pygments_lexer": "ipython3",
   "version": "3.8.12"
  }
 },
 "nbformat": 4,
 "nbformat_minor": 5
}
