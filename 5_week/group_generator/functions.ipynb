{
 "cells": [
  {
   "cell_type": "code",
   "execution_count": 26,
   "metadata": {},
   "outputs": [],
   "source": [
    "from faker import Faker\n",
    "import pandas as pd\n",
    "import random\n",
    "import math"
   ]
  },
  {
   "cell_type": "code",
   "execution_count": 27,
   "metadata": {},
   "outputs": [
    {
     "data": {
      "text/plain": [
       "'Cynthia Meyer'"
      ]
     },
     "execution_count": 27,
     "metadata": {},
     "output_type": "execute_result"
    }
   ],
   "source": [
    "# https://github.com/joke2k/faker\n",
    "\n",
    "fake = Faker()\n",
    "fake.name()"
   ]
  },
  {
   "cell_type": "code",
   "execution_count": 28,
   "metadata": {},
   "outputs": [
    {
     "name": "stdout",
     "output_type": "stream",
     "text": [
      "Robert Jenkins\n",
      "Rodney Rowe\n",
      "Lisa Li\n",
      "Billy Perez\n",
      "Jack Matthews\n",
      "Lisa Harper\n",
      "Nicholas Martinez\n",
      "David Torres\n",
      "Richard Cruz\n",
      "Patricia Garcia\n",
      "Elizabeth Jennings\n",
      "Katherine Blevins\n",
      "Megan Castro\n",
      "Annette Villanueva\n",
      "Shannon Mitchell\n",
      "Rebecca Taylor\n",
      "Joseph Mercer\n",
      "Larry Bailey\n",
      "Michael Johnson\n",
      "Ashley Walsh\n"
     ]
    }
   ],
   "source": [
    "for _ in range(20):\n",
    "    print(fake.name())"
   ]
  },
  {
   "cell_type": "code",
   "execution_count": 29,
   "metadata": {},
   "outputs": [],
   "source": [
    "def create_participant(k):\n",
    "    fake = Faker()\n",
    "    list_participant = []\n",
    "    for _ in range(k):\n",
    "        list_participant.append(fake.name())\n",
    "    return list_participant"
   ]
  },
  {
   "cell_type": "code",
   "execution_count": 30,
   "metadata": {},
   "outputs": [
    {
     "data": {
      "text/plain": [
       "['Justin Erickson',\n",
       " 'Matthew Thompson',\n",
       " 'Caroline Graves',\n",
       " 'Michael Smith',\n",
       " 'Jason Ellison',\n",
       " 'Haley Cole',\n",
       " 'Jonathan Blankenship',\n",
       " 'Tristan Miller',\n",
       " 'Brenda Morgan',\n",
       " 'Sarah White',\n",
       " 'Steven Mann',\n",
       " 'Miss Jennifer Long',\n",
       " 'Eric Walton',\n",
       " 'Mackenzie Adams',\n",
       " 'Terri Payne',\n",
       " 'Scott Dean',\n",
       " 'Christopher Marshall',\n",
       " 'Dalton Cook',\n",
       " 'William Stark',\n",
       " 'Robert Franklin',\n",
       " 'Stephanie Smith',\n",
       " 'Melissa Robinson',\n",
       " 'Valerie Chapman DDS']"
      ]
     },
     "execution_count": 30,
     "metadata": {},
     "output_type": "execute_result"
    }
   ],
   "source": [
    "list_participant = create_participant(23)\n",
    "list_participant"
   ]
  },
  {
   "cell_type": "code",
   "execution_count": 31,
   "metadata": {},
   "outputs": [],
   "source": [
    "def create_course(n):\n",
    "    fake = Faker()\n",
    "    list_course = []\n",
    "    for _ in range(n):\n",
    "        list_course.append(fake.country())\n",
    "    return list_course"
   ]
  },
  {
   "cell_type": "code",
   "execution_count": 32,
   "metadata": {},
   "outputs": [
    {
     "data": {
      "text/plain": [
       "['Seychelles', 'Belarus', 'Timor-Leste', 'Rwanda', 'Burkina Faso', 'Croatia']"
      ]
     },
     "execution_count": 32,
     "metadata": {},
     "output_type": "execute_result"
    }
   ],
   "source": [
    "list_course = create_course(6) \n",
    "list_course"
   ]
  },
  {
   "cell_type": "code",
   "execution_count": 33,
   "metadata": {},
   "outputs": [],
   "source": [
    "random_participant = random.choice(list_participant)\n",
    "random_course = random.choice(list_course) "
   ]
  },
  {
   "cell_type": "code",
   "execution_count": 34,
   "metadata": {},
   "outputs": [
    {
     "data": {
      "text/plain": [
       "'Miss Jennifer Long'"
      ]
     },
     "execution_count": 34,
     "metadata": {},
     "output_type": "execute_result"
    }
   ],
   "source": [
    "random_participant "
   ]
  },
  {
   "cell_type": "code",
   "execution_count": 35,
   "metadata": {},
   "outputs": [
    {
     "data": {
      "text/plain": [
       "'Belarus'"
      ]
     },
     "execution_count": 35,
     "metadata": {},
     "output_type": "execute_result"
    }
   ],
   "source": [
    "random_course"
   ]
  },
  {
   "cell_type": "code",
   "execution_count": 38,
   "metadata": {},
   "outputs": [],
   "source": [
    "def random_assignment(n_course, k_participant):\n",
    "    max_group_number = math.floor(k_participant / n_course)\n",
    "    fake = Faker()\n",
    "    list_course = []\n",
    "    list_participant = []\n",
    "    list_distribute = []\n",
    "    list_index = [i for i in range(n_course)]\n",
    "    \n",
    "    #generating random courses\n",
    "    for _ in range(n_course):\n",
    "        list_course.append(fake.country())\n",
    "        \n",
    "    #generating random participants\n",
    "    for _ in range(k_participant):\n",
    "        list_participant.append(fake.name()) \n",
    "\n",
    "    # creating participant list for each course\n",
    "    for course in list_course:\n",
    "        course = []\n",
    "        for _ in range(max_group_number):\n",
    "            participant = random.choice(list_participant)\n",
    "            list_participant.remove(participant)\n",
    "            course.append(participant)\n",
    "        list_distribute.append(course)\n",
    "\n",
    "    # in case participants cant be divided equally into groups\n",
    "    for _ in range(len(list_participant)):\n",
    "        participant = random.choice(list_participant)\n",
    "        list_participant.remove(participant)\n",
    "        random_index = random.choice(list_index)\n",
    "        list_index.remove(random_index)\n",
    "        list_distribute[random_index].append(participant)      \n",
    "\n",
    "    # dict_assign = dict(zip(list_course, list_distribute))\n",
    "\n",
    "    # df = pd.DataFrame.from_dict(dict_assign)\n",
    "\n",
    "    df = pd.DataFrame(list_distribute).T\n",
    "    df.columns = list_course\n",
    "    df.index += 1\n",
    "\n",
    "    return df"
   ]
  },
  {
   "cell_type": "code",
   "execution_count": 40,
   "metadata": {},
   "outputs": [
    {
     "data": {
      "text/html": [
       "<div>\n",
       "<style scoped>\n",
       "    .dataframe tbody tr th:only-of-type {\n",
       "        vertical-align: middle;\n",
       "    }\n",
       "\n",
       "    .dataframe tbody tr th {\n",
       "        vertical-align: top;\n",
       "    }\n",
       "\n",
       "    .dataframe thead th {\n",
       "        text-align: right;\n",
       "    }\n",
       "</style>\n",
       "<table border=\"1\" class=\"dataframe\">\n",
       "  <thead>\n",
       "    <tr style=\"text-align: right;\">\n",
       "      <th></th>\n",
       "      <th>Croatia</th>\n",
       "      <th>Lithuania</th>\n",
       "      <th>Vanuatu</th>\n",
       "      <th>Morocco</th>\n",
       "      <th>Netherlands Antilles</th>\n",
       "      <th>Pitcairn Islands</th>\n",
       "    </tr>\n",
       "  </thead>\n",
       "  <tbody>\n",
       "    <tr>\n",
       "      <th>1</th>\n",
       "      <td>Denise Henry</td>\n",
       "      <td>Christina Rogers</td>\n",
       "      <td>Scott Graham</td>\n",
       "      <td>Dr. Jared Rose Jr.</td>\n",
       "      <td>Paul Fuentes</td>\n",
       "      <td>Tiffany Hull</td>\n",
       "    </tr>\n",
       "    <tr>\n",
       "      <th>2</th>\n",
       "      <td>Shelly Cox</td>\n",
       "      <td>Steven Shields</td>\n",
       "      <td>Tammy Hunt</td>\n",
       "      <td>Crystal Contreras</td>\n",
       "      <td>Barbara Duffy</td>\n",
       "      <td>Pamela Harris</td>\n",
       "    </tr>\n",
       "    <tr>\n",
       "      <th>3</th>\n",
       "      <td>Robert Melendez</td>\n",
       "      <td>Matthew Rivera</td>\n",
       "      <td>Madison Christensen</td>\n",
       "      <td>Megan Duncan</td>\n",
       "      <td>Taylor Fisher</td>\n",
       "      <td>Judy Hansen</td>\n",
       "    </tr>\n",
       "    <tr>\n",
       "      <th>4</th>\n",
       "      <td>Gina Harrison</td>\n",
       "      <td>Johnny Anderson MD</td>\n",
       "      <td>None</td>\n",
       "      <td>Devin Huynh</td>\n",
       "      <td>Courtney Johnson</td>\n",
       "      <td>Dennis Farmer</td>\n",
       "    </tr>\n",
       "  </tbody>\n",
       "</table>\n",
       "</div>"
      ],
      "text/plain": [
       "           Croatia           Lithuania              Vanuatu  \\\n",
       "1     Denise Henry    Christina Rogers         Scott Graham   \n",
       "2       Shelly Cox      Steven Shields           Tammy Hunt   \n",
       "3  Robert Melendez      Matthew Rivera  Madison Christensen   \n",
       "4    Gina Harrison  Johnny Anderson MD                 None   \n",
       "\n",
       "              Morocco Netherlands Antilles Pitcairn Islands  \n",
       "1  Dr. Jared Rose Jr.         Paul Fuentes     Tiffany Hull  \n",
       "2   Crystal Contreras        Barbara Duffy    Pamela Harris  \n",
       "3        Megan Duncan        Taylor Fisher      Judy Hansen  \n",
       "4         Devin Huynh     Courtney Johnson    Dennis Farmer  "
      ]
     },
     "execution_count": 40,
     "metadata": {},
     "output_type": "execute_result"
    }
   ],
   "source": [
    "df = random_assignment(6, 23)\n",
    "df"
   ]
  },
  {
   "cell_type": "code",
   "execution_count": 41,
   "metadata": {},
   "outputs": [],
   "source": [
    "df.to_csv('random_assignment')"
   ]
  }
 ],
 "metadata": {
  "kernelspec": {
   "display_name": "Python 3.8.12 ('base')",
   "language": "python",
   "name": "python3"
  },
  "language_info": {
   "codemirror_mode": {
    "name": "ipython",
    "version": 3
   },
   "file_extension": ".py",
   "mimetype": "text/x-python",
   "name": "python",
   "nbconvert_exporter": "python",
   "pygments_lexer": "ipython3",
   "version": "3.8.12"
  },
  "orig_nbformat": 4,
  "vscode": {
   "interpreter": {
    "hash": "8bbaf081f8b3bca6151094b17c56870e42b6483d70c4ebda089a89290f7fe980"
   }
  }
 },
 "nbformat": 4,
 "nbformat_minor": 2
}
