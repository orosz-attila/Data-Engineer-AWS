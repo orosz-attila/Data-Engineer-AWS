{
 "cells": [
  {
   "cell_type": "markdown",
   "id": "6bc618a3",
   "metadata": {},
   "source": [
    "# 2. Spark SQL"
   ]
  },
  {
   "cell_type": "markdown",
   "id": "27c3b113",
   "metadata": {},
   "source": [
    "https://drive.google.com/file/d/1_mH86hiGYxRnYZBs_JaPkLcxEHUOjrcr/view "
   ]
  },
  {
   "cell_type": "markdown",
   "id": "9facb2a4",
   "metadata": {},
   "source": [
    "1. Read data from from S3 s3a://aws-stocks-dataset/AAL.csv\n",
    "as dataframe\n",
    "\n",
    "2. Create a new column month, based on Date\n",
    "3. With Spark SQL get the highest price per month and sort the\n",
    "output so the latest is first.\n",
    "4. Print the output"
   ]
  },
  {
   "cell_type": "code",
   "execution_count": 3,
   "id": "b1432336",
   "metadata": {},
   "outputs": [
    {
     "data": {
      "application/vnd.jupyter.widget-view+json": {
       "model_id": "",
       "version_major": 2,
       "version_minor": 0
      },
      "text/plain": [
       "FloatProgress(value=0.0, bar_style='info', description='Progress:', layout=Layout(height='25px', width='50%'),…"
      ]
     },
     "metadata": {},
     "output_type": "display_data"
    }
   ],
   "source": [
    "import pyspark\n",
    "from pyspark.sql import SparkSession\n",
    "from pyspark.sql.functions import *"
   ]
  },
  {
   "cell_type": "code",
   "execution_count": 4,
   "id": "e8b61148",
   "metadata": {},
   "outputs": [
    {
     "data": {
      "application/vnd.jupyter.widget-view+json": {
       "model_id": "",
       "version_major": 2,
       "version_minor": 0
      },
      "text/plain": [
       "FloatProgress(value=0.0, bar_style='info', description='Progress:', layout=Layout(height='25px', width='50%'),…"
      ]
     },
     "metadata": {},
     "output_type": "display_data"
    }
   ],
   "source": [
    "spark = SparkSession.builder.master(\"local[1]\").appName(\"AWSpark\").getOrCreate()"
   ]
  },
  {
   "cell_type": "markdown",
   "id": "e1a2fa2b",
   "metadata": {},
   "source": [
    "### 1. Read data from from S3 s3a://aws-stocks-dataset/AAL.csv as dataframe"
   ]
  },
  {
   "cell_type": "code",
   "execution_count": 10,
   "id": "be61e8d2",
   "metadata": {},
   "outputs": [
    {
     "data": {
      "application/vnd.jupyter.widget-view+json": {
       "model_id": "",
       "version_major": 2,
       "version_minor": 0
      },
      "text/plain": [
       "FloatProgress(value=0.0, bar_style='info', description='Progress:', layout=Layout(height='25px', width='50%'),…"
      ]
     },
     "metadata": {},
     "output_type": "display_data"
    },
    {
     "name": "stdout",
     "output_type": "stream",
     "text": [
      "+----------+------------------+------------------+-------+------------------+------------------+------------------+\n",
      "|      Date|               Low|              Open| Volume|              High|             Close|    Adjusted Close|\n",
      "+----------+------------------+------------------+-------+------------------+------------------+------------------+\n",
      "|27-09-2005|19.100000381469727|21.049999237060547| 961200|21.399999618530273|19.299999237060547|18.194910049438477|\n",
      "|28-09-2005|19.200000762939453|19.299999237060547|5747900|20.530000686645508|              20.5|19.326204299926758|\n",
      "|29-09-2005|20.100000381469727|20.399999618530273|1078200|20.579999923706055|20.209999084472656| 19.05280303955078|\n",
      "|30-09-2005| 20.18000030517578|20.260000228881836|3123300|21.049999237060547|21.010000228881836|19.806997299194336|\n",
      "|03-10-2005|20.899999618530273|20.899999618530273|1057900|             21.75|              21.5|20.268939971923828|\n",
      "|04-10-2005|21.440000534057617|21.440000534057617|1768800|              22.5| 22.15999984741211|20.891155242919922|\n",
      "|05-10-2005|             21.75|22.100000381469727| 904300|22.309999465942383|22.200000762939453|20.928861618041992|\n",
      "|06-10-2005|22.399999618530273|22.600000381469727|1614200|              23.0|22.579999923706055|  21.2871036529541|\n",
      "|07-10-2005|21.799999237060547|             22.25| 753400|22.600000381469727|22.149999618530273|20.881725311279297|\n",
      "|10-10-2005|22.100000381469727|22.280000686645508| 538700|22.290000915527344|22.209999084472656| 20.93828773498535|\n",
      "|11-10-2005|21.799999237060547|22.260000228881836| 764600|22.299999237060547|21.979999542236328|20.721452713012695|\n",
      "|12-10-2005|21.639999389648438|21.899999618530273| 912900|22.049999237060547|21.760000228881836| 20.51405143737793|\n",
      "|13-10-2005|21.399999618530273|21.700000762939453| 531300|21.799999237060547|21.709999084472656|20.466915130615234|\n",
      "|14-10-2005|21.850000381469727|21.850000381469727| 887800|22.399999618530273|22.270000457763672| 20.99485206604004|\n",
      "|17-10-2005|21.850000381469727|22.149999618530273| 464000|22.219999313354492|22.079999923706055| 20.81573486328125|\n",
      "|18-10-2005|21.350000381469727|22.059999465942383|1815500|22.299999237060547|21.489999771118164| 20.25951385498047|\n",
      "|19-10-2005|20.850000381469727|  21.3700008392334|1466000|21.600000381469727|  21.3799991607666|20.155813217163086|\n",
      "|20-10-2005|20.850000381469727|21.350000381469727| 640900|21.479999542236328|21.020000457763672|19.816425323486328|\n",
      "|21-10-2005|21.010000228881836|21.020000457763672| 917000|22.420000076293945|21.959999084472656|20.702604293823242|\n",
      "|24-10-2005|21.950000762939453|22.010000228881836| 508800|22.360000610351562|22.309999465942383|21.032560348510742|\n",
      "+----------+------------------+------------------+-------+------------------+------------------+------------------+\n",
      "only showing top 20 rows"
     ]
    }
   ],
   "source": [
    "df = spark.read.option(\"header\",\"true\").csv(\"s3a://aws-stocks-dataset/AAL.csv\")\n",
    "df.show()"
   ]
  },
  {
   "cell_type": "markdown",
   "id": "75235a26",
   "metadata": {},
   "source": [
    "### 2. Create a new column month, based on Date"
   ]
  },
  {
   "cell_type": "code",
   "execution_count": 8,
   "id": "92c76efd",
   "metadata": {},
   "outputs": [
    {
     "data": {
      "application/vnd.jupyter.widget-view+json": {
       "model_id": "",
       "version_major": 2,
       "version_minor": 0
      },
      "text/plain": [
       "FloatProgress(value=0.0, bar_style='info', description='Progress:', layout=Layout(height='25px', width='50%'),…"
      ]
     },
     "metadata": {},
     "output_type": "display_data"
    }
   ],
   "source": [
    "## not in sql...\n",
    "# df = df.withColumn('year', split(df['Date'], '-').getItem(0)) \\\n",
    "#        .withColumn('month', split(df['Date'], '-').getItem(1)) \\\n",
    "#       .withColumn('day', split(df['Date'], '-').getItem(2))\n",
    "# df.show(truncate=False)"
   ]
  },
  {
   "cell_type": "code",
   "execution_count": 11,
   "id": "105efb34",
   "metadata": {},
   "outputs": [
    {
     "data": {
      "application/vnd.jupyter.widget-view+json": {
       "model_id": "",
       "version_major": 2,
       "version_minor": 0
      },
      "text/plain": [
       "FloatProgress(value=0.0, bar_style='info', description='Progress:', layout=Layout(height='25px', width='50%'),…"
      ]
     },
     "metadata": {},
     "output_type": "display_data"
    },
    {
     "name": "stdout",
     "output_type": "stream",
     "text": [
      "+----------+------------------+------------------+-------+------------------+------------------+------------------+----------+\n",
      "|      Date|               Low|              Open| Volume|              High|             Close|    Adjusted Close|   Date_dt|\n",
      "+----------+------------------+------------------+-------+------------------+------------------+------------------+----------+\n",
      "|27-09-2005|19.100000381469727|21.049999237060547| 961200|21.399999618530273|19.299999237060547|18.194910049438477|2005-09-27|\n",
      "|28-09-2005|19.200000762939453|19.299999237060547|5747900|20.530000686645508|              20.5|19.326204299926758|2005-09-28|\n",
      "|29-09-2005|20.100000381469727|20.399999618530273|1078200|20.579999923706055|20.209999084472656| 19.05280303955078|2005-09-29|\n",
      "|30-09-2005| 20.18000030517578|20.260000228881836|3123300|21.049999237060547|21.010000228881836|19.806997299194336|2005-09-30|\n",
      "|03-10-2005|20.899999618530273|20.899999618530273|1057900|             21.75|              21.5|20.268939971923828|2005-10-03|\n",
      "+----------+------------------+------------------+-------+------------------+------------------+------------------+----------+\n",
      "only showing top 5 rows"
     ]
    }
   ],
   "source": [
    "df = df.withColumn(\"Date_dt\", to_date(col('Date'), \"dd-MM-yyyy\"))\n",
    "df.show(5)"
   ]
  },
  {
   "cell_type": "code",
   "execution_count": 36,
   "id": "244b3383",
   "metadata": {},
   "outputs": [
    {
     "data": {
      "application/vnd.jupyter.widget-view+json": {
       "model_id": "",
       "version_major": 2,
       "version_minor": 0
      },
      "text/plain": [
       "FloatProgress(value=0.0, bar_style='info', description='Progress:', layout=Layout(height='25px', width='50%'),…"
      ]
     },
     "metadata": {},
     "output_type": "display_data"
    }
   ],
   "source": [
    "# register the table \n",
    "df.createOrReplaceTempView(\"stocks\")"
   ]
  },
  {
   "cell_type": "code",
   "execution_count": 37,
   "id": "36604767",
   "metadata": {},
   "outputs": [
    {
     "data": {
      "application/vnd.jupyter.widget-view+json": {
       "model_id": "",
       "version_major": 2,
       "version_minor": 0
      },
      "text/plain": [
       "FloatProgress(value=0.0, bar_style='info', description='Progress:', layout=Layout(height='25px', width='50%'),…"
      ]
     },
     "metadata": {},
     "output_type": "display_data"
    }
   ],
   "source": [
    "df_month = spark.sql(\"SELECT Date_dt, EXTRACT(MONTH FROM Date_dt) AS Month FROM stocks\")"
   ]
  },
  {
   "cell_type": "code",
   "execution_count": 38,
   "id": "42b63995",
   "metadata": {
    "scrolled": true
   },
   "outputs": [
    {
     "data": {
      "application/vnd.jupyter.widget-view+json": {
       "model_id": "",
       "version_major": 2,
       "version_minor": 0
      },
      "text/plain": [
       "FloatProgress(value=0.0, bar_style='info', description='Progress:', layout=Layout(height='25px', width='50%'),…"
      ]
     },
     "metadata": {},
     "output_type": "display_data"
    },
    {
     "name": "stdout",
     "output_type": "stream",
     "text": [
      "+----------+-----+\n",
      "|   Date_dt|Month|\n",
      "+----------+-----+\n",
      "|2005-09-27|    9|\n",
      "|2005-09-28|    9|\n",
      "|2005-09-29|    9|\n",
      "|2005-09-30|    9|\n",
      "|2005-10-03|   10|\n",
      "+----------+-----+\n",
      "only showing top 5 rows"
     ]
    }
   ],
   "source": [
    "df_month.show(5)"
   ]
  },
  {
   "cell_type": "code",
   "execution_count": 44,
   "id": "fd1dcc78",
   "metadata": {},
   "outputs": [
    {
     "data": {
      "application/vnd.jupyter.widget-view+json": {
       "model_id": "",
       "version_major": 2,
       "version_minor": 0
      },
      "text/plain": [
       "FloatProgress(value=0.0, bar_style='info', description='Progress:', layout=Layout(height='25px', width='50%'),…"
      ]
     },
     "metadata": {},
     "output_type": "display_data"
    },
    {
     "name": "stdout",
     "output_type": "stream",
     "text": [
      "+----------+-----+\n",
      "|   Date_dt|Month|\n",
      "+----------+-----+\n",
      "|2005-09-27|    9|\n",
      "|2005-09-28|    9|\n",
      "|2005-09-29|    9|\n",
      "|2005-09-30|    9|\n",
      "|2005-10-03|   10|\n",
      "+----------+-----+"
     ]
    }
   ],
   "source": [
    "spark.sql(\"SELECT Date_dt, EXTRACT(MONTH FROM Date_dt) AS Month FROM stocks Limit 5\").show()"
   ]
  },
  {
   "cell_type": "code",
   "execution_count": 48,
   "id": "7a846307",
   "metadata": {},
   "outputs": [
    {
     "data": {
      "application/vnd.jupyter.widget-view+json": {
       "model_id": "",
       "version_major": 2,
       "version_minor": 0
      },
      "text/plain": [
       "FloatProgress(value=0.0, bar_style='info', description='Progress:', layout=Layout(height='25px', width='50%'),…"
      ]
     },
     "metadata": {},
     "output_type": "display_data"
    }
   ],
   "source": [
    "df = spark.sql(\"SELECT *, EXTRACT(MONTH FROM Date_dt) AS Month FROM stocks\")"
   ]
  },
  {
   "cell_type": "code",
   "execution_count": 49,
   "id": "9f7309b1",
   "metadata": {},
   "outputs": [
    {
     "data": {
      "application/vnd.jupyter.widget-view+json": {
       "model_id": "",
       "version_major": 2,
       "version_minor": 0
      },
      "text/plain": [
       "FloatProgress(value=0.0, bar_style='info', description='Progress:', layout=Layout(height='25px', width='50%'),…"
      ]
     },
     "metadata": {},
     "output_type": "display_data"
    },
    {
     "name": "stdout",
     "output_type": "stream",
     "text": [
      "+----------+------------------+------------------+-------+----+------------------+------------------+----------+-----+\n",
      "|      Date|               Low|              Open| Volume|High|             Close|    Adjusted Close|   Date_dt|Month|\n",
      "+----------+------------------+------------------+-------+----+------------------+------------------+----------+-----+\n",
      "|27-09-2005|19.100000381469727|21.049999237060547| 961200|21.0|19.299999237060547|18.194910049438477|2005-09-27|    9|\n",
      "|28-09-2005|19.200000762939453|19.299999237060547|5747900|20.0|              20.5|19.326204299926758|2005-09-28|    9|\n",
      "|29-09-2005|20.100000381469727|20.399999618530273|1078200|20.0|20.209999084472656| 19.05280303955078|2005-09-29|    9|\n",
      "|30-09-2005| 20.18000030517578|20.260000228881836|3123300|21.0|21.010000228881836|19.806997299194336|2005-09-30|    9|\n",
      "|03-10-2005|20.899999618530273|20.899999618530273|1057900|21.0|              21.5|20.268939971923828|2005-10-03|   10|\n",
      "|04-10-2005|21.440000534057617|21.440000534057617|1768800|22.0| 22.15999984741211|20.891155242919922|2005-10-04|   10|\n",
      "|05-10-2005|             21.75|22.100000381469727| 904300|22.0|22.200000762939453|20.928861618041992|2005-10-05|   10|\n",
      "|06-10-2005|22.399999618530273|22.600000381469727|1614200|23.0|22.579999923706055|  21.2871036529541|2005-10-06|   10|\n",
      "|07-10-2005|21.799999237060547|             22.25| 753400|22.0|22.149999618530273|20.881725311279297|2005-10-07|   10|\n",
      "|10-10-2005|22.100000381469727|22.280000686645508| 538700|22.0|22.209999084472656| 20.93828773498535|2005-10-10|   10|\n",
      "|11-10-2005|21.799999237060547|22.260000228881836| 764600|22.0|21.979999542236328|20.721452713012695|2005-10-11|   10|\n",
      "|12-10-2005|21.639999389648438|21.899999618530273| 912900|22.0|21.760000228881836| 20.51405143737793|2005-10-12|   10|\n",
      "|13-10-2005|21.399999618530273|21.700000762939453| 531300|21.0|21.709999084472656|20.466915130615234|2005-10-13|   10|\n",
      "|14-10-2005|21.850000381469727|21.850000381469727| 887800|22.0|22.270000457763672| 20.99485206604004|2005-10-14|   10|\n",
      "|17-10-2005|21.850000381469727|22.149999618530273| 464000|22.0|22.079999923706055| 20.81573486328125|2005-10-17|   10|\n",
      "|18-10-2005|21.350000381469727|22.059999465942383|1815500|22.0|21.489999771118164| 20.25951385498047|2005-10-18|   10|\n",
      "|19-10-2005|20.850000381469727|  21.3700008392334|1466000|21.0|  21.3799991607666|20.155813217163086|2005-10-19|   10|\n",
      "|20-10-2005|20.850000381469727|21.350000381469727| 640900|21.0|21.020000457763672|19.816425323486328|2005-10-20|   10|\n",
      "|21-10-2005|21.010000228881836|21.020000457763672| 917000|22.0|21.959999084472656|20.702604293823242|2005-10-21|   10|\n",
      "|24-10-2005|21.950000762939453|22.010000228881836| 508800|22.0|22.309999465942383|21.032560348510742|2005-10-24|   10|\n",
      "+----------+------------------+------------------+-------+----+------------------+------------------+----------+-----+\n",
      "only showing top 20 rows"
     ]
    }
   ],
   "source": [
    "df.show()"
   ]
  },
  {
   "cell_type": "markdown",
   "id": "f1aec2fa",
   "metadata": {},
   "source": [
    "### 3. With Spark SQL get the highest price per month and sort the output so the latest is first."
   ]
  },
  {
   "cell_type": "code",
   "execution_count": 34,
   "id": "4947c281",
   "metadata": {},
   "outputs": [
    {
     "data": {
      "application/vnd.jupyter.widget-view+json": {
       "model_id": "",
       "version_major": 2,
       "version_minor": 0
      },
      "text/plain": [
       "FloatProgress(value=0.0, bar_style='info', description='Progress:', layout=Layout(height='25px', width='50%'),…"
      ]
     },
     "metadata": {},
     "output_type": "display_data"
    }
   ],
   "source": [
    "# changing datatype of a row\n",
    "# its the same: \n",
    "# df = df.withColumn('High', col('High').cast('float'))\n",
    "\n",
    "df = df.withColumn('High', df.High.cast('float'))"
   ]
  },
  {
   "cell_type": "code",
   "execution_count": 50,
   "id": "ad772561",
   "metadata": {},
   "outputs": [
    {
     "data": {
      "application/vnd.jupyter.widget-view+json": {
       "model_id": "",
       "version_major": 2,
       "version_minor": 0
      },
      "text/plain": [
       "FloatProgress(value=0.0, bar_style='info', description='Progress:', layout=Layout(height='25px', width='50%'),…"
      ]
     },
     "metadata": {},
     "output_type": "display_data"
    },
    {
     "name": "stdout",
     "output_type": "stream",
     "text": [
      "root\n",
      " |-- Date: string (nullable = true)\n",
      " |-- Low: string (nullable = true)\n",
      " |-- Open: string (nullable = true)\n",
      " |-- Volume: string (nullable = true)\n",
      " |-- High: float (nullable = true)\n",
      " |-- Close: string (nullable = true)\n",
      " |-- Adjusted Close: string (nullable = true)\n",
      " |-- Date_dt: date (nullable = true)\n",
      " |-- Month: integer (nullable = true)"
     ]
    }
   ],
   "source": [
    "df.printSchema()"
   ]
  },
  {
   "cell_type": "code",
   "execution_count": 51,
   "id": "78fb8992",
   "metadata": {},
   "outputs": [
    {
     "data": {
      "application/vnd.jupyter.widget-view+json": {
       "model_id": "",
       "version_major": 2,
       "version_minor": 0
      },
      "text/plain": [
       "FloatProgress(value=0.0, bar_style='info', description='Progress:', layout=Layout(height='25px', width='50%'),…"
      ]
     },
     "metadata": {},
     "output_type": "display_data"
    },
    {
     "name": "stdout",
     "output_type": "stream",
     "text": [
      "+----------+------------------+------------------+-------+----+------------------+------------------+----------+-----+\n",
      "|      Date|               Low|              Open| Volume|High|             Close|    Adjusted Close|   Date_dt|Month|\n",
      "+----------+------------------+------------------+-------+----+------------------+------------------+----------+-----+\n",
      "|27-09-2005|19.100000381469727|21.049999237060547| 961200|21.0|19.299999237060547|18.194910049438477|2005-09-27|    9|\n",
      "|28-09-2005|19.200000762939453|19.299999237060547|5747900|20.0|              20.5|19.326204299926758|2005-09-28|    9|\n",
      "|29-09-2005|20.100000381469727|20.399999618530273|1078200|20.0|20.209999084472656| 19.05280303955078|2005-09-29|    9|\n",
      "|30-09-2005| 20.18000030517578|20.260000228881836|3123300|21.0|21.010000228881836|19.806997299194336|2005-09-30|    9|\n",
      "|03-10-2005|20.899999618530273|20.899999618530273|1057900|21.0|              21.5|20.268939971923828|2005-10-03|   10|\n",
      "+----------+------------------+------------------+-------+----+------------------+------------------+----------+-----+\n",
      "only showing top 5 rows"
     ]
    }
   ],
   "source": [
    "df.show(5)"
   ]
  },
  {
   "cell_type": "code",
   "execution_count": 69,
   "id": "9365c3ae",
   "metadata": {},
   "outputs": [
    {
     "data": {
      "application/vnd.jupyter.widget-view+json": {
       "model_id": "",
       "version_major": 2,
       "version_minor": 0
      },
      "text/plain": [
       "FloatProgress(value=0.0, bar_style='info', description='Progress:', layout=Layout(height='25px', width='50%'),…"
      ]
     },
     "metadata": {},
     "output_type": "display_data"
    }
   ],
   "source": [
    "# SQL view must be created again with the full table for the new sql query\n",
    "df.createOrReplaceTempView('stocks')"
   ]
  },
  {
   "cell_type": "code",
   "execution_count": 72,
   "id": "ad1b35b1",
   "metadata": {},
   "outputs": [
    {
     "data": {
      "application/vnd.jupyter.widget-view+json": {
       "model_id": "",
       "version_major": 2,
       "version_minor": 0
      },
      "text/plain": [
       "FloatProgress(value=0.0, bar_style='info', description='Progress:', layout=Layout(height='25px', width='50%'),…"
      ]
     },
     "metadata": {},
     "output_type": "display_data"
    }
   ],
   "source": [
    "query = \"\"\"\n",
    "SELECT Month, max(High) as Highest_Price \n",
    "FROM stocks \n",
    "GROUP BY Month\n",
    "ORDER BY Month\n",
    "\"\"\""
   ]
  },
  {
   "cell_type": "markdown",
   "id": "1c3815ce",
   "metadata": {},
   "source": [
    "### 4. Print the output"
   ]
  },
  {
   "cell_type": "code",
   "execution_count": 73,
   "id": "0d7e3cde",
   "metadata": {},
   "outputs": [
    {
     "data": {
      "application/vnd.jupyter.widget-view+json": {
       "model_id": "",
       "version_major": 2,
       "version_minor": 0
      },
      "text/plain": [
       "FloatProgress(value=0.0, bar_style='info', description='Progress:', layout=Layout(height='25px', width='50%'),…"
      ]
     },
     "metadata": {},
     "output_type": "display_data"
    },
    {
     "name": "stdout",
     "output_type": "stream",
     "text": [
      "+-----+-------------+\n",
      "|Month|Highest_Price|\n",
      "+-----+-------------+\n",
      "|    1|         62.0|\n",
      "|    2|         59.0|\n",
      "|    3|         57.0|\n",
      "|    4|         53.0|\n",
      "|    5|         52.0|\n",
      "|    6|         51.0|\n",
      "|    7|         56.0|\n",
      "|    8|         52.0|\n",
      "|    9|         48.0|\n",
      "|   10|         53.0|\n",
      "|   11|         63.0|\n",
      "|   12|         62.0|\n",
      "+-----+-------------+"
     ]
    }
   ],
   "source": [
    "spark.sql(query).show()"
   ]
  }
 ],
 "metadata": {
  "kernelspec": {
   "display_name": "PySpark",
   "language": "",
   "name": "pysparkkernel"
  },
  "language_info": {
   "codemirror_mode": {
    "name": "python",
    "version": 3
   },
   "mimetype": "text/x-python",
   "name": "pyspark",
   "pygments_lexer": "python3"
  }
 },
 "nbformat": 4,
 "nbformat_minor": 5
}
