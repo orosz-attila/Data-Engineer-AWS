{
 "cells": [
  {
   "cell_type": "markdown",
   "id": "8c03f441",
   "metadata": {},
   "source": [
    "# 5_spark_final_project\n"
   ]
  },
  {
   "cell_type": "markdown",
   "id": "5c9791d6",
   "metadata": {},
   "source": [
    "## Easy version"
   ]
  },
  {
   "cell_type": "markdown",
   "id": "0ec39478",
   "metadata": {},
   "source": [
    "1. Read all A* files from S3 aws-stocks-dataset Bucket as dataframe\n",
    "2. Create a new column which shows the difference between open and close of the stock\n",
    "3. Convert high column to integer and keep it as high_int\n",
    "4. Convert Date field to the column with type \"Date\"\n",
    "5. Find the highest \"high\" price for every day among all the stocks, Sort it by Date\n",
    "6. Print your result and schema of your dataframe\n",
    "7. Save your result dataframe as parquet locally\n",
    "\n",
    "* You are free to use either Dataframe API or Spark SQL"
   ]
  },
  {
   "cell_type": "code",
   "execution_count": 1,
   "id": "f3404967",
   "metadata": {},
   "outputs": [
    {
     "name": "stdout",
     "output_type": "stream",
     "text": [
      "Starting Spark application\n"
     ]
    },
    {
     "data": {
      "text/html": [
       "<table>\n",
       "<tr><th>ID</th><th>YARN Application ID</th><th>Kind</th><th>State</th><th>Spark UI</th><th>Driver log</th><th>Current session?</th></tr><tr><td>0</td><td>None</td><td>pyspark</td><td>idle</td><td></td><td></td><td>✔</td></tr></table>"
      ],
      "text/plain": [
       "<IPython.core.display.HTML object>"
      ]
     },
     "metadata": {},
     "output_type": "display_data"
    },
    {
     "data": {
      "application/vnd.jupyter.widget-view+json": {
       "model_id": "",
       "version_major": 2,
       "version_minor": 0
      },
      "text/plain": [
       "FloatProgress(value=0.0, bar_style='info', description='Progress:', layout=Layout(height='25px', width='50%'),…"
      ]
     },
     "metadata": {},
     "output_type": "display_data"
    },
    {
     "name": "stdout",
     "output_type": "stream",
     "text": [
      "SparkSession available as 'spark'.\n"
     ]
    },
    {
     "data": {
      "application/vnd.jupyter.widget-view+json": {
       "model_id": "",
       "version_major": 2,
       "version_minor": 0
      },
      "text/plain": [
       "FloatProgress(value=0.0, bar_style='info', description='Progress:', layout=Layout(height='25px', width='50%'),…"
      ]
     },
     "metadata": {},
     "output_type": "display_data"
    }
   ],
   "source": [
    "import pyspark\n",
    "from pyspark.sql import SparkSession\n",
    "from pyspark.sql.functions import *"
   ]
  },
  {
   "cell_type": "code",
   "execution_count": 2,
   "id": "26ea7b51",
   "metadata": {},
   "outputs": [
    {
     "data": {
      "application/vnd.jupyter.widget-view+json": {
       "model_id": "",
       "version_major": 2,
       "version_minor": 0
      },
      "text/plain": [
       "FloatProgress(value=0.0, bar_style='info', description='Progress:', layout=Layout(height='25px', width='50%'),…"
      ]
     },
     "metadata": {},
     "output_type": "display_data"
    }
   ],
   "source": [
    "spark = SparkSession.builder.master(\"local[1]\").appName(\"Spark\").getOrCreate()"
   ]
  },
  {
   "cell_type": "markdown",
   "id": "3878095d",
   "metadata": {},
   "source": [
    "### 1. Read all A* files from S3 aws-stocks-dataset Bucket as dataframe"
   ]
  },
  {
   "cell_type": "code",
   "execution_count": 3,
   "id": "e788fea3",
   "metadata": {},
   "outputs": [
    {
     "data": {
      "application/vnd.jupyter.widget-view+json": {
       "model_id": "",
       "version_major": 2,
       "version_minor": 0
      },
      "text/plain": [
       "FloatProgress(value=0.0, bar_style='info', description='Progress:', layout=Layout(height='25px', width='50%'),…"
      ]
     },
     "metadata": {},
     "output_type": "display_data"
    }
   ],
   "source": [
    "df = spark.read.option(\"header\",\"true\").csv(\"s3a://aws-stocks-dataset/A*\")"
   ]
  },
  {
   "cell_type": "code",
   "execution_count": 130,
   "id": "fcd6deb0",
   "metadata": {},
   "outputs": [
    {
     "data": {
      "application/vnd.jupyter.widget-view+json": {
       "model_id": "",
       "version_major": 2,
       "version_minor": 0
      },
      "text/plain": [
       "FloatProgress(value=0.0, bar_style='info', description='Progress:', layout=Layout(height='25px', width='50%'),…"
      ]
     },
     "metadata": {},
     "output_type": "display_data"
    }
   ],
   "source": [
    "df1 = df.withColumn(\"stock_index\", input_file_name())"
   ]
  },
  {
   "cell_type": "code",
   "execution_count": 131,
   "id": "8d50132d",
   "metadata": {},
   "outputs": [
    {
     "data": {
      "application/vnd.jupyter.widget-view+json": {
       "model_id": "",
       "version_major": 2,
       "version_minor": 0
      },
      "text/plain": [
       "FloatProgress(value=0.0, bar_style='info', description='Progress:', layout=Layout(height='25px', width='50%'),…"
      ]
     },
     "metadata": {},
     "output_type": "display_data"
    }
   ],
   "source": [
    "df1 = df1.withColumn('stock_index', regexp_replace('stock_index', 's3a://aws-stocks-dataset/', ''))\n",
    "df1 = df1.withColumn('stock_index', regexp_replace('stock_index', '.csv', '')) "
   ]
  },
  {
   "cell_type": "code",
   "execution_count": 132,
   "id": "d805a22b",
   "metadata": {},
   "outputs": [
    {
     "data": {
      "application/vnd.jupyter.widget-view+json": {
       "model_id": "",
       "version_major": 2,
       "version_minor": 0
      },
      "text/plain": [
       "FloatProgress(value=0.0, bar_style='info', description='Progress:', layout=Layout(height='25px', width='50%'),…"
      ]
     },
     "metadata": {},
     "output_type": "display_data"
    }
   ],
   "source": [
    "df1 = df1.filter(df1.stock_index.startswith(\"A\"))"
   ]
  },
  {
   "cell_type": "code",
   "execution_count": 133,
   "id": "551ecf25",
   "metadata": {},
   "outputs": [
    {
     "data": {
      "application/vnd.jupyter.widget-view+json": {
       "model_id": "",
       "version_major": 2,
       "version_minor": 0
      },
      "text/plain": [
       "FloatProgress(value=0.0, bar_style='info', description='Progress:', layout=Layout(height='25px', width='50%'),…"
      ]
     },
     "metadata": {},
     "output_type": "display_data"
    },
    {
     "name": "stdout",
     "output_type": "stream",
     "text": [
      "+----------+-------------------+-------------------+---------+-------------------+-------------------+-------------------+-----------+\n",
      "|      Date|                Low|               Open|   Volume|               High|              Close|     Adjusted Close|stock_index|\n",
      "+----------+-------------------+-------------------+---------+-------------------+-------------------+-------------------+-----------+\n",
      "|12-12-1980| 0.1283479928970337| 0.1283479928970337|469033600| 0.1289059966802597| 0.1283479928970337|0.10003948211669922|       AAPL|\n",
      "|15-12-1980|0.12165199965238571|0.12221000343561172|175884800|0.12221000343561172|0.12165199965238571|0.09482034295797348|       AAPL|\n",
      "|16-12-1980|0.11272300034761429| 0.1132809966802597|105728000| 0.1132809966802597|0.11272300034761429|0.08786075562238693|       AAPL|\n",
      "|17-12-1980|0.11551299691200256|0.11551299691200256| 86441600|0.11607100069522858|0.11551299691200256|0.09003540128469467|       AAPL|\n",
      "|18-12-1980|0.11886200308799744|0.11886200308799744| 73449600|0.11941999942064285|0.11886200308799744|0.09264572709798813|       AAPL|\n",
      "+----------+-------------------+-------------------+---------+-------------------+-------------------+-------------------+-----------+\n",
      "only showing top 5 rows"
     ]
    }
   ],
   "source": [
    "df1.show(5)"
   ]
  },
  {
   "cell_type": "code",
   "execution_count": 134,
   "id": "0e466f16",
   "metadata": {},
   "outputs": [
    {
     "data": {
      "application/vnd.jupyter.widget-view+json": {
       "model_id": "",
       "version_major": 2,
       "version_minor": 0
      },
      "text/plain": [
       "FloatProgress(value=0.0, bar_style='info', description='Progress:', layout=Layout(height='25px', width='50%'),…"
      ]
     },
     "metadata": {},
     "output_type": "display_data"
    },
    {
     "name": "stdout",
     "output_type": "stream",
     "text": [
      "['Date', 'Low', 'Open', 'Volume', 'High', 'Close', 'Adjusted Close', 'stock_index']"
     ]
    }
   ],
   "source": [
    "df1.columns"
   ]
  },
  {
   "cell_type": "code",
   "execution_count": 135,
   "id": "4cb1c00e",
   "metadata": {},
   "outputs": [
    {
     "data": {
      "application/vnd.jupyter.widget-view+json": {
       "model_id": "",
       "version_major": 2,
       "version_minor": 0
      },
      "text/plain": [
       "FloatProgress(value=0.0, bar_style='info', description='Progress:', layout=Layout(height='25px', width='50%'),…"
      ]
     },
     "metadata": {},
     "output_type": "display_data"
    },
    {
     "name": "stdout",
     "output_type": "stream",
     "text": [
      "root\n",
      " |-- Date: string (nullable = true)\n",
      " |-- Low: string (nullable = true)\n",
      " |-- Open: string (nullable = true)\n",
      " |-- Volume: string (nullable = true)\n",
      " |-- High: string (nullable = true)\n",
      " |-- Close: string (nullable = true)\n",
      " |-- Adjusted Close: string (nullable = true)\n",
      " |-- stock_index: string (nullable = false)"
     ]
    }
   ],
   "source": [
    "df1.printSchema()"
   ]
  },
  {
   "cell_type": "markdown",
   "id": "2135bf61",
   "metadata": {},
   "source": [
    "### 2. Create a new column which shows the difference between open and close of the stock"
   ]
  },
  {
   "cell_type": "code",
   "execution_count": 136,
   "id": "b3ff83df",
   "metadata": {},
   "outputs": [
    {
     "data": {
      "application/vnd.jupyter.widget-view+json": {
       "model_id": "",
       "version_major": 2,
       "version_minor": 0
      },
      "text/plain": [
       "FloatProgress(value=0.0, bar_style='info', description='Progress:', layout=Layout(height='25px', width='50%'),…"
      ]
     },
     "metadata": {},
     "output_type": "display_data"
    }
   ],
   "source": [
    "df1 = df1.withColumn(\"Open_float\", col(\"Open\").cast(\"float\")) "
   ]
  },
  {
   "cell_type": "code",
   "execution_count": 137,
   "id": "f14d68f0",
   "metadata": {},
   "outputs": [
    {
     "data": {
      "application/vnd.jupyter.widget-view+json": {
       "model_id": "",
       "version_major": 2,
       "version_minor": 0
      },
      "text/plain": [
       "FloatProgress(value=0.0, bar_style='info', description='Progress:', layout=Layout(height='25px', width='50%'),…"
      ]
     },
     "metadata": {},
     "output_type": "display_data"
    }
   ],
   "source": [
    "df1 = df1.withColumn(\"Close_float\", col(\"Close\").cast(\"float\")) "
   ]
  },
  {
   "cell_type": "code",
   "execution_count": 138,
   "id": "72e181a7",
   "metadata": {},
   "outputs": [
    {
     "data": {
      "application/vnd.jupyter.widget-view+json": {
       "model_id": "",
       "version_major": 2,
       "version_minor": 0
      },
      "text/plain": [
       "FloatProgress(value=0.0, bar_style='info', description='Progress:', layout=Layout(height='25px', width='50%'),…"
      ]
     },
     "metadata": {},
     "output_type": "display_data"
    }
   ],
   "source": [
    "df1 = df1.withColumn(\"Difference\", col(\"Open_float\") - col('Close_float')) "
   ]
  },
  {
   "cell_type": "code",
   "execution_count": 139,
   "id": "b8ef72c3",
   "metadata": {},
   "outputs": [
    {
     "data": {
      "application/vnd.jupyter.widget-view+json": {
       "model_id": "",
       "version_major": 2,
       "version_minor": 0
      },
      "text/plain": [
       "FloatProgress(value=0.0, bar_style='info', description='Progress:', layout=Layout(height='25px', width='50%'),…"
      ]
     },
     "metadata": {},
     "output_type": "display_data"
    },
    {
     "name": "stdout",
     "output_type": "stream",
     "text": [
      "+----------+-----------+------------+\n",
      "|Open_float|Close_float|  Difference|\n",
      "+----------+-----------+------------+\n",
      "|  0.128348|   0.128348|         0.0|\n",
      "|   0.12221|   0.121652| 5.580038E-4|\n",
      "|  0.113281|   0.112723|5.5799633E-4|\n",
      "|  0.115513|   0.115513|         0.0|\n",
      "|  0.118862|   0.118862|         0.0|\n",
      "|  0.126116|   0.126116|         0.0|\n",
      "|  0.132254|   0.132254|         0.0|\n",
      "|  0.137835|   0.137835|         0.0|\n",
      "|  0.145089|   0.145089|         0.0|\n",
      "|  0.158482|   0.158482|         0.0|\n",
      "|  0.160714|   0.160714|         0.0|\n",
      "|  0.157366|   0.156808| 5.579889E-4|\n",
      "|  0.152902|   0.152344| 5.580038E-4|\n",
      "|  0.154018|   0.154018|         0.0|\n",
      "|  0.151228|    0.15067| 5.579889E-4|\n",
      "|  0.144531|   0.143973| 5.580038E-4|\n",
      "|  0.138393|   0.137835| 5.580038E-4|\n",
      "|  0.135603|   0.135045| 5.579889E-4|\n",
      "|  0.142299|   0.142299|         0.0|\n",
      "|  0.142299|   0.141183|0.0011159927|\n",
      "+----------+-----------+------------+\n",
      "only showing top 20 rows"
     ]
    }
   ],
   "source": [
    "df1.select('Open_float', 'Close_float', 'Difference').show()"
   ]
  },
  {
   "cell_type": "code",
   "execution_count": 140,
   "id": "bd6f0438",
   "metadata": {},
   "outputs": [
    {
     "data": {
      "application/vnd.jupyter.widget-view+json": {
       "model_id": "",
       "version_major": 2,
       "version_minor": 0
      },
      "text/plain": [
       "FloatProgress(value=0.0, bar_style='info', description='Progress:', layout=Layout(height='25px', width='50%'),…"
      ]
     },
     "metadata": {},
     "output_type": "display_data"
    },
    {
     "name": "stdout",
     "output_type": "stream",
     "text": [
      "['Date', 'Low', 'Open', 'Volume', 'High', 'Close', 'Adjusted Close', 'stock_index', 'Open_float', 'Close_float', 'Difference']"
     ]
    }
   ],
   "source": [
    "df1.columns"
   ]
  },
  {
   "cell_type": "code",
   "execution_count": 77,
   "id": "a52f7833",
   "metadata": {},
   "outputs": [
    {
     "data": {
      "application/vnd.jupyter.widget-view+json": {
       "model_id": "",
       "version_major": 2,
       "version_minor": 0
      },
      "text/plain": [
       "FloatProgress(value=0.0, bar_style='info', description='Progress:', layout=Layout(height='25px', width='50%'),…"
      ]
     },
     "metadata": {},
     "output_type": "display_data"
    }
   ],
   "source": [
    "# df1.printSchema()"
   ]
  },
  {
   "cell_type": "markdown",
   "id": "0a6fea24",
   "metadata": {},
   "source": [
    "### 3. Convert high column to integer and keep it as high_int"
   ]
  },
  {
   "cell_type": "code",
   "execution_count": 141,
   "id": "19709554",
   "metadata": {},
   "outputs": [
    {
     "data": {
      "application/vnd.jupyter.widget-view+json": {
       "model_id": "",
       "version_major": 2,
       "version_minor": 0
      },
      "text/plain": [
       "FloatProgress(value=0.0, bar_style='info', description='Progress:', layout=Layout(height='25px', width='50%'),…"
      ]
     },
     "metadata": {},
     "output_type": "display_data"
    }
   ],
   "source": [
    "df1 = df1.withColumn(\"high_int\", col(\"High\").cast(\"int\"))"
   ]
  },
  {
   "cell_type": "markdown",
   "id": "55211eda",
   "metadata": {},
   "source": [
    "### 4. Convert Date field to the column with type \"Date\""
   ]
  },
  {
   "cell_type": "code",
   "execution_count": 142,
   "id": "400f26b6",
   "metadata": {},
   "outputs": [
    {
     "data": {
      "application/vnd.jupyter.widget-view+json": {
       "model_id": "",
       "version_major": 2,
       "version_minor": 0
      },
      "text/plain": [
       "FloatProgress(value=0.0, bar_style='info', description='Progress:', layout=Layout(height='25px', width='50%'),…"
      ]
     },
     "metadata": {},
     "output_type": "display_data"
    }
   ],
   "source": [
    "df1 = df1.withColumn(\"Date\", to_date(col('Date'), \"dd-MM-yyyy\"))"
   ]
  },
  {
   "cell_type": "code",
   "execution_count": 143,
   "id": "f1e78801",
   "metadata": {},
   "outputs": [
    {
     "data": {
      "application/vnd.jupyter.widget-view+json": {
       "model_id": "",
       "version_major": 2,
       "version_minor": 0
      },
      "text/plain": [
       "FloatProgress(value=0.0, bar_style='info', description='Progress:', layout=Layout(height='25px', width='50%'),…"
      ]
     },
     "metadata": {},
     "output_type": "display_data"
    },
    {
     "name": "stdout",
     "output_type": "stream",
     "text": [
      "DateType"
     ]
    }
   ],
   "source": [
    "df1.schema[\"Date\"].dataType"
   ]
  },
  {
   "cell_type": "code",
   "execution_count": 144,
   "id": "e524dfef",
   "metadata": {},
   "outputs": [
    {
     "data": {
      "application/vnd.jupyter.widget-view+json": {
       "model_id": "",
       "version_major": 2,
       "version_minor": 0
      },
      "text/plain": [
       "FloatProgress(value=0.0, bar_style='info', description='Progress:', layout=Layout(height='25px', width='50%'),…"
      ]
     },
     "metadata": {},
     "output_type": "display_data"
    },
    {
     "name": "stdout",
     "output_type": "stream",
     "text": [
      "+----------+-------------------+-------------------+---------+-------------------+-------------------+-------------------+-----------+----------+-----------+------------+--------+\n",
      "|      Date|                Low|               Open|   Volume|               High|              Close|     Adjusted Close|stock_index|Open_float|Close_float|  Difference|high_int|\n",
      "+----------+-------------------+-------------------+---------+-------------------+-------------------+-------------------+-----------+----------+-----------+------------+--------+\n",
      "|1980-12-12| 0.1283479928970337| 0.1283479928970337|469033600| 0.1289059966802597| 0.1283479928970337|0.10003948211669922|       AAPL|  0.128348|   0.128348|         0.0|       0|\n",
      "|1980-12-15|0.12165199965238571|0.12221000343561172|175884800|0.12221000343561172|0.12165199965238571|0.09482034295797348|       AAPL|   0.12221|   0.121652| 5.580038E-4|       0|\n",
      "|1980-12-16|0.11272300034761429| 0.1132809966802597|105728000| 0.1132809966802597|0.11272300034761429|0.08786075562238693|       AAPL|  0.113281|   0.112723|5.5799633E-4|       0|\n",
      "|1980-12-17|0.11551299691200256|0.11551299691200256| 86441600|0.11607100069522858|0.11551299691200256|0.09003540128469467|       AAPL|  0.115513|   0.115513|         0.0|       0|\n",
      "|1980-12-18|0.11886200308799744|0.11886200308799744| 73449600|0.11941999942064285|0.11886200308799744|0.09264572709798813|       AAPL|  0.118862|   0.118862|         0.0|       0|\n",
      "+----------+-------------------+-------------------+---------+-------------------+-------------------+-------------------+-----------+----------+-----------+------------+--------+\n",
      "only showing top 5 rows"
     ]
    }
   ],
   "source": [
    "df1.show(5)"
   ]
  },
  {
   "cell_type": "markdown",
   "id": "3393e645",
   "metadata": {},
   "source": [
    "### 5. Find the highest \"high\" price for every day among all the stocks, Sort it by Date"
   ]
  },
  {
   "cell_type": "code",
   "execution_count": 82,
   "id": "7999db4f",
   "metadata": {},
   "outputs": [
    {
     "data": {
      "application/vnd.jupyter.widget-view+json": {
       "model_id": "",
       "version_major": 2,
       "version_minor": 0
      },
      "text/plain": [
       "FloatProgress(value=0.0, bar_style='info', description='Progress:', layout=Layout(height='25px', width='50%'),…"
      ]
     },
     "metadata": {},
     "output_type": "display_data"
    },
    {
     "name": "stdout",
     "output_type": "stream",
     "text": [
      "+----------+-------------+\n",
      "|      Date|max(high_int)|\n",
      "+----------+-------------+\n",
      "|2022-08-08|          582|\n",
      "|2022-08-05|          579|\n",
      "|2022-08-04|          592|\n",
      "|2022-08-03|          587|\n",
      "|2022-08-02|          572|\n",
      "|2022-08-01|          583|\n",
      "|2022-07-29|          576|\n",
      "|2022-07-28|          560|\n",
      "|2022-07-27|          549|\n",
      "|2022-07-26|          529|\n",
      "+----------+-------------+\n",
      "only showing top 10 rows"
     ]
    }
   ],
   "source": [
    "df1.groupBy(\"Date\").max(\"high_int\").orderBy(df1.Date.desc()).show(10)\n",
    "# orderBy('Date', ascending=False)"
   ]
  },
  {
   "cell_type": "code",
   "execution_count": 126,
   "id": "963a8d22",
   "metadata": {},
   "outputs": [
    {
     "data": {
      "application/vnd.jupyter.widget-view+json": {
       "model_id": "",
       "version_major": 2,
       "version_minor": 0
      },
      "text/plain": [
       "FloatProgress(value=0.0, bar_style='info', description='Progress:', layout=Layout(height='25px', width='50%'),…"
      ]
     },
     "metadata": {},
     "output_type": "display_data"
    }
   ],
   "source": [
    "df1.createOrReplaceTempView(\"stocks\")"
   ]
  },
  {
   "cell_type": "code",
   "execution_count": 127,
   "id": "4aa73a68",
   "metadata": {},
   "outputs": [
    {
     "data": {
      "application/vnd.jupyter.widget-view+json": {
       "model_id": "",
       "version_major": 2,
       "version_minor": 0
      },
      "text/plain": [
       "FloatProgress(value=0.0, bar_style='info', description='Progress:', layout=Layout(height='25px', width='50%'),…"
      ]
     },
     "metadata": {},
     "output_type": "display_data"
    }
   ],
   "source": [
    "query = \"\"\"\n",
    "SELECT Date, high_int, \n",
    "ROW_NUMBER() OVER (PARTITION BY Date ORDER BY high_int) as max_high\n",
    "FROM stocks \n",
    "WHERE max_high=1\n",
    "ORDER BY Date DESC\n",
    "\"\"\""
   ]
  },
  {
   "cell_type": "code",
   "execution_count": null,
   "id": "ce8cd526",
   "metadata": {
    "vscode": {
     "languageId": "plaintext"
    }
   },
   "outputs": [],
   "source": [
    "query = \"\"\"\n",
    "select max(high_int) from stocks group by Date\n",
    "\"\"\""
   ]
  },
  {
   "cell_type": "code",
   "execution_count": 129,
   "id": "131feec3",
   "metadata": {},
   "outputs": [
    {
     "data": {
      "application/vnd.jupyter.widget-view+json": {
       "model_id": "",
       "version_major": 2,
       "version_minor": 0
      },
      "text/plain": [
       "FloatProgress(value=0.0, bar_style='info', description='Progress:', layout=Layout(height='25px', width='50%'),…"
      ]
     },
     "metadata": {},
     "output_type": "display_data"
    }
   ],
   "source": [
    "# df2_sql = spark.sql(query)"
   ]
  },
  {
   "cell_type": "code",
   "execution_count": 95,
   "id": "b38a8732",
   "metadata": {},
   "outputs": [
    {
     "data": {
      "application/vnd.jupyter.widget-view+json": {
       "model_id": "",
       "version_major": 2,
       "version_minor": 0
      },
      "text/plain": [
       "FloatProgress(value=0.0, bar_style='info', description='Progress:', layout=Layout(height='25px', width='50%'),…"
      ]
     },
     "metadata": {},
     "output_type": "display_data"
    },
    {
     "name": "stdout",
     "output_type": "stream",
     "text": [
      "+----------+-------------------+-------------------+------+------------------+-------------------+-------------------+-----------+----------+-----------+----------+--------+--------+\n",
      "|      Date|                Low|               Open|Volume|              High|              Close|     Adjusted Close|stock_index|Open_float|Close_float|Difference|high_int|max_high|\n",
      "+----------+-------------------+-------------------+------+------------------+-------------------+-------------------+-----------+----------+-----------+----------+--------+--------+\n",
      "|1973-05-23|               null|               null|  null|              null|               null|               null|       ALOG|      null|       null|      null|    null|       1|\n",
      "|1973-05-23|0.19840000569820404|0.19840000569820404|  3906|0.2176000028848648|0.19840000569820404|0.10192203521728516|       APOG|    0.1984|     0.1984|       0.0|       0|       2|\n",
      "|1973-05-23|               3.75|               3.75|  2800|            3.9375|               3.75| 2.1417267322540283|       ALCO|      3.75|       3.75|       0.0|       3|       3|\n",
      "|1973-09-04|0.19200000166893005|0.19200000166893005| 11719|0.2176000028848648|0.19200000166893005|0.09863419085741043|       APOG|     0.192|      0.192|       0.0|       0|       1|\n",
      "|1973-09-04|             0.1875|             0.1875|3200.0|              0.25|             0.1875| 0.1589290201663971|       ALOG|    0.1875|     0.1875|       0.0|       0|       2|\n",
      "+----------+-------------------+-------------------+------+------------------+-------------------+-------------------+-----------+----------+-----------+----------+--------+--------+\n",
      "only showing top 5 rows"
     ]
    }
   ],
   "source": [
    "df1_sql.show(5)"
   ]
  },
  {
   "cell_type": "markdown",
   "id": "09edddd5",
   "metadata": {},
   "source": [
    "### 6. Print your result and schema of your dataframe"
   ]
  },
  {
   "cell_type": "code",
   "execution_count": null,
   "id": "c0b9ff11",
   "metadata": {
    "scrolled": true
   },
   "outputs": [],
   "source": [
    "# df1.show()"
   ]
  },
  {
   "cell_type": "code",
   "execution_count": null,
   "id": "63aba686",
   "metadata": {},
   "outputs": [],
   "source": [
    "# df1.printSchema()"
   ]
  },
  {
   "cell_type": "markdown",
   "id": "887e47e9",
   "metadata": {},
   "source": [
    "### 7. Save your result dataframe as parquet locally"
   ]
  },
  {
   "cell_type": "code",
   "execution_count": null,
   "id": "1df71211",
   "metadata": {},
   "outputs": [],
   "source": [
    "# df1.write.parquet(\"/final_project/final_project_easy.parquet\")"
   ]
  },
  {
   "cell_type": "code",
   "execution_count": null,
   "id": "0a3bdf27",
   "metadata": {},
   "outputs": [],
   "source": [
    "# df1.write.mode(\"overwrite\").parquet(\"final_project_easy.parquet\")"
   ]
  },
  {
   "cell_type": "markdown",
   "id": "0717d794",
   "metadata": {},
   "source": [
    "## Normal version"
   ]
  },
  {
   "cell_type": "markdown",
   "id": "cb413623",
   "metadata": {},
   "source": [
    "1. Read all A* files from S3 aws-stocks-dataset Bucket as dataframe\n",
    "2. Create a new column which is a hash of the \"high\" column. Take the python function hashlib.md5(MYSTRING.encode(\"UTF-8\")).hexdigest()\n",
    "3. Convert high column to integer and keep it as high_int\n",
    "4. Convert Date field to the column with type \"Date\" and format YYYY-MM-DD\n",
    "5. Read the JSON dataset from spark-concerts-json\n",
    "6. Denormalize the dataset\n",
    "7. Convert the Date field to the same format as with stocks YYYY-MM-DD\n",
    "8. Print and check it\n",
    "9. Limit both dataframes to 100 rows\n",
    "10. Join both dataframes on the Date field\n",
    "11. Print the count of the result dataframe"
   ]
  },
  {
   "cell_type": "markdown",
   "id": "5f30c8c1",
   "metadata": {},
   "source": [
    "### 1. Read all A* files from S3 aws-stocks-dataset Bucket as dataframe"
   ]
  },
  {
   "cell_type": "code",
   "execution_count": 145,
   "id": "220be8cf",
   "metadata": {},
   "outputs": [
    {
     "data": {
      "application/vnd.jupyter.widget-view+json": {
       "model_id": "",
       "version_major": 2,
       "version_minor": 0
      },
      "text/plain": [
       "FloatProgress(value=0.0, bar_style='info', description='Progress:', layout=Layout(height='25px', width='50%'),…"
      ]
     },
     "metadata": {},
     "output_type": "display_data"
    }
   ],
   "source": [
    "df2 = df.withColumn(\"stock_index\", input_file_name())\n",
    "df2 = df2.withColumn('stock_index', regexp_replace('stock_index', 's3a://aws-stocks-dataset/', ''))\n",
    "df2 = df2.withColumn('stock_index', regexp_replace('stock_index', '.csv', ''))"
   ]
  },
  {
   "cell_type": "code",
   "execution_count": 146,
   "id": "886201bb",
   "metadata": {},
   "outputs": [
    {
     "data": {
      "application/vnd.jupyter.widget-view+json": {
       "model_id": "",
       "version_major": 2,
       "version_minor": 0
      },
      "text/plain": [
       "FloatProgress(value=0.0, bar_style='info', description='Progress:', layout=Layout(height='25px', width='50%'),…"
      ]
     },
     "metadata": {},
     "output_type": "display_data"
    }
   ],
   "source": [
    "df2 = df2.filter(df2.stock_index.startswith(\"A\"))"
   ]
  },
  {
   "cell_type": "code",
   "execution_count": 147,
   "id": "39f7e789",
   "metadata": {},
   "outputs": [
    {
     "data": {
      "application/vnd.jupyter.widget-view+json": {
       "model_id": "",
       "version_major": 2,
       "version_minor": 0
      },
      "text/plain": [
       "FloatProgress(value=0.0, bar_style='info', description='Progress:', layout=Layout(height='25px', width='50%'),…"
      ]
     },
     "metadata": {},
     "output_type": "display_data"
    },
    {
     "name": "stdout",
     "output_type": "stream",
     "text": [
      "+----------+-------------------+-------------------+---------+-------------------+-------------------+-------------------+-----------+\n",
      "|      Date|                Low|               Open|   Volume|               High|              Close|     Adjusted Close|stock_index|\n",
      "+----------+-------------------+-------------------+---------+-------------------+-------------------+-------------------+-----------+\n",
      "|12-12-1980| 0.1283479928970337| 0.1283479928970337|469033600| 0.1289059966802597| 0.1283479928970337|0.10003948211669922|       AAPL|\n",
      "|15-12-1980|0.12165199965238571|0.12221000343561172|175884800|0.12221000343561172|0.12165199965238571|0.09482034295797348|       AAPL|\n",
      "|16-12-1980|0.11272300034761429| 0.1132809966802597|105728000| 0.1132809966802597|0.11272300034761429|0.08786075562238693|       AAPL|\n",
      "|17-12-1980|0.11551299691200256|0.11551299691200256| 86441600|0.11607100069522858|0.11551299691200256|0.09003540128469467|       AAPL|\n",
      "|18-12-1980|0.11886200308799744|0.11886200308799744| 73449600|0.11941999942064285|0.11886200308799744|0.09264572709798813|       AAPL|\n",
      "+----------+-------------------+-------------------+---------+-------------------+-------------------+-------------------+-----------+\n",
      "only showing top 5 rows"
     ]
    }
   ],
   "source": [
    "df2.show(5)"
   ]
  },
  {
   "cell_type": "markdown",
   "id": "9ee6eeef",
   "metadata": {},
   "source": [
    "### 2. Create a new column which is a hash of the \"high\" column. Take the python function hashlib.md5(MYSTRING.encode(\"UTF-8\")).hexdigest()"
   ]
  },
  {
   "cell_type": "code",
   "execution_count": 148,
   "id": "4f32943e",
   "metadata": {},
   "outputs": [
    {
     "data": {
      "application/vnd.jupyter.widget-view+json": {
       "model_id": "",
       "version_major": 2,
       "version_minor": 0
      },
      "text/plain": [
       "FloatProgress(value=0.0, bar_style='info', description='Progress:', layout=Layout(height='25px', width='50%'),…"
      ]
     },
     "metadata": {},
     "output_type": "display_data"
    }
   ],
   "source": [
    "import hashlib"
   ]
  },
  {
   "cell_type": "code",
   "execution_count": 149,
   "id": "9605e870",
   "metadata": {},
   "outputs": [
    {
     "data": {
      "application/vnd.jupyter.widget-view+json": {
       "model_id": "",
       "version_major": 2,
       "version_minor": 0
      },
      "text/plain": [
       "FloatProgress(value=0.0, bar_style='info', description='Progress:', layout=Layout(height='25px', width='50%'),…"
      ]
     },
     "metadata": {},
     "output_type": "display_data"
    }
   ],
   "source": [
    "def hashing(string):\n",
    "    hash = hashlib.md5(f'{string}'.encode(\"UTF-8\")).hexdigest()\n",
    "    return hash"
   ]
  },
  {
   "cell_type": "code",
   "execution_count": 150,
   "id": "8dac1931",
   "metadata": {},
   "outputs": [
    {
     "data": {
      "application/vnd.jupyter.widget-view+json": {
       "model_id": "",
       "version_major": 2,
       "version_minor": 0
      },
      "text/plain": [
       "FloatProgress(value=0.0, bar_style='info', description='Progress:', layout=Layout(height='25px', width='50%'),…"
      ]
     },
     "metadata": {},
     "output_type": "display_data"
    }
   ],
   "source": [
    "udf_hashing = udf(hashing)"
   ]
  },
  {
   "cell_type": "code",
   "execution_count": 151,
   "id": "bdb041d4",
   "metadata": {},
   "outputs": [
    {
     "data": {
      "application/vnd.jupyter.widget-view+json": {
       "model_id": "",
       "version_major": 2,
       "version_minor": 0
      },
      "text/plain": [
       "FloatProgress(value=0.0, bar_style='info', description='Progress:', layout=Layout(height='25px', width='50%'),…"
      ]
     },
     "metadata": {},
     "output_type": "display_data"
    }
   ],
   "source": [
    "df2 = df2.withColumn('Hash',  udf_hashing('High'))"
   ]
  },
  {
   "cell_type": "code",
   "execution_count": 152,
   "id": "2596ce22",
   "metadata": {},
   "outputs": [
    {
     "data": {
      "application/vnd.jupyter.widget-view+json": {
       "model_id": "",
       "version_major": 2,
       "version_minor": 0
      },
      "text/plain": [
       "FloatProgress(value=0.0, bar_style='info', description='Progress:', layout=Layout(height='25px', width='50%'),…"
      ]
     },
     "metadata": {},
     "output_type": "display_data"
    },
    {
     "name": "stdout",
     "output_type": "stream",
     "text": [
      "+--------------------+\n",
      "|                Hash|\n",
      "+--------------------+\n",
      "|cfa36cc7b1cd36386...|\n",
      "|0e967a030a660e758...|\n",
      "|ebb6f03576bced951...|\n",
      "|4cb0f9ed4745be467...|\n",
      "|802bf33d8e083dd91...|\n",
      "+--------------------+\n",
      "only showing top 5 rows"
     ]
    }
   ],
   "source": [
    "df2.select('Hash').show(5)"
   ]
  },
  {
   "cell_type": "markdown",
   "id": "30d9331f",
   "metadata": {},
   "source": [
    "### 3. Convert high column to integer and keep it as high_int"
   ]
  },
  {
   "cell_type": "code",
   "execution_count": 153,
   "id": "b1f883bc",
   "metadata": {},
   "outputs": [
    {
     "data": {
      "application/vnd.jupyter.widget-view+json": {
       "model_id": "",
       "version_major": 2,
       "version_minor": 0
      },
      "text/plain": [
       "FloatProgress(value=0.0, bar_style='info', description='Progress:', layout=Layout(height='25px', width='50%'),…"
      ]
     },
     "metadata": {},
     "output_type": "display_data"
    }
   ],
   "source": [
    "df2 = df2.withColumn(\"high_int\", col(\"High\").cast(\"int\"))"
   ]
  },
  {
   "cell_type": "markdown",
   "id": "b386b21c",
   "metadata": {},
   "source": [
    "### 4. Convert Date field to the column with type \"Date\" and format YYYY-MM-DD"
   ]
  },
  {
   "cell_type": "code",
   "execution_count": 154,
   "id": "76fd52e9",
   "metadata": {},
   "outputs": [
    {
     "data": {
      "application/vnd.jupyter.widget-view+json": {
       "model_id": "",
       "version_major": 2,
       "version_minor": 0
      },
      "text/plain": [
       "FloatProgress(value=0.0, bar_style='info', description='Progress:', layout=Layout(height='25px', width='50%'),…"
      ]
     },
     "metadata": {},
     "output_type": "display_data"
    }
   ],
   "source": [
    "df2 = df2.withColumn(\"Date\", to_date(col('Date'), \"dd-MM-yyyy\"))"
   ]
  },
  {
   "cell_type": "code",
   "execution_count": 155,
   "id": "722ded42",
   "metadata": {},
   "outputs": [
    {
     "data": {
      "application/vnd.jupyter.widget-view+json": {
       "model_id": "",
       "version_major": 2,
       "version_minor": 0
      },
      "text/plain": [
       "FloatProgress(value=0.0, bar_style='info', description='Progress:', layout=Layout(height='25px', width='50%'),…"
      ]
     },
     "metadata": {},
     "output_type": "display_data"
    },
    {
     "name": "stdout",
     "output_type": "stream",
     "text": [
      "DateType"
     ]
    }
   ],
   "source": [
    "df2.schema[\"Date\"].dataType"
   ]
  },
  {
   "cell_type": "code",
   "execution_count": 156,
   "id": "79ab8a07",
   "metadata": {},
   "outputs": [
    {
     "data": {
      "application/vnd.jupyter.widget-view+json": {
       "model_id": "",
       "version_major": 2,
       "version_minor": 0
      },
      "text/plain": [
       "FloatProgress(value=0.0, bar_style='info', description='Progress:', layout=Layout(height='25px', width='50%'),…"
      ]
     },
     "metadata": {},
     "output_type": "display_data"
    },
    {
     "name": "stdout",
     "output_type": "stream",
     "text": [
      "+----------+-------------------+-------------------+---------+-------------------+-------------------+-------------------+-----------+--------------------+--------+\n",
      "|      Date|                Low|               Open|   Volume|               High|              Close|     Adjusted Close|stock_index|                Hash|high_int|\n",
      "+----------+-------------------+-------------------+---------+-------------------+-------------------+-------------------+-----------+--------------------+--------+\n",
      "|1980-12-12| 0.1283479928970337| 0.1283479928970337|469033600| 0.1289059966802597| 0.1283479928970337|0.10003948211669922|       AAPL|cfa36cc7b1cd36386...|       0|\n",
      "|1980-12-15|0.12165199965238571|0.12221000343561172|175884800|0.12221000343561172|0.12165199965238571|0.09482034295797348|       AAPL|0e967a030a660e758...|       0|\n",
      "|1980-12-16|0.11272300034761429| 0.1132809966802597|105728000| 0.1132809966802597|0.11272300034761429|0.08786075562238693|       AAPL|ebb6f03576bced951...|       0|\n",
      "|1980-12-17|0.11551299691200256|0.11551299691200256| 86441600|0.11607100069522858|0.11551299691200256|0.09003540128469467|       AAPL|4cb0f9ed4745be467...|       0|\n",
      "|1980-12-18|0.11886200308799744|0.11886200308799744| 73449600|0.11941999942064285|0.11886200308799744|0.09264572709798813|       AAPL|802bf33d8e083dd91...|       0|\n",
      "+----------+-------------------+-------------------+---------+-------------------+-------------------+-------------------+-----------+--------------------+--------+\n",
      "only showing top 5 rows"
     ]
    }
   ],
   "source": [
    "df2.show(5)"
   ]
  },
  {
   "cell_type": "markdown",
   "id": "821c1fed",
   "metadata": {},
   "source": [
    "### 5. Read the JSON dataset from spark-concerts-json"
   ]
  },
  {
   "cell_type": "code",
   "execution_count": 157,
   "id": "d9562eda",
   "metadata": {},
   "outputs": [
    {
     "data": {
      "application/vnd.jupyter.widget-view+json": {
       "model_id": "",
       "version_major": 2,
       "version_minor": 0
      },
      "text/plain": [
       "FloatProgress(value=0.0, bar_style='info', description='Progress:', layout=Layout(height='25px', width='50%'),…"
      ]
     },
     "metadata": {},
     "output_type": "display_data"
    }
   ],
   "source": [
    "df_concerts = spark.read.json(\"s3://spark-concerts-json/\")"
   ]
  },
  {
   "cell_type": "code",
   "execution_count": 158,
   "id": "274b3cf5",
   "metadata": {},
   "outputs": [
    {
     "data": {
      "application/vnd.jupyter.widget-view+json": {
       "model_id": "",
       "version_major": 2,
       "version_minor": 0
      },
      "text/plain": [
       "FloatProgress(value=0.0, bar_style='info', description='Progress:', layout=Layout(height='25px', width='50%'),…"
      ]
     },
     "metadata": {},
     "output_type": "display_data"
    },
    {
     "name": "stdout",
     "output_type": "stream",
     "text": [
      "+-----------------+--------------------+\n",
      "|      CompanyName|      QuarterResults|\n",
      "+-----------------+--------------------+\n",
      "|slippery_Samantha|[2005-09-10, 1370...|\n",
      "|      chilly_Vera|[2005-09-11, 1507...|\n",
      "|   soft_Concordia|[2005-09-12, 1644...|\n",
      "|  familiar_Dorrie|[2005-09-13, 1781...|\n",
      "|profitable_Bobine|[2005-09-14, 1918...|\n",
      "+-----------------+--------------------+\n",
      "only showing top 5 rows"
     ]
    }
   ],
   "source": [
    "df_concerts.show(5) "
   ]
  },
  {
   "cell_type": "code",
   "execution_count": 159,
   "id": "1af93064",
   "metadata": {},
   "outputs": [
    {
     "data": {
      "application/vnd.jupyter.widget-view+json": {
       "model_id": "",
       "version_major": 2,
       "version_minor": 0
      },
      "text/plain": [
       "FloatProgress(value=0.0, bar_style='info', description='Progress:', layout=Layout(height='25px', width='50%'),…"
      ]
     },
     "metadata": {},
     "output_type": "display_data"
    },
    {
     "name": "stdout",
     "output_type": "stream",
     "text": [
      "root\n",
      " |-- CompanyName: string (nullable = true)\n",
      " |-- QuarterResults: struct (nullable = true)\n",
      " |    |-- Date: string (nullable = true)\n",
      " |    |-- Income: long (nullable = true)\n",
      " |    |-- Losts: long (nullable = true)"
     ]
    }
   ],
   "source": [
    "df_concerts.printSchema()"
   ]
  },
  {
   "cell_type": "markdown",
   "id": "7b0f8d2f",
   "metadata": {},
   "source": [
    "### 6. Normalize the dataset"
   ]
  },
  {
   "cell_type": "code",
   "execution_count": 160,
   "id": "d3537a47",
   "metadata": {},
   "outputs": [
    {
     "data": {
      "application/vnd.jupyter.widget-view+json": {
       "model_id": "",
       "version_major": 2,
       "version_minor": 0
      },
      "text/plain": [
       "FloatProgress(value=0.0, bar_style='info', description='Progress:', layout=Layout(height='25px', width='50%'),…"
      ]
     },
     "metadata": {},
     "output_type": "display_data"
    }
   ],
   "source": [
    "df_norm = df_concerts.select('CompanyName','QuarterResults.*')"
   ]
  },
  {
   "cell_type": "code",
   "execution_count": 161,
   "id": "2426940f",
   "metadata": {},
   "outputs": [
    {
     "data": {
      "application/vnd.jupyter.widget-view+json": {
       "model_id": "",
       "version_major": 2,
       "version_minor": 0
      },
      "text/plain": [
       "FloatProgress(value=0.0, bar_style='info', description='Progress:', layout=Layout(height='25px', width='50%'),…"
      ]
     },
     "metadata": {},
     "output_type": "display_data"
    },
    {
     "name": "stdout",
     "output_type": "stream",
     "text": [
      "root\n",
      " |-- CompanyName: string (nullable = true)\n",
      " |-- Date: string (nullable = true)\n",
      " |-- Income: long (nullable = true)\n",
      " |-- Losts: long (nullable = true)"
     ]
    }
   ],
   "source": [
    "df_norm.printSchema()"
   ]
  },
  {
   "cell_type": "markdown",
   "id": "f944fa69",
   "metadata": {},
   "source": [
    "### 7. Convert the Date field to the same format as with stocks YYYY-MM-DD"
   ]
  },
  {
   "cell_type": "code",
   "execution_count": 162,
   "id": "3012ef95",
   "metadata": {},
   "outputs": [
    {
     "data": {
      "application/vnd.jupyter.widget-view+json": {
       "model_id": "",
       "version_major": 2,
       "version_minor": 0
      },
      "text/plain": [
       "FloatProgress(value=0.0, bar_style='info', description='Progress:', layout=Layout(height='25px', width='50%'),…"
      ]
     },
     "metadata": {},
     "output_type": "display_data"
    },
    {
     "name": "stdout",
     "output_type": "stream",
     "text": [
      "StringType"
     ]
    }
   ],
   "source": [
    "df_norm.schema[\"Date\"].dataType"
   ]
  },
  {
   "cell_type": "code",
   "execution_count": 163,
   "id": "32c1e471",
   "metadata": {},
   "outputs": [
    {
     "data": {
      "application/vnd.jupyter.widget-view+json": {
       "model_id": "",
       "version_major": 2,
       "version_minor": 0
      },
      "text/plain": [
       "FloatProgress(value=0.0, bar_style='info', description='Progress:', layout=Layout(height='25px', width='50%'),…"
      ]
     },
     "metadata": {},
     "output_type": "display_data"
    }
   ],
   "source": [
    "df_norm = df_norm.withColumn(\"Date\", to_date(col('Date')))"
   ]
  },
  {
   "cell_type": "markdown",
   "id": "cdeb85c3",
   "metadata": {},
   "source": [
    "### 8. Print and check it"
   ]
  },
  {
   "cell_type": "code",
   "execution_count": 164,
   "id": "2530ac67",
   "metadata": {},
   "outputs": [
    {
     "data": {
      "application/vnd.jupyter.widget-view+json": {
       "model_id": "",
       "version_major": 2,
       "version_minor": 0
      },
      "text/plain": [
       "FloatProgress(value=0.0, bar_style='info', description='Progress:', layout=Layout(height='25px', width='50%'),…"
      ]
     },
     "metadata": {},
     "output_type": "display_data"
    },
    {
     "name": "stdout",
     "output_type": "stream",
     "text": [
      "DateType"
     ]
    }
   ],
   "source": [
    "df_norm.schema[\"Date\"].dataType"
   ]
  },
  {
   "cell_type": "code",
   "execution_count": 165,
   "id": "5c909d98",
   "metadata": {},
   "outputs": [
    {
     "data": {
      "application/vnd.jupyter.widget-view+json": {
       "model_id": "",
       "version_major": 2,
       "version_minor": 0
      },
      "text/plain": [
       "FloatProgress(value=0.0, bar_style='info', description='Progress:', layout=Layout(height='25px', width='50%'),…"
      ]
     },
     "metadata": {},
     "output_type": "display_data"
    },
    {
     "name": "stdout",
     "output_type": "stream",
     "text": [
      "+-----------------+----------+------+-----+\n",
      "|      CompanyName|      Date|Income|Losts|\n",
      "+-----------------+----------+------+-----+\n",
      "|slippery_Samantha|2005-09-10|  1370|   50|\n",
      "|      chilly_Vera|2005-09-11|  1507|   55|\n",
      "|   soft_Concordia|2005-09-12|  1644|   60|\n",
      "|  familiar_Dorrie|2005-09-13|  1781|   65|\n",
      "|profitable_Bobine|2005-09-14|  1918|   70|\n",
      "+-----------------+----------+------+-----+\n",
      "only showing top 5 rows"
     ]
    }
   ],
   "source": [
    "df_norm.show(5)"
   ]
  },
  {
   "cell_type": "markdown",
   "id": "0cea7208",
   "metadata": {},
   "source": [
    "### 9. Limit both dataframes to 100 rows"
   ]
  },
  {
   "cell_type": "code",
   "execution_count": 39,
   "id": "0b5cd4e0",
   "metadata": {},
   "outputs": [
    {
     "data": {
      "application/vnd.jupyter.widget-view+json": {
       "model_id": "",
       "version_major": 2,
       "version_minor": 0
      },
      "text/plain": [
       "FloatProgress(value=0.0, bar_style='info', description='Progress:', layout=Layout(height='25px', width='50%'),…"
      ]
     },
     "metadata": {},
     "output_type": "display_data"
    }
   ],
   "source": [
    "df2_limit = df2.limit(100)"
   ]
  },
  {
   "cell_type": "code",
   "execution_count": 40,
   "id": "7d9d8289",
   "metadata": {},
   "outputs": [
    {
     "data": {
      "application/vnd.jupyter.widget-view+json": {
       "model_id": "",
       "version_major": 2,
       "version_minor": 0
      },
      "text/plain": [
       "FloatProgress(value=0.0, bar_style='info', description='Progress:', layout=Layout(height='25px', width='50%'),…"
      ]
     },
     "metadata": {},
     "output_type": "display_data"
    }
   ],
   "source": [
    "df_norm_limit = df_norm.limit(100)"
   ]
  },
  {
   "cell_type": "code",
   "execution_count": null,
   "id": "72a351b8",
   "metadata": {},
   "outputs": [],
   "source": [
    "# df2_limit.count()"
   ]
  },
  {
   "cell_type": "code",
   "execution_count": null,
   "id": "d78b1a1f",
   "metadata": {},
   "outputs": [],
   "source": [
    "# df_norm.count()"
   ]
  },
  {
   "cell_type": "markdown",
   "id": "7a722d88",
   "metadata": {},
   "source": [
    "### 10. Join both dataframes on the Date field"
   ]
  },
  {
   "cell_type": "code",
   "execution_count": 49,
   "id": "ea2e2563",
   "metadata": {},
   "outputs": [
    {
     "data": {
      "application/vnd.jupyter.widget-view+json": {
       "model_id": "",
       "version_major": 2,
       "version_minor": 0
      },
      "text/plain": [
       "FloatProgress(value=0.0, bar_style='info', description='Progress:', layout=Layout(height='25px', width='50%'),…"
      ]
     },
     "metadata": {},
     "output_type": "display_data"
    }
   ],
   "source": [
    "df_join = df2_limit.join(df_norm_limit, df2_limit.Date == df_norm_limit.Date, \"inner\")\n",
    "# df_join = df2_limit.join(df_norm_limit, df2_limit[\"Date\"] == df_norm_limit[\"Date\"], \"inner\")"
   ]
  },
  {
   "cell_type": "code",
   "execution_count": 50,
   "id": "26521d31",
   "metadata": {},
   "outputs": [
    {
     "data": {
      "application/vnd.jupyter.widget-view+json": {
       "model_id": "",
       "version_major": 2,
       "version_minor": 0
      },
      "text/plain": [
       "FloatProgress(value=0.0, bar_style='info', description='Progress:', layout=Layout(height='25px', width='50%'),…"
      ]
     },
     "metadata": {},
     "output_type": "display_data"
    },
    {
     "name": "stdout",
     "output_type": "stream",
     "text": [
      "+----+---+----+------+----+-----+--------------+-----------+----------+-----------+----------+--------+----+-----------+----+------+-----+\n",
      "|Date|Low|Open|Volume|High|Close|Adjusted Close|stock_index|Open_float|Close_float|Difference|high_int|Hash|CompanyName|Date|Income|Losts|\n",
      "+----+---+----+------+----+-----+--------------+-----------+----------+-----------+----------+--------+----+-----------+----+------+-----+\n",
      "+----+---+----+------+----+-----+--------------+-----------+----------+-----------+----------+--------+----+-----------+----+------+-----+"
     ]
    }
   ],
   "source": [
    "df2_limit.join(df_norm_limit, df2_limit.Date == df_norm_limit.Date, \"inner\").show(5)"
   ]
  },
  {
   "cell_type": "markdown",
   "id": "b5137745",
   "metadata": {},
   "source": [
    "### 11. Print the count of the result dataframe"
   ]
  },
  {
   "cell_type": "code",
   "execution_count": 41,
   "id": "93f431db",
   "metadata": {},
   "outputs": [
    {
     "data": {
      "application/vnd.jupyter.widget-view+json": {
       "model_id": "",
       "version_major": 2,
       "version_minor": 0
      },
      "text/plain": [
       "FloatProgress(value=0.0, bar_style='info', description='Progress:', layout=Layout(height='25px', width='50%'),…"
      ]
     },
     "metadata": {},
     "output_type": "display_data"
    },
    {
     "name": "stdout",
     "output_type": "stream",
     "text": [
      "100"
     ]
    }
   ],
   "source": [
    "df_join.count()"
   ]
  }
 ],
 "metadata": {
  "kernelspec": {
   "display_name": "PySpark",
   "language": "",
   "name": "pysparkkernel"
  },
  "language_info": {
   "codemirror_mode": {
    "name": "python",
    "version": 3
   },
   "mimetype": "text/x-python",
   "name": "pyspark",
   "pygments_lexer": "python3"
  }
 },
 "nbformat": 4,
 "nbformat_minor": 5
}
