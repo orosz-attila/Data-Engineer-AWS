{
 "cells": [
  {
   "cell_type": "markdown",
   "id": "9bba50ed",
   "metadata": {},
   "source": [
    "# 1. Spark Basics"
   ]
  },
  {
   "cell_type": "markdown",
   "id": "805c1831",
   "metadata": {},
   "source": [
    "solutions: https://gist.github.com/yarax/b73fada9315a195c818367bd234649e5        "
   ]
  },
  {
   "cell_type": "code",
   "execution_count": 1,
   "id": "ae0ce51c",
   "metadata": {},
   "outputs": [
    {
     "name": "stdout",
     "output_type": "stream",
     "text": [
      "Starting Spark application\n"
     ]
    },
    {
     "data": {
      "text/html": [
       "<table>\n",
       "<tr><th>ID</th><th>YARN Application ID</th><th>Kind</th><th>State</th><th>Spark UI</th><th>Driver log</th><th>Current session?</th></tr><tr><td>0</td><td>None</td><td>pyspark</td><td>idle</td><td></td><td></td><td>✔</td></tr></table>"
      ],
      "text/plain": [
       "<IPython.core.display.HTML object>"
      ]
     },
     "metadata": {},
     "output_type": "display_data"
    },
    {
     "data": {
      "application/vnd.jupyter.widget-view+json": {
       "model_id": "",
       "version_major": 2,
       "version_minor": 0
      },
      "text/plain": [
       "FloatProgress(value=0.0, bar_style='info', description='Progress:', layout=Layout(height='25px', width='50%'),…"
      ]
     },
     "metadata": {},
     "output_type": "display_data"
    },
    {
     "name": "stdout",
     "output_type": "stream",
     "text": [
      "SparkSession available as 'spark'.\n"
     ]
    },
    {
     "data": {
      "application/vnd.jupyter.widget-view+json": {
       "model_id": "",
       "version_major": 2,
       "version_minor": 0
      },
      "text/plain": [
       "FloatProgress(value=0.0, bar_style='info', description='Progress:', layout=Layout(height='25px', width='50%'),…"
      ]
     },
     "metadata": {},
     "output_type": "display_data"
    }
   ],
   "source": [
    "import pyspark\n",
    "from pyspark.sql import SparkSession\n",
    "spark = SparkSession.builder.master(\"local[1]\").appName(\"AWSpark\").getOrCreate()"
   ]
  },
  {
   "cell_type": "markdown",
   "id": "e3197ee6",
   "metadata": {},
   "source": [
    "### 1.1. Read data from from S3 s3a://aws-stocks-dataset/AAL.csv as dataframe"
   ]
  },
  {
   "cell_type": "code",
   "execution_count": 2,
   "id": "15c72971",
   "metadata": {},
   "outputs": [
    {
     "data": {
      "application/vnd.jupyter.widget-view+json": {
       "model_id": "",
       "version_major": 2,
       "version_minor": 0
      },
      "text/plain": [
       "FloatProgress(value=0.0, bar_style='info', description='Progress:', layout=Layout(height='25px', width='50%'),…"
      ]
     },
     "metadata": {},
     "output_type": "display_data"
    }
   ],
   "source": [
    "df = spark.read.option(\"header\",\"true\").csv(\"s3a://aws-stocks-dataset/AAL.csv\")"
   ]
  },
  {
   "cell_type": "code",
   "execution_count": 3,
   "id": "b1222860",
   "metadata": {},
   "outputs": [
    {
     "data": {
      "application/vnd.jupyter.widget-view+json": {
       "model_id": "",
       "version_major": 2,
       "version_minor": 0
      },
      "text/plain": [
       "FloatProgress(value=0.0, bar_style='info', description='Progress:', layout=Layout(height='25px', width='50%'),…"
      ]
     },
     "metadata": {},
     "output_type": "display_data"
    },
    {
     "name": "stdout",
     "output_type": "stream",
     "text": [
      "+----------+------------------+------------------+-------+------------------+------------------+------------------+\n",
      "|      Date|               Low|              Open| Volume|              High|             Close|    Adjusted Close|\n",
      "+----------+------------------+------------------+-------+------------------+------------------+------------------+\n",
      "|27-09-2005|19.100000381469727|21.049999237060547| 961200|21.399999618530273|19.299999237060547|18.194910049438477|\n",
      "|28-09-2005|19.200000762939453|19.299999237060547|5747900|20.530000686645508|              20.5|19.326204299926758|\n",
      "|29-09-2005|20.100000381469727|20.399999618530273|1078200|20.579999923706055|20.209999084472656| 19.05280303955078|\n",
      "|30-09-2005| 20.18000030517578|20.260000228881836|3123300|21.049999237060547|21.010000228881836|19.806997299194336|\n",
      "|03-10-2005|20.899999618530273|20.899999618530273|1057900|             21.75|              21.5|20.268939971923828|\n",
      "|04-10-2005|21.440000534057617|21.440000534057617|1768800|              22.5| 22.15999984741211|20.891155242919922|\n",
      "|05-10-2005|             21.75|22.100000381469727| 904300|22.309999465942383|22.200000762939453|20.928861618041992|\n",
      "|06-10-2005|22.399999618530273|22.600000381469727|1614200|              23.0|22.579999923706055|  21.2871036529541|\n",
      "|07-10-2005|21.799999237060547|             22.25| 753400|22.600000381469727|22.149999618530273|20.881725311279297|\n",
      "|10-10-2005|22.100000381469727|22.280000686645508| 538700|22.290000915527344|22.209999084472656| 20.93828773498535|\n",
      "|11-10-2005|21.799999237060547|22.260000228881836| 764600|22.299999237060547|21.979999542236328|20.721452713012695|\n",
      "|12-10-2005|21.639999389648438|21.899999618530273| 912900|22.049999237060547|21.760000228881836| 20.51405143737793|\n",
      "|13-10-2005|21.399999618530273|21.700000762939453| 531300|21.799999237060547|21.709999084472656|20.466915130615234|\n",
      "|14-10-2005|21.850000381469727|21.850000381469727| 887800|22.399999618530273|22.270000457763672| 20.99485206604004|\n",
      "|17-10-2005|21.850000381469727|22.149999618530273| 464000|22.219999313354492|22.079999923706055| 20.81573486328125|\n",
      "|18-10-2005|21.350000381469727|22.059999465942383|1815500|22.299999237060547|21.489999771118164| 20.25951385498047|\n",
      "|19-10-2005|20.850000381469727|  21.3700008392334|1466000|21.600000381469727|  21.3799991607666|20.155813217163086|\n",
      "|20-10-2005|20.850000381469727|21.350000381469727| 640900|21.479999542236328|21.020000457763672|19.816425323486328|\n",
      "|21-10-2005|21.010000228881836|21.020000457763672| 917000|22.420000076293945|21.959999084472656|20.702604293823242|\n",
      "|24-10-2005|21.950000762939453|22.010000228881836| 508800|22.360000610351562|22.309999465942383|21.032560348510742|\n",
      "+----------+------------------+------------------+-------+------------------+------------------+------------------+\n",
      "only showing top 20 rows"
     ]
    }
   ],
   "source": [
    "df.show()"
   ]
  },
  {
   "cell_type": "code",
   "execution_count": 4,
   "id": "a8b296be",
   "metadata": {},
   "outputs": [
    {
     "data": {
      "application/vnd.jupyter.widget-view+json": {
       "model_id": "",
       "version_major": 2,
       "version_minor": 0
      },
      "text/plain": [
       "FloatProgress(value=0.0, bar_style='info', description='Progress:', layout=Layout(height='25px', width='50%'),…"
      ]
     },
     "metadata": {},
     "output_type": "display_data"
    },
    {
     "name": "stdout",
     "output_type": "stream",
     "text": [
      "root\n",
      " |-- Date: string (nullable = true)\n",
      " |-- Low: string (nullable = true)\n",
      " |-- Open: string (nullable = true)\n",
      " |-- Volume: string (nullable = true)\n",
      " |-- High: string (nullable = true)\n",
      " |-- Close: string (nullable = true)\n",
      " |-- Adjusted Close: string (nullable = true)"
     ]
    }
   ],
   "source": [
    "df.printSchema()"
   ]
  },
  {
   "cell_type": "markdown",
   "id": "60b1f402",
   "metadata": {},
   "source": [
    "### 1.2. Convert the date field from string to date (create a new column date_dt)"
   ]
  },
  {
   "cell_type": "code",
   "execution_count": 5,
   "id": "521de0b8",
   "metadata": {},
   "outputs": [
    {
     "data": {
      "application/vnd.jupyter.widget-view+json": {
       "model_id": "",
       "version_major": 2,
       "version_minor": 0
      },
      "text/plain": [
       "FloatProgress(value=0.0, bar_style='info', description='Progress:', layout=Layout(height='25px', width='50%'),…"
      ]
     },
     "metadata": {},
     "output_type": "display_data"
    },
    {
     "name": "stdout",
     "output_type": "stream",
     "text": [
      "['Date', 'Low', 'Open', 'Volume', 'High', 'Close', 'Adjusted Close']"
     ]
    }
   ],
   "source": [
    "df.columns"
   ]
  },
  {
   "cell_type": "code",
   "execution_count": 6,
   "id": "3337ee04",
   "metadata": {},
   "outputs": [
    {
     "data": {
      "application/vnd.jupyter.widget-view+json": {
       "model_id": "",
       "version_major": 2,
       "version_minor": 0
      },
      "text/plain": [
       "FloatProgress(value=0.0, bar_style='info', description='Progress:', layout=Layout(height='25px', width='50%'),…"
      ]
     },
     "metadata": {},
     "output_type": "display_data"
    }
   ],
   "source": [
    "from pyspark.sql.functions import *"
   ]
  },
  {
   "cell_type": "code",
   "execution_count": 7,
   "id": "6f192c0f",
   "metadata": {},
   "outputs": [
    {
     "data": {
      "application/vnd.jupyter.widget-view+json": {
       "model_id": "",
       "version_major": 2,
       "version_minor": 0
      },
      "text/plain": [
       "FloatProgress(value=0.0, bar_style='info', description='Progress:', layout=Layout(height='25px', width='50%'),…"
      ]
     },
     "metadata": {},
     "output_type": "display_data"
    }
   ],
   "source": [
    "# create a new column \n",
    "df = df.withColumn(\"Date_dt\", df[\"Date\"])"
   ]
  },
  {
   "cell_type": "code",
   "execution_count": 8,
   "id": "b35b36e3",
   "metadata": {},
   "outputs": [
    {
     "data": {
      "application/vnd.jupyter.widget-view+json": {
       "model_id": "",
       "version_major": 2,
       "version_minor": 0
      },
      "text/plain": [
       "FloatProgress(value=0.0, bar_style='info', description='Progress:', layout=Layout(height='25px', width='50%'),…"
      ]
     },
     "metadata": {},
     "output_type": "display_data"
    },
    {
     "name": "stdout",
     "output_type": "stream",
     "text": [
      "['Date', 'Low', 'Open', 'Volume', 'High', 'Close', 'Adjusted Close', 'Date_dt']"
     ]
    }
   ],
   "source": [
    "df.columns"
   ]
  },
  {
   "cell_type": "code",
   "execution_count": 9,
   "id": "09e97e11",
   "metadata": {},
   "outputs": [
    {
     "data": {
      "application/vnd.jupyter.widget-view+json": {
       "model_id": "",
       "version_major": 2,
       "version_minor": 0
      },
      "text/plain": [
       "FloatProgress(value=0.0, bar_style='info', description='Progress:', layout=Layout(height='25px', width='50%'),…"
      ]
     },
     "metadata": {},
     "output_type": "display_data"
    }
   ],
   "source": [
    "df = df.withColumn(\"Date_dt\", to_date(col('Date'), \"dd-MM-yyyy\"))"
   ]
  },
  {
   "cell_type": "code",
   "execution_count": 10,
   "id": "69565bcc",
   "metadata": {},
   "outputs": [
    {
     "data": {
      "application/vnd.jupyter.widget-view+json": {
       "model_id": "",
       "version_major": 2,
       "version_minor": 0
      },
      "text/plain": [
       "FloatProgress(value=0.0, bar_style='info', description='Progress:', layout=Layout(height='25px', width='50%'),…"
      ]
     },
     "metadata": {},
     "output_type": "display_data"
    },
    {
     "name": "stdout",
     "output_type": "stream",
     "text": [
      "+----------+------------------+------------------+-------+------------------+------------------+------------------+----------+\n",
      "|      Date|               Low|              Open| Volume|              High|             Close|    Adjusted Close|   Date_dt|\n",
      "+----------+------------------+------------------+-------+------------------+------------------+------------------+----------+\n",
      "|27-09-2005|19.100000381469727|21.049999237060547| 961200|21.399999618530273|19.299999237060547|18.194910049438477|2005-09-27|\n",
      "|28-09-2005|19.200000762939453|19.299999237060547|5747900|20.530000686645508|              20.5|19.326204299926758|2005-09-28|\n",
      "|29-09-2005|20.100000381469727|20.399999618530273|1078200|20.579999923706055|20.209999084472656| 19.05280303955078|2005-09-29|\n",
      "|30-09-2005| 20.18000030517578|20.260000228881836|3123300|21.049999237060547|21.010000228881836|19.806997299194336|2005-09-30|\n",
      "|03-10-2005|20.899999618530273|20.899999618530273|1057900|             21.75|              21.5|20.268939971923828|2005-10-03|\n",
      "|04-10-2005|21.440000534057617|21.440000534057617|1768800|              22.5| 22.15999984741211|20.891155242919922|2005-10-04|\n",
      "|05-10-2005|             21.75|22.100000381469727| 904300|22.309999465942383|22.200000762939453|20.928861618041992|2005-10-05|\n",
      "|06-10-2005|22.399999618530273|22.600000381469727|1614200|              23.0|22.579999923706055|  21.2871036529541|2005-10-06|\n",
      "|07-10-2005|21.799999237060547|             22.25| 753400|22.600000381469727|22.149999618530273|20.881725311279297|2005-10-07|\n",
      "|10-10-2005|22.100000381469727|22.280000686645508| 538700|22.290000915527344|22.209999084472656| 20.93828773498535|2005-10-10|\n",
      "|11-10-2005|21.799999237060547|22.260000228881836| 764600|22.299999237060547|21.979999542236328|20.721452713012695|2005-10-11|\n",
      "|12-10-2005|21.639999389648438|21.899999618530273| 912900|22.049999237060547|21.760000228881836| 20.51405143737793|2005-10-12|\n",
      "|13-10-2005|21.399999618530273|21.700000762939453| 531300|21.799999237060547|21.709999084472656|20.466915130615234|2005-10-13|\n",
      "|14-10-2005|21.850000381469727|21.850000381469727| 887800|22.399999618530273|22.270000457763672| 20.99485206604004|2005-10-14|\n",
      "|17-10-2005|21.850000381469727|22.149999618530273| 464000|22.219999313354492|22.079999923706055| 20.81573486328125|2005-10-17|\n",
      "|18-10-2005|21.350000381469727|22.059999465942383|1815500|22.299999237060547|21.489999771118164| 20.25951385498047|2005-10-18|\n",
      "|19-10-2005|20.850000381469727|  21.3700008392334|1466000|21.600000381469727|  21.3799991607666|20.155813217163086|2005-10-19|\n",
      "|20-10-2005|20.850000381469727|21.350000381469727| 640900|21.479999542236328|21.020000457763672|19.816425323486328|2005-10-20|\n",
      "|21-10-2005|21.010000228881836|21.020000457763672| 917000|22.420000076293945|21.959999084472656|20.702604293823242|2005-10-21|\n",
      "|24-10-2005|21.950000762939453|22.010000228881836| 508800|22.360000610351562|22.309999465942383|21.032560348510742|2005-10-24|\n",
      "+----------+------------------+------------------+-------+------------------+------------------+------------------+----------+\n",
      "only showing top 20 rows"
     ]
    }
   ],
   "source": [
    "df.show()"
   ]
  },
  {
   "cell_type": "markdown",
   "id": "0b59144c",
   "metadata": {},
   "source": [
    "### 1.3. Convert the \"high\" column to cents (create a newcolumn high_cent)"
   ]
  },
  {
   "cell_type": "code",
   "execution_count": 11,
   "id": "fae47cd9",
   "metadata": {},
   "outputs": [
    {
     "data": {
      "application/vnd.jupyter.widget-view+json": {
       "model_id": "",
       "version_major": 2,
       "version_minor": 0
      },
      "text/plain": [
       "FloatProgress(value=0.0, bar_style='info', description='Progress:', layout=Layout(height='25px', width='50%'),…"
      ]
     },
     "metadata": {},
     "output_type": "display_data"
    }
   ],
   "source": [
    "# create a new column by copying an existing column\n",
    "df = df.withColumn(\"High_cent\", df.High*100)"
   ]
  },
  {
   "cell_type": "code",
   "execution_count": 12,
   "id": "c6c7f2f5",
   "metadata": {},
   "outputs": [
    {
     "data": {
      "application/vnd.jupyter.widget-view+json": {
       "model_id": "",
       "version_major": 2,
       "version_minor": 0
      },
      "text/plain": [
       "FloatProgress(value=0.0, bar_style='info', description='Progress:', layout=Layout(height='25px', width='50%'),…"
      ]
     },
     "metadata": {},
     "output_type": "display_data"
    },
    {
     "name": "stdout",
     "output_type": "stream",
     "text": [
      "+----------+------------------+------------------+-------+------------------+------------------+------------------+----------+------------------+\n",
      "|      Date|               Low|              Open| Volume|              High|             Close|    Adjusted Close|   Date_dt|         High_cent|\n",
      "+----------+------------------+------------------+-------+------------------+------------------+------------------+----------+------------------+\n",
      "|27-09-2005|19.100000381469727|21.049999237060547| 961200|21.399999618530273|19.299999237060547|18.194910049438477|2005-09-27|2139.9999618530273|\n",
      "|28-09-2005|19.200000762939453|19.299999237060547|5747900|20.530000686645508|              20.5|19.326204299926758|2005-09-28| 2053.000068664551|\n",
      "|29-09-2005|20.100000381469727|20.399999618530273|1078200|20.579999923706055|20.209999084472656| 19.05280303955078|2005-09-29|2057.9999923706055|\n",
      "|30-09-2005| 20.18000030517578|20.260000228881836|3123300|21.049999237060547|21.010000228881836|19.806997299194336|2005-09-30|2104.9999237060547|\n",
      "|03-10-2005|20.899999618530273|20.899999618530273|1057900|             21.75|              21.5|20.268939971923828|2005-10-03|            2175.0|\n",
      "+----------+------------------+------------------+-------+------------------+------------------+------------------+----------+------------------+\n",
      "only showing top 5 rows"
     ]
    }
   ],
   "source": [
    "df.show(5)"
   ]
  },
  {
   "cell_type": "markdown",
   "id": "d1b00bdb",
   "metadata": {},
   "source": [
    "### 1.4. Print the top 10 stocks"
   ]
  },
  {
   "cell_type": "code",
   "execution_count": 13,
   "id": "eccb1f2e",
   "metadata": {},
   "outputs": [
    {
     "data": {
      "application/vnd.jupyter.widget-view+json": {
       "model_id": "",
       "version_major": 2,
       "version_minor": 0
      },
      "text/plain": [
       "FloatProgress(value=0.0, bar_style='info', description='Progress:', layout=Layout(height='25px', width='50%'),…"
      ]
     },
     "metadata": {},
     "output_type": "display_data"
    },
    {
     "name": "stdout",
     "output_type": "stream",
     "text": [
      "+----------+-----------------+-----------------+--------+------------------+------------------+------------------+----------+------------------+\n",
      "|      Date|              Low|             Open|  Volume|              High|             Close|    Adjusted Close|   Date_dt|         High_cent|\n",
      "+----------+-----------------+-----------------+--------+------------------+------------------+------------------+----------+------------------+\n",
      "|20-01-2011|9.670000076293945|9.979999542236328| 7261600|10.300000190734863|             10.25| 9.663102149963379|2011-01-20|1030.0000190734863|\n",
      "|01-02-2011| 9.90999984741211|9.970000267028809| 7210700|10.130000114440918|  9.90999984741211| 9.342570304870605|2011-02-01|1013.0000114440918|\n",
      "|29-12-2010|9.850000381469727|9.949999809265137| 2678200| 10.15999984741211|10.140000343322754| 9.559399604797363|2010-12-29|1015.9999847412109|\n",
      "|09-02-2011|9.760000228881836|9.949999809265137| 5590900| 9.960000038146973| 9.880000114440918| 9.314288139343262|2011-02-09| 996.0000038146973|\n",
      "|19-10-2010|9.850000381469727|  9.9399995803833| 8197200|10.239999771118164| 10.09000015258789| 9.512261390686035|2010-10-19|1023.9999771118164|\n",
      "|17-08-2012|9.899999618530273|  9.9399995803833| 7573800| 10.09000015258789|10.079999923706055|  9.50283432006836|2012-08-17|1009.0000152587891|\n",
      "|08-08-2012|  9.8100004196167|9.930000305175781| 9183300|  10.6899995803833|10.399999618530273| 9.804512977600098|2012-08-08|  1068.99995803833|\n",
      "|27-12-2010|9.800000190734863|9.930000305175781| 2038000| 9.930000305175781| 9.869999885559082|  9.30485725402832|2010-12-27| 993.0000305175781|\n",
      "|22-06-2010|9.329999923706055|9.920000076293945|13328000|10.149999618530273| 9.470000267028809| 8.927762985229492|2010-06-22|1014.9999618530273|\n",
      "|11-05-2020| 9.59000015258789|9.920000076293945|48705900|             10.25|10.100000381469727|10.100000381469727|2020-05-11|            1025.0|\n",
      "+----------+-----------------+-----------------+--------+------------------+------------------+------------------+----------+------------------+\n",
      "only showing top 10 rows"
     ]
    }
   ],
   "source": [
    "#df.sort(\"Open\").show(10) # can only sort in asc order \n",
    "\n",
    "df.orderBy(df.Open.desc()).show(10) # --> nice try, but the numbers are evaluated by the first number.. not by the actual value"
   ]
  },
  {
   "cell_type": "code",
   "execution_count": 14,
   "id": "975b7a41",
   "metadata": {},
   "outputs": [
    {
     "data": {
      "application/vnd.jupyter.widget-view+json": {
       "model_id": "",
       "version_major": 2,
       "version_minor": 0
      },
      "text/plain": [
       "FloatProgress(value=0.0, bar_style='info', description='Progress:', layout=Layout(height='25px', width='50%'),…"
      ]
     },
     "metadata": {},
     "output_type": "display_data"
    },
    {
     "name": "stdout",
     "output_type": "stream",
     "text": [
      "root\n",
      " |-- Open: string (nullable = true)"
     ]
    }
   ],
   "source": [
    "# check data type\n",
    "df.select('Open').printSchema()\n",
    "\n",
    "# its string --> convert to float"
   ]
  },
  {
   "cell_type": "code",
   "execution_count": 15,
   "id": "d4c1b0f0",
   "metadata": {},
   "outputs": [
    {
     "data": {
      "application/vnd.jupyter.widget-view+json": {
       "model_id": "",
       "version_major": 2,
       "version_minor": 0
      },
      "text/plain": [
       "FloatProgress(value=0.0, bar_style='info', description='Progress:', layout=Layout(height='25px', width='50%'),…"
      ]
     },
     "metadata": {},
     "output_type": "display_data"
    },
    {
     "name": "stdout",
     "output_type": "stream",
     "text": [
      "root\n",
      " |-- Date: string (nullable = true)\n",
      " |-- Low: string (nullable = true)\n",
      " |-- Open: double (nullable = true)\n",
      " |-- Volume: string (nullable = true)\n",
      " |-- High: string (nullable = true)\n",
      " |-- Close: string (nullable = true)\n",
      " |-- Adjusted Close: string (nullable = true)\n",
      " |-- Date_dt: date (nullable = true)\n",
      " |-- High_cent: double (nullable = true)"
     ]
    }
   ],
   "source": [
    "# https://sparkbyexamples.com/pyspark/pyspark-convert-string-type-to-double-type-float-type/ \n",
    "from pyspark.sql.types import DoubleType \n",
    "df = df.withColumn(\"Open\", df.Open.cast(DoubleType()))\n",
    "df.printSchema()"
   ]
  },
  {
   "cell_type": "code",
   "execution_count": 16,
   "id": "a4e0c037",
   "metadata": {},
   "outputs": [
    {
     "data": {
      "application/vnd.jupyter.widget-view+json": {
       "model_id": "",
       "version_major": 2,
       "version_minor": 0
      },
      "text/plain": [
       "FloatProgress(value=0.0, bar_style='info', description='Progress:', layout=Layout(height='25px', width='50%'),…"
      ]
     },
     "metadata": {},
     "output_type": "display_data"
    },
    {
     "name": "stdout",
     "output_type": "stream",
     "text": [
      "+----------+------------------+------------------+-------+------------------+------------------+------------------+----------+-----------------+\n",
      "|      Date|               Low|              Open| Volume|              High|             Close|    Adjusted Close|   Date_dt|        High_cent|\n",
      "+----------+------------------+------------------+-------+------------------+------------------+------------------+----------+-----------------+\n",
      "|27-11-2006|58.779998779296875| 62.70000076293945|1693400| 62.79999923706055| 59.15999984741211|  55.7725715637207|2006-11-27|6279.999923706055|\n",
      "|24-11-2006|              62.0| 62.04999923706055| 664600| 63.27000045776367| 62.95000076293945| 59.34557342529297|2006-11-24|6327.000045776367|\n",
      "|22-11-2006|60.810001373291016|61.400001525878906|2583800|63.099998474121094| 62.95000076293945| 59.34557342529297|2006-11-22|6309.999847412109|\n",
      "|13-12-2006|58.630001068115234| 61.33000183105469|3147200| 62.45000076293945|             59.25| 55.85742950439453|2006-12-13|6245.000076293945|\n",
      "|12-01-2007|60.599998474121094| 61.20000076293945|1759800|              62.5|60.810001373291016| 57.32810592651367|2007-01-12|           6250.0|\n",
      "|12-12-2006|58.599998474121094| 61.04999923706055|1940000| 61.11000061035156|59.459999084472656| 56.05540466308594|2006-12-12|6111.000061035156|\n",
      "|17-01-2007| 58.38999938964844|60.959999084472656|2097900| 61.88999938964844|58.650001525878906|55.291786193847656|2007-01-17|6188.999938964844|\n",
      "|16-01-2007|60.810001373291016|60.810001373291016|1722600|62.099998474121094|61.959999084472656| 58.41225814819336|2007-01-16|6209.999847412109|\n",
      "|11-12-2006|60.029998779296875|60.720001220703125|2009400| 62.70000076293945|61.560001373291016|58.035160064697266|2006-12-11|6270.000076293945|\n",
      "|17-11-2006|58.599998474121094| 60.61000061035156|4009400| 60.61000061035156| 59.45000076293945|56.045989990234375|2006-11-17|6061.000061035156|\n",
      "+----------+------------------+------------------+-------+------------------+------------------+------------------+----------+-----------------+\n",
      "only showing top 10 rows"
     ]
    }
   ],
   "source": [
    "df.orderBy(df.Open.desc()).show(10)"
   ]
  },
  {
   "cell_type": "markdown",
   "id": "13ee094f",
   "metadata": {},
   "source": [
    "### 1.5. Save the dataframe locally as parquet"
   ]
  },
  {
   "cell_type": "code",
   "execution_count": 17,
   "id": "edcf7aed",
   "metadata": {},
   "outputs": [
    {
     "data": {
      "application/vnd.jupyter.widget-view+json": {
       "model_id": "",
       "version_major": 2,
       "version_minor": 0
      },
      "text/plain": [
       "FloatProgress(value=0.0, bar_style='info', description='Progress:', layout=Layout(height='25px', width='50%'),…"
      ]
     },
     "metadata": {},
     "output_type": "display_data"
    }
   ],
   "source": [
    "df = df.withColumnRenamed(\"Adjusted Close\", \"Adjusted_close\")"
   ]
  },
  {
   "cell_type": "code",
   "execution_count": 18,
   "id": "e4d642d8",
   "metadata": {},
   "outputs": [
    {
     "data": {
      "application/vnd.jupyter.widget-view+json": {
       "model_id": "",
       "version_major": 2,
       "version_minor": 0
      },
      "text/plain": [
       "FloatProgress(value=0.0, bar_style='info', description='Progress:', layout=Layout(height='25px', width='50%'),…"
      ]
     },
     "metadata": {},
     "output_type": "display_data"
    }
   ],
   "source": [
    "# https://www.ibm.com/support/pages/how-do-you-write-spark-dataframe-parquet-file-format-cloud-object-storage\n",
    "df.write.parquet(\"/media/ubi20/SanDisk/code/data_engineer/03_module_etl2_spark/spark_basics.parquet\")"
   ]
  },
  {
   "cell_type": "code",
   "execution_count": 19,
   "id": "a61b3001",
   "metadata": {},
   "outputs": [
    {
     "data": {
      "application/vnd.jupyter.widget-view+json": {
       "model_id": "",
       "version_major": 2,
       "version_minor": 0
      },
      "text/plain": [
       "FloatProgress(value=0.0, bar_style='info', description='Progress:', layout=Layout(height='25px', width='50%'),…"
      ]
     },
     "metadata": {},
     "output_type": "display_data"
    }
   ],
   "source": [
    "df.write.mode(\"overwrite\").parquet(\"stocks.parquet\")"
   ]
  },
  {
   "cell_type": "markdown",
   "id": "f53ae441",
   "metadata": {},
   "source": [
    "### 1.6. Read the saved data as rdd and multiply every \"High\" values by 2"
   ]
  },
  {
   "cell_type": "code",
   "execution_count": 20,
   "id": "8e08e378",
   "metadata": {},
   "outputs": [
    {
     "data": {
      "application/vnd.jupyter.widget-view+json": {
       "model_id": "",
       "version_major": 2,
       "version_minor": 0
      },
      "text/plain": [
       "FloatProgress(value=0.0, bar_style='info', description='Progress:', layout=Layout(height='25px', width='50%'),…"
      ]
     },
     "metadata": {},
     "output_type": "display_data"
    }
   ],
   "source": [
    "df_parquet = spark.read.parquet(\"stocks.parquet\")"
   ]
  },
  {
   "cell_type": "code",
   "execution_count": 21,
   "id": "0a75c35f",
   "metadata": {},
   "outputs": [
    {
     "data": {
      "application/vnd.jupyter.widget-view+json": {
       "model_id": "",
       "version_major": 2,
       "version_minor": 0
      },
      "text/plain": [
       "FloatProgress(value=0.0, bar_style='info', description='Progress:', layout=Layout(height='25px', width='50%'),…"
      ]
     },
     "metadata": {},
     "output_type": "display_data"
    },
    {
     "name": "stdout",
     "output_type": "stream",
     "text": [
      "+----------+------------------+------------------+-------+------------------+------------------+------------------+----------+------------------+\n",
      "|      Date|               Low|              Open| Volume|              High|             Close|    Adjusted_close|   Date_dt|         High_cent|\n",
      "+----------+------------------+------------------+-------+------------------+------------------+------------------+----------+------------------+\n",
      "|27-09-2005|19.100000381469727|21.049999237060547| 961200|21.399999618530273|19.299999237060547|18.194910049438477|2005-09-27|2139.9999618530273|\n",
      "|28-09-2005|19.200000762939453|19.299999237060547|5747900|20.530000686645508|              20.5|19.326204299926758|2005-09-28| 2053.000068664551|\n",
      "|29-09-2005|20.100000381469727|20.399999618530273|1078200|20.579999923706055|20.209999084472656| 19.05280303955078|2005-09-29|2057.9999923706055|\n",
      "|30-09-2005| 20.18000030517578|20.260000228881836|3123300|21.049999237060547|21.010000228881836|19.806997299194336|2005-09-30|2104.9999237060547|\n",
      "|03-10-2005|20.899999618530273|20.899999618530273|1057900|             21.75|              21.5|20.268939971923828|2005-10-03|            2175.0|\n",
      "|04-10-2005|21.440000534057617|21.440000534057617|1768800|              22.5| 22.15999984741211|20.891155242919922|2005-10-04|            2250.0|\n",
      "|05-10-2005|             21.75|22.100000381469727| 904300|22.309999465942383|22.200000762939453|20.928861618041992|2005-10-05|2230.9999465942383|\n",
      "|06-10-2005|22.399999618530273|22.600000381469727|1614200|              23.0|22.579999923706055|  21.2871036529541|2005-10-06|            2300.0|\n",
      "|07-10-2005|21.799999237060547|             22.25| 753400|22.600000381469727|22.149999618530273|20.881725311279297|2005-10-07|2260.0000381469727|\n",
      "|10-10-2005|22.100000381469727|22.280000686645508| 538700|22.290000915527344|22.209999084472656| 20.93828773498535|2005-10-10|2229.0000915527344|\n",
      "|11-10-2005|21.799999237060547|22.260000228881836| 764600|22.299999237060547|21.979999542236328|20.721452713012695|2005-10-11|2229.9999237060547|\n",
      "|12-10-2005|21.639999389648438|21.899999618530273| 912900|22.049999237060547|21.760000228881836| 20.51405143737793|2005-10-12|2204.9999237060547|\n",
      "|13-10-2005|21.399999618530273|21.700000762939453| 531300|21.799999237060547|21.709999084472656|20.466915130615234|2005-10-13|2179.9999237060547|\n",
      "|14-10-2005|21.850000381469727|21.850000381469727| 887800|22.399999618530273|22.270000457763672| 20.99485206604004|2005-10-14|2239.9999618530273|\n",
      "|17-10-2005|21.850000381469727|22.149999618530273| 464000|22.219999313354492|22.079999923706055| 20.81573486328125|2005-10-17| 2221.999931335449|\n",
      "|18-10-2005|21.350000381469727|22.059999465942383|1815500|22.299999237060547|21.489999771118164| 20.25951385498047|2005-10-18|2229.9999237060547|\n",
      "|19-10-2005|20.850000381469727|  21.3700008392334|1466000|21.600000381469727|  21.3799991607666|20.155813217163086|2005-10-19|2160.0000381469727|\n",
      "|20-10-2005|20.850000381469727|21.350000381469727| 640900|21.479999542236328|21.020000457763672|19.816425323486328|2005-10-20| 2147.999954223633|\n",
      "|21-10-2005|21.010000228881836|21.020000457763672| 917000|22.420000076293945|21.959999084472656|20.702604293823242|2005-10-21|2242.0000076293945|\n",
      "|24-10-2005|21.950000762939453|22.010000228881836| 508800|22.360000610351562|22.309999465942383|21.032560348510742|2005-10-24|2236.0000610351562|\n",
      "+----------+------------------+------------------+-------+------------------+------------------+------------------+----------+------------------+\n",
      "only showing top 20 rows"
     ]
    }
   ],
   "source": [
    "df_parquet.show()"
   ]
  },
  {
   "cell_type": "code",
   "execution_count": 22,
   "id": "b9feea7e",
   "metadata": {},
   "outputs": [
    {
     "data": {
      "application/vnd.jupyter.widget-view+json": {
       "model_id": "",
       "version_major": 2,
       "version_minor": 0
      },
      "text/plain": [
       "FloatProgress(value=0.0, bar_style='info', description='Progress:', layout=Layout(height='25px', width='50%'),…"
      ]
     },
     "metadata": {},
     "output_type": "display_data"
    }
   ],
   "source": [
    "rdd = spark.sparkContext.textFile(\"s3a://aws-stocks-dataset/AAL.csv\")"
   ]
  },
  {
   "cell_type": "code",
   "execution_count": 23,
   "id": "a4ae2e76",
   "metadata": {},
   "outputs": [
    {
     "data": {
      "application/vnd.jupyter.widget-view+json": {
       "model_id": "",
       "version_major": 2,
       "version_minor": 0
      },
      "text/plain": [
       "FloatProgress(value=0.0, bar_style='info', description='Progress:', layout=Layout(height='25px', width='50%'),…"
      ]
     },
     "metadata": {},
     "output_type": "display_data"
    },
    {
     "name": "stdout",
     "output_type": "stream",
     "text": [
      "PythonRDD[45] at RDD at PythonRDD.scala:53"
     ]
    }
   ],
   "source": [
    "sc.textFile(\"s3a://aws-stocks-dataset/AAL.csv\").map(lambda line: line.split(\",\"))"
   ]
  },
  {
   "cell_type": "code",
   "execution_count": 24,
   "id": "e02fff1d",
   "metadata": {},
   "outputs": [
    {
     "data": {
      "application/vnd.jupyter.widget-view+json": {
       "model_id": "",
       "version_major": 2,
       "version_minor": 0
      },
      "text/plain": [
       "FloatProgress(value=0.0, bar_style='info', description='Progress:', layout=Layout(height='25px', width='50%'),…"
      ]
     },
     "metadata": {},
     "output_type": "display_data"
    },
    {
     "name": "stdout",
     "output_type": "stream",
     "text": [
      "['Date,Low,Open,Volume,High,Close,Adjusted Close', '27-09-2005,19.100000381469727,21.049999237060547,961200,21.399999618530273,19.299999237060547,18.194910049438477', '28-09-2005,19.200000762939453,19.299999237060547,5747900,20.530000686645508,20.5,19.326204299926758', '29-09-2005,20.100000381469727,20.399999618530273,1078200,20.579999923706055,20.209999084472656,19.05280303955078', '30-09-2005,20.18000030517578,20.260000228881836,3123300,21.049999237060547,21.010000228881836,19.806997299194336', '03-10-2005,20.899999618530273,20.899999618530273,1057900,21.75,21.5,20.268939971923828', '04-10-2005,21.440000534057617,21.440000534057617,1768800,22.5,22.15999984741211,20.891155242919922', '05-10-2005,21.75,22.100000381469727,904300,22.309999465942383,22.200000762939453,20.928861618041992', '06-10-2005,22.399999618530273,22.600000381469727,1614200,23.0,22.579999923706055,21.2871036529541', '07-10-2005,21.799999237060547,22.25,753400,22.600000381469727,22.149999618530273,20.881725311279297']"
     ]
    }
   ],
   "source": [
    "rdd.take(10)"
   ]
  },
  {
   "cell_type": "markdown",
   "id": "a8a9c7ae",
   "metadata": {},
   "source": [
    "### 1.7. Read the data and try to query and filter it with Spark SQL"
   ]
  },
  {
   "cell_type": "code",
   "execution_count": 27,
   "id": "91c822ea",
   "metadata": {},
   "outputs": [
    {
     "data": {
      "application/vnd.jupyter.widget-view+json": {
       "model_id": "",
       "version_major": 2,
       "version_minor": 0
      },
      "text/plain": [
       "FloatProgress(value=0.0, bar_style='info', description='Progress:', layout=Layout(height='25px', width='50%'),…"
      ]
     },
     "metadata": {},
     "output_type": "display_data"
    }
   ],
   "source": [
    "# rdd.collect()"
   ]
  },
  {
   "cell_type": "code",
   "execution_count": null,
   "id": "4ee0b8fa",
   "metadata": {},
   "outputs": [],
   "source": []
  },
  {
   "cell_type": "code",
   "execution_count": 25,
   "id": "5635cdd4",
   "metadata": {},
   "outputs": [
    {
     "data": {
      "application/vnd.jupyter.widget-view+json": {
       "model_id": "",
       "version_major": 2,
       "version_minor": 0
      },
      "text/plain": [
       "FloatProgress(value=0.0, bar_style='info', description='Progress:', layout=Layout(height='25px', width='50%'),…"
      ]
     },
     "metadata": {},
     "output_type": "display_data"
    }
   ],
   "source": [
    "df = spark.read.option(\"header\",\"true\").csv(\"s3a://aws-stocks-dataset/\").limit(100000)"
   ]
  },
  {
   "cell_type": "code",
   "execution_count": 26,
   "id": "369f8575",
   "metadata": {},
   "outputs": [
    {
     "data": {
      "application/vnd.jupyter.widget-view+json": {
       "model_id": "",
       "version_major": 2,
       "version_minor": 0
      },
      "text/plain": [
       "FloatProgress(value=0.0, bar_style='info', description='Progress:', layout=Layout(height='25px', width='50%'),…"
      ]
     },
     "metadata": {},
     "output_type": "display_data"
    },
    {
     "name": "stdout",
     "output_type": "stream",
     "text": [
      "+----------+-------------------+------------------+------+-------------------+-------------------+-------------------+\n",
      "|      Date|                Low|              Open|Volume|               High|              Close|     Adjusted Close|\n",
      "+----------+-------------------+------------------+------+-------------------+-------------------+-------------------+\n",
      "|21-02-1973|0.39506199955940247|               0.0| 15188|0.39506199955940247|0.39506199955940247|0.39506199955940247|\n",
      "|22-02-1973| 0.3703700006008148|               0.0|  9113| 0.3703700006008148| 0.3703700006008148| 0.3703700006008148|\n",
      "|23-02-1973|0.34567898511886597|               0.0|  3038|0.34567898511886597|0.34567898511886597|0.34567898511886597|\n",
      "|26-02-1973|0.34567898511886597|               0.0|  1519|0.34567898511886597|0.34567898511886597|0.34567898511886597|\n",
      "|27-02-1973|0.34567898511886597|               0.0| 29869|0.34567898511886597|0.34567898511886597|0.34567898511886597|\n",
      "|28-02-1973|0.34567898511886597|               0.0|  1519|0.34567898511886597|0.34567898511886597|0.34567898511886597|\n",
      "|01-03-1973| 0.3209879994392395|               0.0| 18225| 0.3209879994392395| 0.3209879994392395| 0.3209879994392395|\n",
      "|02-03-1973| 0.3209879994392395|               0.0| 20250| 0.3209879994392395| 0.3209879994392395| 0.3209879994392395|\n",
      "|05-03-1973|0.34567898511886597|               0.0|  6075|0.34567898511886597|0.34567898511886597|0.34567898511886597|\n",
      "|06-03-1973| 0.3209879994392395|               0.0|  1519| 0.3209879994392395| 0.3209879994392395| 0.3209879994392395|\n",
      "|07-03-1973|0.34567898511886597|               0.0|  8100|0.34567898511886597|0.34567898511886597|0.34567898511886597|\n",
      "|08-03-1973| 0.3209879994392395|               0.0|  7088| 0.3209879994392395| 0.3209879994392395| 0.3209879994392395|\n",
      "|09-03-1973| 0.3209879994392395|               0.0| 10125| 0.3209879994392395| 0.3209879994392395| 0.3209879994392395|\n",
      "|12-03-1973| 0.3703700006008148|               0.0| 20250| 0.3703700006008148| 0.3703700006008148| 0.3703700006008148|\n",
      "|13-03-1973| 0.3703700006008148|               0.0| 15188| 0.3703700006008148| 0.3703700006008148| 0.3703700006008148|\n",
      "|14-03-1973|0.34567898511886597|               0.0|  5569|0.34567898511886597|0.34567898511886597|0.34567898511886597|\n",
      "|15-03-1973| 0.3209879994392395|               0.0|  3038| 0.3209879994392395| 0.3209879994392395| 0.3209879994392395|\n",
      "|16-03-1973| 0.3209879994392395|0.3209879994392395|     0| 0.3209879994392395| 0.3209879994392395| 0.3209879994392395|\n",
      "|19-03-1973| 0.3209879994392395|               0.0|  7088| 0.3209879994392395| 0.3209879994392395| 0.3209879994392395|\n",
      "|20-03-1973| 0.3209879994392395|               0.0|  1519| 0.3209879994392395| 0.3209879994392395| 0.3209879994392395|\n",
      "+----------+-------------------+------------------+------+-------------------+-------------------+-------------------+\n",
      "only showing top 20 rows"
     ]
    }
   ],
   "source": [
    "df.show()"
   ]
  },
  {
   "cell_type": "code",
   "execution_count": 27,
   "id": "447e4fb9",
   "metadata": {},
   "outputs": [
    {
     "data": {
      "application/vnd.jupyter.widget-view+json": {
       "model_id": "",
       "version_major": 2,
       "version_minor": 0
      },
      "text/plain": [
       "FloatProgress(value=0.0, bar_style='info', description='Progress:', layout=Layout(height='25px', width='50%'),…"
      ]
     },
     "metadata": {},
     "output_type": "display_data"
    }
   ],
   "source": [
    "df = df.withColumn(\"Date_dt\", to_date(col('Date'), \"YYYY-MM-DD\"))"
   ]
  },
  {
   "cell_type": "code",
   "execution_count": 28,
   "id": "76d1e66c",
   "metadata": {},
   "outputs": [
    {
     "data": {
      "application/vnd.jupyter.widget-view+json": {
       "model_id": "",
       "version_major": 2,
       "version_minor": 0
      },
      "text/plain": [
       "FloatProgress(value=0.0, bar_style='info', description='Progress:', layout=Layout(height='25px', width='50%'),…"
      ]
     },
     "metadata": {},
     "output_type": "display_data"
    },
    {
     "name": "stdout",
     "output_type": "stream",
     "text": [
      "+----------+-------------------+----+------+-------------------+-------------------+-------------------+-------+\n",
      "|      Date|                Low|Open|Volume|               High|              Close|     Adjusted Close|Date_dt|\n",
      "+----------+-------------------+----+------+-------------------+-------------------+-------------------+-------+\n",
      "|21-02-1973|0.39506199955940247| 0.0| 15188|0.39506199955940247|0.39506199955940247|0.39506199955940247|   null|\n",
      "|22-02-1973| 0.3703700006008148| 0.0|  9113| 0.3703700006008148| 0.3703700006008148| 0.3703700006008148|   null|\n",
      "|23-02-1973|0.34567898511886597| 0.0|  3038|0.34567898511886597|0.34567898511886597|0.34567898511886597|   null|\n",
      "|26-02-1973|0.34567898511886597| 0.0|  1519|0.34567898511886597|0.34567898511886597|0.34567898511886597|   null|\n",
      "|27-02-1973|0.34567898511886597| 0.0| 29869|0.34567898511886597|0.34567898511886597|0.34567898511886597|   null|\n",
      "+----------+-------------------+----+------+-------------------+-------------------+-------------------+-------+\n",
      "only showing top 5 rows"
     ]
    }
   ],
   "source": [
    "df.show(5)"
   ]
  },
  {
   "cell_type": "code",
   "execution_count": null,
   "id": "5481dbf7",
   "metadata": {},
   "outputs": [],
   "source": []
  }
 ],
 "metadata": {
  "kernelspec": {
   "display_name": "PySpark",
   "language": "",
   "name": "pysparkkernel"
  },
  "language_info": {
   "codemirror_mode": {
    "name": "python",
    "version": 3
   },
   "mimetype": "text/x-python",
   "name": "pyspark",
   "pygments_lexer": "python3"
  }
 },
 "nbformat": 4,
 "nbformat_minor": 5
}
